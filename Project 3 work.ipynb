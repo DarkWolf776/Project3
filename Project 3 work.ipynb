{
 "cells": [
  {
   "cell_type": "code",
   "execution_count": 40,
   "id": "04b0398c",
   "metadata": {},
   "outputs": [],
   "source": [
    "#!mongoimport --type csv -d Project_3 -c video_game_sales --drop --jsonArray /Data/SQL Video_Game_Sales.csv\n",
    "#!mongoimport --type csv -d Project_3 -c video_games --drop --jsonArray /Data/SQL video_games_rating.csv\n"
   ]
  },
  {
   "cell_type": "code",
   "execution_count": 41,
   "id": "6ced3493",
   "metadata": {},
   "outputs": [],
   "source": [
    "import pymongo\n",
    "from pymongo import MongoClient\n",
    "import pandas as pd\n",
    "from pprint import pprint \n",
    "import matplotlib.pyplot as plt\n",
    "import seaborn as sns\n",
    "import plotly.express as px"
   ]
  },
  {
   "cell_type": "code",
   "execution_count": 42,
   "id": "9ee6e41e",
   "metadata": {},
   "outputs": [],
   "source": [
    "mongo = MongoClient(port=27017)"
   ]
  },
  {
   "cell_type": "code",
   "execution_count": 43,
   "id": "8ea96246",
   "metadata": {},
   "outputs": [
    {
     "name": "stdout",
     "output_type": "stream",
     "text": [
      "['Homework1', 'Project_3', 'admin', 'classDB', 'config', 'fruits_db', 'local', 'met', 'petsitly_marketing', 'uk_food']\n"
     ]
    }
   ],
   "source": [
    "print(mongo.list_database_names())"
   ]
  },
  {
   "cell_type": "code",
   "execution_count": 44,
   "id": "ec95f7dc",
   "metadata": {},
   "outputs": [],
   "source": [
    "db = mongo['Project_3']"
   ]
  },
  {
   "cell_type": "code",
   "execution_count": 45,
   "id": "32b31b14",
   "metadata": {},
   "outputs": [
    {
     "name": "stdout",
     "output_type": "stream",
     "text": [
      "['video_games', 'video_game_sales']\n"
     ]
    }
   ],
   "source": [
    "print(db.list_collection_names())"
   ]
  },
  {
   "cell_type": "code",
   "execution_count": 46,
   "id": "bb235a12",
   "metadata": {},
   "outputs": [],
   "source": [
    "video_games = db['video_games']"
   ]
  },
  {
   "cell_type": "code",
   "execution_count": 47,
   "id": "73984799",
   "metadata": {},
   "outputs": [
    {
     "name": "stdout",
     "output_type": "stream",
     "text": [
      "{'_id': ObjectId('6584da747aadc9acb05e6192'),\n",
      " 'name': 'The Legend of Zelda: Ocarina of Time',\n",
      " 'platform': ' Nintendo 64',\n",
      " 'release_date': '23-Nov-98',\n",
      " 'summary': 'As a young boy, Link is tricked by Ganondorf, the King of the '\n",
      "            'Gerudo Thieves. The evil human uses Link to gain access to the '\n",
      "            'Sacred Realm, where he places his tainted hands on Triforce and '\n",
      "            'transforms the beautiful Hyrulean landscape into a barren '\n",
      "            'wasteland. Link is determined to fix the problems he helped to '\n",
      "            'create, so with the help of Rauru he travels through time '\n",
      "            'gathering the powers of the Seven Sages.',\n",
      " 'user_review': 9.1}\n"
     ]
    }
   ],
   "source": [
    "pprint(db.video_games.find_one())"
   ]
  },
  {
   "cell_type": "code",
   "execution_count": 48,
   "id": "9483b182",
   "metadata": {},
   "outputs": [
    {
     "name": "stdout",
     "output_type": "stream",
     "text": [
      "Number of documents where user_review is 'tbd': 0\n"
     ]
    }
   ],
   "source": [
    "count_tbd = video_games.count_documents({'user_review': 'tbd'})\n",
    "\n",
    "print(f\"Number of documents where user_review is 'tbd': {count_tbd}\")"
   ]
  },
  {
   "cell_type": "code",
   "execution_count": 49,
   "id": "0fbf41e2",
   "metadata": {},
   "outputs": [
    {
     "name": "stdout",
     "output_type": "stream",
     "text": [
      "0 documents with user review 'tbd' have been deleted.\n",
      "{'_id': 'Saints Row IV: Re-Elected', 'mean_user_review': 7.2}\n",
      "{'_id': 'Skylanders Swap Force', 'mean_user_review': 5.86}\n",
      "{'_id': 'Mercenaries', 'mean_user_review': 8.75}\n",
      "{'_id': 'Dynasty Warriors 3', 'mean_user_review': 8.8}\n",
      "{'_id': 'City Life 2008 Edition', 'mean_user_review': 7.6}\n"
     ]
    }
   ],
   "source": [
    "# Delete documents with user_review equal to \"tbd\"\n",
    "result = video_games.delete_many({'user_review': 'tbd'})\n",
    "print(f\"{result.deleted_count} documents with user review 'tbd' have been deleted.\")\n",
    "# Now, retrieve the remaining documents and perform aggregation\n",
    "pipeline = [\n",
    "    {\n",
    "        '$group': {\n",
    "            '_id': '$name',\n",
    "            'mean_user_review': {'$avg': '$user_review'}\n",
    "        }\n",
    "    }\n",
    "]\n",
    "\n",
    "result_after_deletion = list(video_games.aggregate(pipeline))\n",
    "\n",
    "for item in result_after_deletion[:5]:\n",
    "    pprint(item)"
   ]
  },
  {
   "cell_type": "code",
   "execution_count": 50,
   "id": "9273f968",
   "metadata": {},
   "outputs": [],
   "source": [
    "documents_with_tbd = video_games.find({'user_review': 'tbd'})\n",
    "\n",
    "# Print or process the matching documents\n",
    "for document in documents_with_tbd:\n",
    "    print(document)"
   ]
  },
  {
   "cell_type": "code",
   "execution_count": 51,
   "id": "5fba173c",
   "metadata": {},
   "outputs": [
    {
     "data": {
      "text/html": [
       "<div>\n",
       "<style scoped>\n",
       "    .dataframe tbody tr th:only-of-type {\n",
       "        vertical-align: middle;\n",
       "    }\n",
       "\n",
       "    .dataframe tbody tr th {\n",
       "        vertical-align: top;\n",
       "    }\n",
       "\n",
       "    .dataframe thead th {\n",
       "        text-align: right;\n",
       "    }\n",
       "</style>\n",
       "<table border=\"1\" class=\"dataframe\">\n",
       "  <thead>\n",
       "    <tr style=\"text-align: right;\">\n",
       "      <th></th>\n",
       "      <th>_id</th>\n",
       "      <th>mean_user_review</th>\n",
       "    </tr>\n",
       "  </thead>\n",
       "  <tbody>\n",
       "    <tr>\n",
       "      <th>0</th>\n",
       "      <td>Saints Row IV: Re-Elected</td>\n",
       "      <td>7.20</td>\n",
       "    </tr>\n",
       "    <tr>\n",
       "      <th>1</th>\n",
       "      <td>Skylanders Swap Force</td>\n",
       "      <td>5.86</td>\n",
       "    </tr>\n",
       "    <tr>\n",
       "      <th>2</th>\n",
       "      <td>Mercenaries</td>\n",
       "      <td>8.75</td>\n",
       "    </tr>\n",
       "    <tr>\n",
       "      <th>3</th>\n",
       "      <td>Dynasty Warriors 3</td>\n",
       "      <td>8.80</td>\n",
       "    </tr>\n",
       "    <tr>\n",
       "      <th>4</th>\n",
       "      <td>City Life 2008 Edition</td>\n",
       "      <td>7.60</td>\n",
       "    </tr>\n",
       "    <tr>\n",
       "      <th>5</th>\n",
       "      <td>Football Manager 2018</td>\n",
       "      <td>6.00</td>\n",
       "    </tr>\n",
       "    <tr>\n",
       "      <th>6</th>\n",
       "      <td>True Swing Golf</td>\n",
       "      <td>7.70</td>\n",
       "    </tr>\n",
       "    <tr>\n",
       "      <th>7</th>\n",
       "      <td>Thunderstrike: Operation Phoenix</td>\n",
       "      <td>8.20</td>\n",
       "    </tr>\n",
       "    <tr>\n",
       "      <th>8</th>\n",
       "      <td>San Francisco Rush 2049</td>\n",
       "      <td>8.60</td>\n",
       "    </tr>\n",
       "    <tr>\n",
       "      <th>9</th>\n",
       "      <td>The Evil Within: The Executioner</td>\n",
       "      <td>6.40</td>\n",
       "    </tr>\n",
       "    <tr>\n",
       "      <th>10</th>\n",
       "      <td>Rengoku: The Tower of Purgatory</td>\n",
       "      <td>6.10</td>\n",
       "    </tr>\n",
       "    <tr>\n",
       "      <th>11</th>\n",
       "      <td>Disney Art Academy</td>\n",
       "      <td>7.10</td>\n",
       "    </tr>\n",
       "    <tr>\n",
       "      <th>12</th>\n",
       "      <td>Rollers of the Realm</td>\n",
       "      <td>7.30</td>\n",
       "    </tr>\n",
       "    <tr>\n",
       "      <th>13</th>\n",
       "      <td>Those Who Remain</td>\n",
       "      <td>5.40</td>\n",
       "    </tr>\n",
       "    <tr>\n",
       "      <th>14</th>\n",
       "      <td>EVE: Valkyrie</td>\n",
       "      <td>5.70</td>\n",
       "    </tr>\n",
       "  </tbody>\n",
       "</table>\n",
       "</div>"
      ],
      "text/plain": [
       "                                 _id  mean_user_review\n",
       "0          Saints Row IV: Re-Elected              7.20\n",
       "1              Skylanders Swap Force              5.86\n",
       "2                        Mercenaries              8.75\n",
       "3                 Dynasty Warriors 3              8.80\n",
       "4             City Life 2008 Edition              7.60\n",
       "5              Football Manager 2018              6.00\n",
       "6                    True Swing Golf              7.70\n",
       "7   Thunderstrike: Operation Phoenix              8.20\n",
       "8            San Francisco Rush 2049              8.60\n",
       "9   The Evil Within: The Executioner              6.40\n",
       "10   Rengoku: The Tower of Purgatory              6.10\n",
       "11                Disney Art Academy              7.10\n",
       "12              Rollers of the Realm              7.30\n",
       "13                  Those Who Remain              5.40\n",
       "14                     EVE: Valkyrie              5.70"
      ]
     },
     "execution_count": 51,
     "metadata": {},
     "output_type": "execute_result"
    }
   ],
   "source": [
    "cleaned_df = pd.DataFrame(result_after_deletion)\n",
    "cleaned_df.head(15)"
   ]
  },
  {
   "cell_type": "code",
   "execution_count": 52,
   "id": "34f7cd7e",
   "metadata": {},
   "outputs": [
    {
     "data": {
      "text/html": [
       "<div>\n",
       "<style scoped>\n",
       "    .dataframe tbody tr th:only-of-type {\n",
       "        vertical-align: middle;\n",
       "    }\n",
       "\n",
       "    .dataframe tbody tr th {\n",
       "        vertical-align: top;\n",
       "    }\n",
       "\n",
       "    .dataframe thead th {\n",
       "        text-align: right;\n",
       "    }\n",
       "</style>\n",
       "<table border=\"1\" class=\"dataframe\">\n",
       "  <thead>\n",
       "    <tr style=\"text-align: right;\">\n",
       "      <th></th>\n",
       "      <th>Video Game</th>\n",
       "      <th>Average Rating</th>\n",
       "    </tr>\n",
       "  </thead>\n",
       "  <tbody>\n",
       "    <tr>\n",
       "      <th>0</th>\n",
       "      <td>Saints Row IV: Re-Elected</td>\n",
       "      <td>7.20</td>\n",
       "    </tr>\n",
       "    <tr>\n",
       "      <th>1</th>\n",
       "      <td>Skylanders Swap Force</td>\n",
       "      <td>5.86</td>\n",
       "    </tr>\n",
       "    <tr>\n",
       "      <th>2</th>\n",
       "      <td>Mercenaries</td>\n",
       "      <td>8.75</td>\n",
       "    </tr>\n",
       "    <tr>\n",
       "      <th>3</th>\n",
       "      <td>Dynasty Warriors 3</td>\n",
       "      <td>8.80</td>\n",
       "    </tr>\n",
       "    <tr>\n",
       "      <th>4</th>\n",
       "      <td>City Life 2008 Edition</td>\n",
       "      <td>7.60</td>\n",
       "    </tr>\n",
       "    <tr>\n",
       "      <th>5</th>\n",
       "      <td>Football Manager 2018</td>\n",
       "      <td>6.00</td>\n",
       "    </tr>\n",
       "    <tr>\n",
       "      <th>6</th>\n",
       "      <td>True Swing Golf</td>\n",
       "      <td>7.70</td>\n",
       "    </tr>\n",
       "    <tr>\n",
       "      <th>7</th>\n",
       "      <td>Thunderstrike: Operation Phoenix</td>\n",
       "      <td>8.20</td>\n",
       "    </tr>\n",
       "    <tr>\n",
       "      <th>8</th>\n",
       "      <td>San Francisco Rush 2049</td>\n",
       "      <td>8.60</td>\n",
       "    </tr>\n",
       "    <tr>\n",
       "      <th>9</th>\n",
       "      <td>The Evil Within: The Executioner</td>\n",
       "      <td>6.40</td>\n",
       "    </tr>\n",
       "    <tr>\n",
       "      <th>10</th>\n",
       "      <td>Rengoku: The Tower of Purgatory</td>\n",
       "      <td>6.10</td>\n",
       "    </tr>\n",
       "    <tr>\n",
       "      <th>11</th>\n",
       "      <td>Disney Art Academy</td>\n",
       "      <td>7.10</td>\n",
       "    </tr>\n",
       "    <tr>\n",
       "      <th>12</th>\n",
       "      <td>Rollers of the Realm</td>\n",
       "      <td>7.30</td>\n",
       "    </tr>\n",
       "    <tr>\n",
       "      <th>13</th>\n",
       "      <td>Those Who Remain</td>\n",
       "      <td>5.40</td>\n",
       "    </tr>\n",
       "    <tr>\n",
       "      <th>14</th>\n",
       "      <td>EVE: Valkyrie</td>\n",
       "      <td>5.70</td>\n",
       "    </tr>\n",
       "  </tbody>\n",
       "</table>\n",
       "</div>"
      ],
      "text/plain": [
       "                          Video Game  Average Rating\n",
       "0          Saints Row IV: Re-Elected            7.20\n",
       "1              Skylanders Swap Force            5.86\n",
       "2                        Mercenaries            8.75\n",
       "3                 Dynasty Warriors 3            8.80\n",
       "4             City Life 2008 Edition            7.60\n",
       "5              Football Manager 2018            6.00\n",
       "6                    True Swing Golf            7.70\n",
       "7   Thunderstrike: Operation Phoenix            8.20\n",
       "8            San Francisco Rush 2049            8.60\n",
       "9   The Evil Within: The Executioner            6.40\n",
       "10   Rengoku: The Tower of Purgatory            6.10\n",
       "11                Disney Art Academy            7.10\n",
       "12              Rollers of the Realm            7.30\n",
       "13                  Those Who Remain            5.40\n",
       "14                     EVE: Valkyrie            5.70"
      ]
     },
     "execution_count": 52,
     "metadata": {},
     "output_type": "execute_result"
    }
   ],
   "source": [
    "cleaned_df['mean_user_review'] = cleaned_df['mean_user_review'].round(2)\n",
    "cleaned_df = cleaned_df.rename(columns={'_id': 'Video Game'})\n",
    "cleaned_df = cleaned_df.rename(columns={'mean_user_review': 'Average Rating'})\n",
    "\n",
    "cleaned_df.head(15)"
   ]
  },
  {
   "cell_type": "code",
   "execution_count": 53,
   "id": "e8988322",
   "metadata": {
    "scrolled": false
   },
   "outputs": [
    {
     "data": {
      "text/html": [
       "<div>\n",
       "<style scoped>\n",
       "    .dataframe tbody tr th:only-of-type {\n",
       "        vertical-align: middle;\n",
       "    }\n",
       "\n",
       "    .dataframe tbody tr th {\n",
       "        vertical-align: top;\n",
       "    }\n",
       "\n",
       "    .dataframe thead th {\n",
       "        text-align: right;\n",
       "    }\n",
       "</style>\n",
       "<table border=\"1\" class=\"dataframe\">\n",
       "  <thead>\n",
       "    <tr style=\"text-align: right;\">\n",
       "      <th></th>\n",
       "      <th>Video Game</th>\n",
       "      <th>Average Rating</th>\n",
       "    </tr>\n",
       "  </thead>\n",
       "  <tbody>\n",
       "    <tr>\n",
       "      <th>1237</th>\n",
       "      <td>GrimGrimoire</td>\n",
       "      <td>9.70</td>\n",
       "    </tr>\n",
       "    <tr>\n",
       "      <th>6513</th>\n",
       "      <td>Ghost Trick: Phantom Detective</td>\n",
       "      <td>9.70</td>\n",
       "    </tr>\n",
       "    <tr>\n",
       "      <th>7632</th>\n",
       "      <td>Tengami</td>\n",
       "      <td>9.70</td>\n",
       "    </tr>\n",
       "    <tr>\n",
       "      <th>4762</th>\n",
       "      <td>Z.H.P. Unlosing Ranger vs Darkdeath Evilman</td>\n",
       "      <td>9.70</td>\n",
       "    </tr>\n",
       "    <tr>\n",
       "      <th>3361</th>\n",
       "      <td>Metal Torrent</td>\n",
       "      <td>9.70</td>\n",
       "    </tr>\n",
       "    <tr>\n",
       "      <th>11166</th>\n",
       "      <td>Crystar</td>\n",
       "      <td>9.60</td>\n",
       "    </tr>\n",
       "    <tr>\n",
       "      <th>2217</th>\n",
       "      <td>Diaries of a Spaceport Janitor</td>\n",
       "      <td>9.60</td>\n",
       "    </tr>\n",
       "    <tr>\n",
       "      <th>5479</th>\n",
       "      <td>Astro's Playroom</td>\n",
       "      <td>9.30</td>\n",
       "    </tr>\n",
       "    <tr>\n",
       "      <th>6904</th>\n",
       "      <td>The Witcher 3: Wild Hunt</td>\n",
       "      <td>9.27</td>\n",
       "    </tr>\n",
       "    <tr>\n",
       "      <th>8978</th>\n",
       "      <td>Metal Gear Solid 3: Snake Eater</td>\n",
       "      <td>9.20</td>\n",
       "    </tr>\n",
       "    <tr>\n",
       "      <th>9293</th>\n",
       "      <td>Pokemon SoulSilver Version</td>\n",
       "      <td>9.20</td>\n",
       "    </tr>\n",
       "    <tr>\n",
       "      <th>4161</th>\n",
       "      <td>Planescape: Torment</td>\n",
       "      <td>9.20</td>\n",
       "    </tr>\n",
       "    <tr>\n",
       "      <th>3273</th>\n",
       "      <td>The Witcher 3: Wild Hunt - Blood and Wine</td>\n",
       "      <td>9.20</td>\n",
       "    </tr>\n",
       "    <tr>\n",
       "      <th>6095</th>\n",
       "      <td>Xenogears</td>\n",
       "      <td>9.20</td>\n",
       "    </tr>\n",
       "    <tr>\n",
       "      <th>9168</th>\n",
       "      <td>Half-Life 2: Episode Two</td>\n",
       "      <td>9.20</td>\n",
       "    </tr>\n",
       "  </tbody>\n",
       "</table>\n",
       "</div>"
      ],
      "text/plain": [
       "                                        Video Game  Average Rating\n",
       "1237                                  GrimGrimoire            9.70\n",
       "6513                Ghost Trick: Phantom Detective            9.70\n",
       "7632                                       Tengami            9.70\n",
       "4762   Z.H.P. Unlosing Ranger vs Darkdeath Evilman            9.70\n",
       "3361                                 Metal Torrent            9.70\n",
       "11166                                      Crystar            9.60\n",
       "2217                Diaries of a Spaceport Janitor            9.60\n",
       "5479                              Astro's Playroom            9.30\n",
       "6904                      The Witcher 3: Wild Hunt            9.27\n",
       "8978               Metal Gear Solid 3: Snake Eater            9.20\n",
       "9293                    Pokemon SoulSilver Version            9.20\n",
       "4161                           Planescape: Torment            9.20\n",
       "3273     The Witcher 3: Wild Hunt - Blood and Wine            9.20\n",
       "6095                                     Xenogears            9.20\n",
       "9168                      Half-Life 2: Episode Two            9.20"
      ]
     },
     "execution_count": 53,
     "metadata": {},
     "output_type": "execute_result"
    }
   ],
   "source": [
    "top_games = cleaned_df.sort_values(by='Average Rating', ascending=False)\n",
    "top_games.head(15)"
   ]
  },
  {
   "cell_type": "code",
   "execution_count": 58,
   "id": "673c8f48",
   "metadata": {},
   "outputs": [
    {
     "data": {
      "image/png": "[encoded data removed]",
      "text/plain": [
       "<Figure size 1000x600 with 1 Axes>"
      ]
     },
     "metadata": {},
     "output_type": "display_data"
    }
   ],
   "source": [
    "plt.figure(figsize=(10, 6))\n",
    "plt.bar(top_games['Video Game'].head(15), top_games['Average Rating'].head(15), color='skyblue')\n",
    "plt.xlabel('Video Game')\n",
    "plt.ylabel('Average Rating')\n",
    "plt.title('Top 15 Video Games by Average Rating')\n",
    "\n",
    "# Rotate x-axis labels for better readability\n",
    "plt.xticks(rotation=45, ha='right')\n",
    "\n",
    "# Save the plot as a JPEG image\n",
    "plt.savefig('Charts/top_games_chart.jpg', format='jpeg', bbox_inches='tight')"
   ]
  },
  {
   "cell_type": "code",
   "execution_count": 59,
   "id": "49aad2ad",
   "metadata": {},
   "outputs": [
    {
     "data": {
      "text/html": [
       "<div>\n",
       "<style scoped>\n",
       "    .dataframe tbody tr th:only-of-type {\n",
       "        vertical-align: middle;\n",
       "    }\n",
       "\n",
       "    .dataframe tbody tr th {\n",
       "        vertical-align: top;\n",
       "    }\n",
       "\n",
       "    .dataframe thead th {\n",
       "        text-align: right;\n",
       "    }\n",
       "</style>\n",
       "<table border=\"1\" class=\"dataframe\">\n",
       "  <thead>\n",
       "    <tr style=\"text-align: right;\">\n",
       "      <th></th>\n",
       "      <th>Video Game</th>\n",
       "      <th>Average Rating</th>\n",
       "    </tr>\n",
       "  </thead>\n",
       "  <tbody>\n",
       "    <tr>\n",
       "      <th>7624</th>\n",
       "      <td>Madden NFL 21</td>\n",
       "      <td>0.35</td>\n",
       "    </tr>\n",
       "    <tr>\n",
       "      <th>4622</th>\n",
       "      <td>Madden NFL 22</td>\n",
       "      <td>0.55</td>\n",
       "    </tr>\n",
       "    <tr>\n",
       "      <th>5673</th>\n",
       "      <td>Warcraft III: Reforged</td>\n",
       "      <td>0.60</td>\n",
       "    </tr>\n",
       "    <tr>\n",
       "      <th>8318</th>\n",
       "      <td>FIFA 20: Legacy Edition</td>\n",
       "      <td>0.70</td>\n",
       "    </tr>\n",
       "    <tr>\n",
       "      <th>1849</th>\n",
       "      <td>When Ski Lifts Go Wrong</td>\n",
       "      <td>1.00</td>\n",
       "    </tr>\n",
       "    <tr>\n",
       "      <th>6858</th>\n",
       "      <td>The Sims 4: Star Wars - Journey to Batuu</td>\n",
       "      <td>1.00</td>\n",
       "    </tr>\n",
       "    <tr>\n",
       "      <th>4827</th>\n",
       "      <td>FIFA 21</td>\n",
       "      <td>1.07</td>\n",
       "    </tr>\n",
       "    <tr>\n",
       "      <th>4490</th>\n",
       "      <td>Call of Duty: Modern Warfare 3 - Defiance</td>\n",
       "      <td>1.20</td>\n",
       "    </tr>\n",
       "    <tr>\n",
       "      <th>1784</th>\n",
       "      <td>Fast &amp; Furious: Showdown</td>\n",
       "      <td>1.30</td>\n",
       "    </tr>\n",
       "    <tr>\n",
       "      <th>9223</th>\n",
       "      <td>FIFA 20</td>\n",
       "      <td>1.30</td>\n",
       "    </tr>\n",
       "    <tr>\n",
       "      <th>2558</th>\n",
       "      <td>Legends of Pegasus</td>\n",
       "      <td>1.30</td>\n",
       "    </tr>\n",
       "    <tr>\n",
       "      <th>1151</th>\n",
       "      <td>WWE 2K20</td>\n",
       "      <td>1.35</td>\n",
       "    </tr>\n",
       "    <tr>\n",
       "      <th>8346</th>\n",
       "      <td>Fimbul</td>\n",
       "      <td>1.50</td>\n",
       "    </tr>\n",
       "    <tr>\n",
       "      <th>3924</th>\n",
       "      <td>Dragon Ball: Evolution</td>\n",
       "      <td>1.50</td>\n",
       "    </tr>\n",
       "    <tr>\n",
       "      <th>9823</th>\n",
       "      <td>Wild West Online</td>\n",
       "      <td>1.50</td>\n",
       "    </tr>\n",
       "  </tbody>\n",
       "</table>\n",
       "</div>"
      ],
      "text/plain": [
       "                                     Video Game  Average Rating\n",
       "7624                              Madden NFL 21            0.35\n",
       "4622                              Madden NFL 22            0.55\n",
       "5673                     Warcraft III: Reforged            0.60\n",
       "8318                    FIFA 20: Legacy Edition            0.70\n",
       "1849                    When Ski Lifts Go Wrong            1.00\n",
       "6858   The Sims 4: Star Wars - Journey to Batuu            1.00\n",
       "4827                                    FIFA 21            1.07\n",
       "4490  Call of Duty: Modern Warfare 3 - Defiance            1.20\n",
       "1784                   Fast & Furious: Showdown            1.30\n",
       "9223                                    FIFA 20            1.30\n",
       "2558                         Legends of Pegasus            1.30\n",
       "1151                                   WWE 2K20            1.35\n",
       "8346                                     Fimbul            1.50\n",
       "3924                     Dragon Ball: Evolution            1.50\n",
       "9823                           Wild West Online            1.50"
      ]
     },
     "execution_count": 59,
     "metadata": {},
     "output_type": "execute_result"
    }
   ],
   "source": [
    "bottom_games = cleaned_df.sort_values(by='Average Rating', ascending=True)\n",
    "bottom_games.head(15)"
   ]
  },
  {
   "cell_type": "code",
   "execution_count": 60,
   "id": "35a504d3",
   "metadata": {},
   "outputs": [
    {
     "data": {
      "image/png": "[encoded data removed]",
      "text/plain": [
       "<Figure size 1000x600 with 1 Axes>"
      ]
     },
     "metadata": {},
     "output_type": "display_data"
    }
   ],
   "source": [
    "plt.figure(figsize=(10, 6))\n",
    "plt.bar(bottom_games['Video Game'].head(15), bottom_games['Average Rating'].head(15), color='skyblue')\n",
    "plt.xlabel('Video Game')\n",
    "plt.ylabel('Average Rating')\n",
    "plt.title('Bottom 15 Video Games by Average Rating')\n",
    "\n",
    "# Rotate x-axis labels for better readability\n",
    "plt.xticks(rotation=45, ha='right')\n",
    "\n",
    "# Save the plot as a JPEG image\n",
    "plt.savefig('Charts/bottom_games.jpg', format='jpeg', bbox_inches='tight')"
   ]
  },
  {
   "cell_type": "code",
   "execution_count": 16,
   "id": "efa3d3a0",
   "metadata": {},
   "outputs": [
    {
     "name": "stdout",
     "output_type": "stream",
     "text": [
      "['video_games', 'video_game_sales']\n"
     ]
    }
   ],
   "source": [
    "print(db.list_collection_names())"
   ]
  },
  {
   "cell_type": "code",
   "execution_count": 17,
   "id": "9f858499",
   "metadata": {},
   "outputs": [],
   "source": [
    "video_game_sales = db['video_game_sales']"
   ]
  },
  {
   "cell_type": "code",
   "execution_count": 18,
   "id": "b7107636",
   "metadata": {},
   "outputs": [
    {
     "name": "stdout",
     "output_type": "stream",
     "text": [
      "{'EU_Sales': 29.02,\n",
      " 'Genre': 'Sports',\n",
      " 'Global_Sales': 82.74,\n",
      " 'JP_Sales': 3.77,\n",
      " 'NA_Sales': 41.49,\n",
      " 'Name': 'Wii Sports',\n",
      " 'Other_Sales': 8.46,\n",
      " 'Platform': 'Wii',\n",
      " 'Publisher': 'Nintendo',\n",
      " 'Rank': 1,\n",
      " 'Year': 2006,\n",
      " '_id': ObjectId('6584da927aadc9acb05eab02')}\n"
     ]
    }
   ],
   "source": [
    "pprint(db.video_game_sales.find_one())"
   ]
  },
  {
   "cell_type": "code",
   "execution_count": 19,
   "id": "51dd5aa9",
   "metadata": {},
   "outputs": [
    {
     "name": "stdout",
     "output_type": "stream",
     "text": [
      "271 documents with year 'N/A' have been deleted.\n",
      "{'Total Global Sales': 1.9500000000000002, '_id': 'Dynasty Warriors 3'}\n",
      "{'Total Global Sales': 0.06, '_id': 'Hi Hi Puffy AmiYumi: Kaznapped'}\n",
      "{'Total Global Sales': 0.02, '_id': 'Escape the Emerald Star'}\n",
      "{'Total Global Sales': 0.16, '_id': 'True Swing Golf'}\n",
      "{'Total Global Sales': 0.15, '_id': 'Farm Frenzy: Animal Country'}\n"
     ]
    }
   ],
   "source": [
    "result2 = video_game_sales.delete_many({'Year': 'N/A'})\n",
    "print(f\"{result2.deleted_count} documents with year 'N/A' have been deleted.\")\n",
    "pipeline = [\n",
    "    {\n",
    "        '$group': {\n",
    "            '_id': '$Name',\n",
    "            'Total Global Sales': {'$sum': '$Global_Sales'}\n",
    "        }\n",
    "    }\n",
    "]\n",
    "\n",
    "global_sales = list(video_game_sales.aggregate(pipeline))\n",
    "\n",
    "for item in global_sales[:5]:\n",
    "    pprint(item)"
   ]
  },
  {
   "cell_type": "code",
   "execution_count": 20,
   "id": "d35b5bcf",
   "metadata": {},
   "outputs": [
    {
     "data": {
      "text/html": [
       "<div>\n",
       "<style scoped>\n",
       "    .dataframe tbody tr th:only-of-type {\n",
       "        vertical-align: middle;\n",
       "    }\n",
       "\n",
       "    .dataframe tbody tr th {\n",
       "        vertical-align: top;\n",
       "    }\n",
       "\n",
       "    .dataframe thead th {\n",
       "        text-align: right;\n",
       "    }\n",
       "</style>\n",
       "<table border=\"1\" class=\"dataframe\">\n",
       "  <thead>\n",
       "    <tr style=\"text-align: right;\">\n",
       "      <th></th>\n",
       "      <th>Video Game</th>\n",
       "      <th>Total Global Sales</th>\n",
       "    </tr>\n",
       "  </thead>\n",
       "  <tbody>\n",
       "    <tr>\n",
       "      <th>7622</th>\n",
       "      <td>Wii Sports</td>\n",
       "      <td>82.74</td>\n",
       "    </tr>\n",
       "    <tr>\n",
       "      <th>2448</th>\n",
       "      <td>Grand Theft Auto V</td>\n",
       "      <td>55.92</td>\n",
       "    </tr>\n",
       "    <tr>\n",
       "      <th>1334</th>\n",
       "      <td>Super Mario Bros.</td>\n",
       "      <td>45.31</td>\n",
       "    </tr>\n",
       "    <tr>\n",
       "      <th>11155</th>\n",
       "      <td>Tetris</td>\n",
       "      <td>35.84</td>\n",
       "    </tr>\n",
       "    <tr>\n",
       "      <th>9429</th>\n",
       "      <td>Mario Kart Wii</td>\n",
       "      <td>35.82</td>\n",
       "    </tr>\n",
       "    <tr>\n",
       "      <th>4663</th>\n",
       "      <td>Wii Sports Resort</td>\n",
       "      <td>33.00</td>\n",
       "    </tr>\n",
       "    <tr>\n",
       "      <th>3665</th>\n",
       "      <td>Pokemon Red/Pokemon Blue</td>\n",
       "      <td>31.37</td>\n",
       "    </tr>\n",
       "    <tr>\n",
       "      <th>5669</th>\n",
       "      <td>Call of Duty: Modern Warfare 3</td>\n",
       "      <td>30.83</td>\n",
       "    </tr>\n",
       "    <tr>\n",
       "      <th>7825</th>\n",
       "      <td>New Super Mario Bros.</td>\n",
       "      <td>30.01</td>\n",
       "    </tr>\n",
       "    <tr>\n",
       "      <th>3054</th>\n",
       "      <td>Call of Duty: Black Ops II</td>\n",
       "      <td>29.72</td>\n",
       "    </tr>\n",
       "    <tr>\n",
       "      <th>11235</th>\n",
       "      <td>Call of Duty: Black Ops</td>\n",
       "      <td>29.40</td>\n",
       "    </tr>\n",
       "    <tr>\n",
       "      <th>101</th>\n",
       "      <td>Wii Play</td>\n",
       "      <td>29.02</td>\n",
       "    </tr>\n",
       "    <tr>\n",
       "      <th>4798</th>\n",
       "      <td>New Super Mario Bros. Wii</td>\n",
       "      <td>28.62</td>\n",
       "    </tr>\n",
       "    <tr>\n",
       "      <th>6677</th>\n",
       "      <td>Duck Hunt</td>\n",
       "      <td>28.31</td>\n",
       "    </tr>\n",
       "    <tr>\n",
       "      <th>3864</th>\n",
       "      <td>Call of Duty: Ghosts</td>\n",
       "      <td>27.38</td>\n",
       "    </tr>\n",
       "  </tbody>\n",
       "</table>\n",
       "</div>"
      ],
      "text/plain": [
       "                           Video Game  Total Global Sales\n",
       "7622                       Wii Sports               82.74\n",
       "2448               Grand Theft Auto V               55.92\n",
       "1334                Super Mario Bros.               45.31\n",
       "11155                          Tetris               35.84\n",
       "9429                   Mario Kart Wii               35.82\n",
       "4663                Wii Sports Resort               33.00\n",
       "3665         Pokemon Red/Pokemon Blue               31.37\n",
       "5669   Call of Duty: Modern Warfare 3               30.83\n",
       "7825            New Super Mario Bros.               30.01\n",
       "3054       Call of Duty: Black Ops II               29.72\n",
       "11235         Call of Duty: Black Ops               29.40\n",
       "101                          Wii Play               29.02\n",
       "4798        New Super Mario Bros. Wii               28.62\n",
       "6677                        Duck Hunt               28.31\n",
       "3864             Call of Duty: Ghosts               27.38"
      ]
     },
     "execution_count": 20,
     "metadata": {},
     "output_type": "execute_result"
    }
   ],
   "source": [
    "global_df = pd.DataFrame(global_sales)\n",
    "cleaned_sales_df = global_df.rename(columns={'_id': 'Video Game'})\n",
    "top_sales = cleaned_sales_df.sort_values(by='Total Global Sales', ascending=False)\n",
    "top_sales.head(15)"
   ]
  },
  {
   "cell_type": "code",
   "execution_count": 61,
   "id": "5edda407",
   "metadata": {},
   "outputs": [
    {
     "data": {
      "image/png": "[encoded data removed]",
      "text/plain": [
       "<Figure size 1000x600 with 1 Axes>"
      ]
     },
     "metadata": {},
     "output_type": "display_data"
    }
   ],
   "source": [
    "plt.figure(figsize=(10, 6))\n",
    "plt.bar(top_sales['Video Game'].head(15), top_sales['Total Global Sales'].head(15), color='skyblue')\n",
    "plt.xlabel('Video Game')\n",
    "plt.ylabel('Total Global Sales')\n",
    "plt.title('Top 15 Video Games by Total Global Sales')\n",
    "\n",
    "# Rotate x-axis labels for better readability\n",
    "plt.xticks(rotation=45, ha='right')\n",
    "\n",
    "# Save the plot as a JPEG image\n",
    "plt.savefig('Charts/top_sales.jpg', format='jpeg', bbox_inches='tight')"
   ]
  },
  {
   "cell_type": "code",
   "execution_count": 21,
   "id": "87264ebb",
   "metadata": {},
   "outputs": [
    {
     "name": "stdout",
     "output_type": "stream",
     "text": [
      "{'Total Global Sales': 1026.2, '_id': 'Shooter'}\n",
      "{'Total Global Sales': 1722.88, '_id': 'Action'}\n",
      "{'Total Global Sales': 726.77, '_id': 'Racing'}\n",
      "{'Total Global Sales': 1309.24, '_id': 'Sports'}\n",
      "{'Total Global Sales': 829.15, '_id': 'Platform'}\n"
     ]
    }
   ],
   "source": [
    "pipeline2 = [\n",
    "    {\n",
    "        '$group': {\n",
    "            '_id': '$Genre',\n",
    "            'Total Global Sales': {'$sum': '$Global_Sales'}\n",
    "        }\n",
    "    }\n",
    "]\n",
    "\n",
    "per_category = list(video_game_sales.aggregate(pipeline2))\n",
    "\n",
    "for item in per_category[:5]:\n",
    "    pprint(item)"
   ]
  },
  {
   "cell_type": "code",
   "execution_count": 62,
   "id": "1bce74e2",
   "metadata": {},
   "outputs": [
    {
     "data": {
      "text/html": [
       "<div>\n",
       "<style scoped>\n",
       "    .dataframe tbody tr th:only-of-type {\n",
       "        vertical-align: middle;\n",
       "    }\n",
       "\n",
       "    .dataframe tbody tr th {\n",
       "        vertical-align: top;\n",
       "    }\n",
       "\n",
       "    .dataframe thead th {\n",
       "        text-align: right;\n",
       "    }\n",
       "</style>\n",
       "<table border=\"1\" class=\"dataframe\">\n",
       "  <thead>\n",
       "    <tr style=\"text-align: right;\">\n",
       "      <th></th>\n",
       "      <th>Genre</th>\n",
       "      <th>Total Global Sales</th>\n",
       "    </tr>\n",
       "  </thead>\n",
       "  <tbody>\n",
       "    <tr>\n",
       "      <th>6</th>\n",
       "      <td>Action</td>\n",
       "      <td>1722.88</td>\n",
       "    </tr>\n",
       "    <tr>\n",
       "      <th>11</th>\n",
       "      <td>Sports</td>\n",
       "      <td>1309.24</td>\n",
       "    </tr>\n",
       "    <tr>\n",
       "      <th>4</th>\n",
       "      <td>Shooter</td>\n",
       "      <td>1026.20</td>\n",
       "    </tr>\n",
       "    <tr>\n",
       "      <th>9</th>\n",
       "      <td>Role-Playing</td>\n",
       "      <td>923.84</td>\n",
       "    </tr>\n",
       "    <tr>\n",
       "      <th>0</th>\n",
       "      <td>Platform</td>\n",
       "      <td>829.15</td>\n",
       "    </tr>\n",
       "    <tr>\n",
       "      <th>2</th>\n",
       "      <td>Misc</td>\n",
       "      <td>797.62</td>\n",
       "    </tr>\n",
       "    <tr>\n",
       "      <th>1</th>\n",
       "      <td>Racing</td>\n",
       "      <td>726.77</td>\n",
       "    </tr>\n",
       "    <tr>\n",
       "      <th>7</th>\n",
       "      <td>Fighting</td>\n",
       "      <td>444.05</td>\n",
       "    </tr>\n",
       "    <tr>\n",
       "      <th>5</th>\n",
       "      <td>Simulation</td>\n",
       "      <td>390.16</td>\n",
       "    </tr>\n",
       "    <tr>\n",
       "      <th>3</th>\n",
       "      <td>Puzzle</td>\n",
       "      <td>242.22</td>\n",
       "    </tr>\n",
       "    <tr>\n",
       "      <th>8</th>\n",
       "      <td>Adventure</td>\n",
       "      <td>234.80</td>\n",
       "    </tr>\n",
       "    <tr>\n",
       "      <th>10</th>\n",
       "      <td>Strategy</td>\n",
       "      <td>173.43</td>\n",
       "    </tr>\n",
       "  </tbody>\n",
       "</table>\n",
       "</div>"
      ],
      "text/plain": [
       "           Genre  Total Global Sales\n",
       "6         Action             1722.88\n",
       "11        Sports             1309.24\n",
       "4        Shooter             1026.20\n",
       "9   Role-Playing              923.84\n",
       "0       Platform              829.15\n",
       "2           Misc              797.62\n",
       "1         Racing              726.77\n",
       "7       Fighting              444.05\n",
       "5     Simulation              390.16\n",
       "3         Puzzle              242.22\n",
       "8      Adventure              234.80\n",
       "10      Strategy              173.43"
      ]
     },
     "execution_count": 62,
     "metadata": {},
     "output_type": "execute_result"
    }
   ],
   "source": [
    "global_df_per_catergory = pd.DataFrame(per_category)\n",
    "cleaned_sales_df_category = global_df_per_catergory.rename(columns={'_id': 'Genre'})\n",
    "top_sales_per_category = cleaned_sales_df_category.sort_values(by='Total Global Sales', ascending=False)\n",
    "top_sales_per_category.head(15)"
   ]
  },
  {
   "cell_type": "code",
   "execution_count": 63,
   "id": "760e16a2",
   "metadata": {},
   "outputs": [
    {
     "data": {
      "image/png": "[encoded data removed]",
      "text/plain": [
       "<Figure size 1000x600 with 1 Axes>"
      ]
     },
     "metadata": {},
     "output_type": "display_data"
    }
   ],
   "source": [
    "plt.figure(figsize=(10, 6))\n",
    "plt.bar(top_sales_per_category['Genre'].head(15), top_sales_per_category['Total Global Sales'].head(15), color='skyblue')\n",
    "plt.xlabel('Genre')\n",
    "plt.ylabel('Total Global Sales')\n",
    "plt.title('Top 15 Genre by Total Global Sales')\n",
    "\n",
    "# Rotate x-axis labels for better readability\n",
    "plt.xticks(rotation=45, ha='right')\n",
    "\n",
    "# Save the plot as a JPEG image\n",
    "plt.savefig('Charts/top_sales_per_category.jpg', format='jpeg', bbox_inches='tight')"
   ]
  },
  {
   "cell_type": "code",
   "execution_count": 65,
   "id": "dafcd3cd",
   "metadata": {},
   "outputs": [
    {
     "name": "stdout",
     "output_type": "stream",
     "text": [
      "{'Total Global Sales': 818.96, '_id': 'DS'}\n",
      "{'Total Global Sales': 218.21, '_id': 'N64'}\n",
      "{'Total Global Sales': 200.05, '_id': 'SNES'}\n",
      "{'Total Global Sales': 255.05, '_id': 'PC'}\n",
      "{'Total Global Sales': 313.56, '_id': 'GBA'}\n"
     ]
    }
   ],
   "source": [
    "pipeline3 = [\n",
    "    {\n",
    "        '$group': {\n",
    "            '_id': '$Platform',\n",
    "            'Total Global Sales': {'$sum': '$Global_Sales'}\n",
    "        }\n",
    "    }\n",
    "]\n",
    "\n",
    "per_platform = list(video_game_sales.aggregate(pipeline3))\n",
    "\n",
    "for item in per_platform[:5]:\n",
    "    pprint(item)"
   ]
  },
  {
   "cell_type": "code",
   "execution_count": 66,
   "id": "43bada52",
   "metadata": {},
   "outputs": [
    {
     "data": {
      "text/html": [
       "<div>\n",
       "<style scoped>\n",
       "    .dataframe tbody tr th:only-of-type {\n",
       "        vertical-align: middle;\n",
       "    }\n",
       "\n",
       "    .dataframe tbody tr th {\n",
       "        vertical-align: top;\n",
       "    }\n",
       "\n",
       "    .dataframe thead th {\n",
       "        text-align: right;\n",
       "    }\n",
       "</style>\n",
       "<table border=\"1\" class=\"dataframe\">\n",
       "  <thead>\n",
       "    <tr style=\"text-align: right;\">\n",
       "      <th></th>\n",
       "      <th>Platform</th>\n",
       "      <th>Total Global Sales</th>\n",
       "    </tr>\n",
       "  </thead>\n",
       "  <tbody>\n",
       "    <tr>\n",
       "      <th>20</th>\n",
       "      <td>PS2</td>\n",
       "      <td>1233.46</td>\n",
       "    </tr>\n",
       "    <tr>\n",
       "      <th>11</th>\n",
       "      <td>X360</td>\n",
       "      <td>969.61</td>\n",
       "    </tr>\n",
       "    <tr>\n",
       "      <th>7</th>\n",
       "      <td>PS3</td>\n",
       "      <td>949.35</td>\n",
       "    </tr>\n",
       "    <tr>\n",
       "      <th>18</th>\n",
       "      <td>Wii</td>\n",
       "      <td>909.81</td>\n",
       "    </tr>\n",
       "    <tr>\n",
       "      <th>0</th>\n",
       "      <td>DS</td>\n",
       "      <td>818.96</td>\n",
       "    </tr>\n",
       "    <tr>\n",
       "      <th>21</th>\n",
       "      <td>PS</td>\n",
       "      <td>727.39</td>\n",
       "    </tr>\n",
       "    <tr>\n",
       "      <th>4</th>\n",
       "      <td>GBA</td>\n",
       "      <td>313.56</td>\n",
       "    </tr>\n",
       "    <tr>\n",
       "      <th>8</th>\n",
       "      <td>PSP</td>\n",
       "      <td>291.71</td>\n",
       "    </tr>\n",
       "    <tr>\n",
       "      <th>25</th>\n",
       "      <td>PS4</td>\n",
       "      <td>278.10</td>\n",
       "    </tr>\n",
       "    <tr>\n",
       "      <th>3</th>\n",
       "      <td>PC</td>\n",
       "      <td>255.05</td>\n",
       "    </tr>\n",
       "    <tr>\n",
       "      <th>22</th>\n",
       "      <td>GB</td>\n",
       "      <td>254.42</td>\n",
       "    </tr>\n",
       "    <tr>\n",
       "      <th>17</th>\n",
       "      <td>XB</td>\n",
       "      <td>252.09</td>\n",
       "    </tr>\n",
       "    <tr>\n",
       "      <th>28</th>\n",
       "      <td>NES</td>\n",
       "      <td>251.07</td>\n",
       "    </tr>\n",
       "    <tr>\n",
       "      <th>24</th>\n",
       "      <td>3DS</td>\n",
       "      <td>246.28</td>\n",
       "    </tr>\n",
       "    <tr>\n",
       "      <th>1</th>\n",
       "      <td>N64</td>\n",
       "      <td>218.21</td>\n",
       "    </tr>\n",
       "  </tbody>\n",
       "</table>\n",
       "</div>"
      ],
      "text/plain": [
       "   Platform  Total Global Sales\n",
       "20      PS2             1233.46\n",
       "11     X360              969.61\n",
       "7       PS3              949.35\n",
       "18      Wii              909.81\n",
       "0        DS              818.96\n",
       "21       PS              727.39\n",
       "4       GBA              313.56\n",
       "8       PSP              291.71\n",
       "25      PS4              278.10\n",
       "3        PC              255.05\n",
       "22       GB              254.42\n",
       "17       XB              252.09\n",
       "28      NES              251.07\n",
       "24      3DS              246.28\n",
       "1       N64              218.21"
      ]
     },
     "execution_count": 66,
     "metadata": {},
     "output_type": "execute_result"
    }
   ],
   "source": [
    "global_df_per_platform = pd.DataFrame(per_platform)\n",
    "cleaned_sales_df_platform = global_df_per_platform.rename(columns={'_id': 'Platform'})\n",
    "top_sales_per_platform = cleaned_sales_df_platform.sort_values(by='Total Global Sales', ascending=False)\n",
    "top_sales_per_platform.head(15)"
   ]
  },
  {
   "cell_type": "code",
   "execution_count": 67,
   "id": "1332240e",
   "metadata": {},
   "outputs": [
    {
     "data": {
      "image/png": "[encoded data removed]",
      "text/plain": [
       "<Figure size 1000x600 with 1 Axes>"
      ]
     },
     "metadata": {},
     "output_type": "display_data"
    }
   ],
   "source": [
    "plt.figure(figsize=(10, 6))\n",
    "plt.bar(top_sales_per_platform['Platform'].head(15), top_sales_per_platform['Total Global Sales'].head(15), color='skyblue')\n",
    "plt.xlabel('Platform')\n",
    "plt.ylabel('Total Global Sales')\n",
    "plt.title('Top 15 Platforms by Total Global Sales')\n",
    "\n",
    "# Rotate x-axis labels for better readability\n",
    "plt.xticks(rotation=45, ha='right')\n",
    "\n",
    "# Save the plot as a JPEG image\n",
    "plt.savefig('Charts/top_sales_per_platform.jpg', format='jpeg', bbox_inches='tight')"
   ]
  },
  {
   "cell_type": "code",
   "execution_count": 68,
   "id": "59653c5c",
   "metadata": {},
   "outputs": [
    {
     "name": "stdout",
     "output_type": "stream",
     "text": [
      "Most Recent Date: 2020\n"
     ]
    }
   ],
   "source": [
    "# Find the document with the maximum date\n",
    "most_recent_document = video_game_sales.find_one(sort=[(\"Year\", pymongo.DESCENDING)])\n",
    "\n",
    "# Extract the most recent date from the document\n",
    "most_recent_date = most_recent_document[\"Year\"]\n",
    "\n",
    "print(\"Most Recent Date:\", most_recent_date)\n"
   ]
  },
  {
   "cell_type": "code",
   "execution_count": 69,
   "id": "6b661310",
   "metadata": {},
   "outputs": [
    {
     "data": {
      "text/html": [
       "<div>\n",
       "<style scoped>\n",
       "    .dataframe tbody tr th:only-of-type {\n",
       "        vertical-align: middle;\n",
       "    }\n",
       "\n",
       "    .dataframe tbody tr th {\n",
       "        vertical-align: top;\n",
       "    }\n",
       "\n",
       "    .dataframe thead th {\n",
       "        text-align: right;\n",
       "    }\n",
       "</style>\n",
       "<table border=\"1\" class=\"dataframe\">\n",
       "  <thead>\n",
       "    <tr style=\"text-align: right;\">\n",
       "      <th></th>\n",
       "      <th>Video Game</th>\n",
       "      <th>Average Rating</th>\n",
       "      <th>Total Global Sales</th>\n",
       "    </tr>\n",
       "  </thead>\n",
       "  <tbody>\n",
       "    <tr>\n",
       "      <th>0</th>\n",
       "      <td>Dynasty Warriors 3</td>\n",
       "      <td>8.80</td>\n",
       "      <td>1.95</td>\n",
       "    </tr>\n",
       "    <tr>\n",
       "      <th>1</th>\n",
       "      <td>True Swing Golf</td>\n",
       "      <td>7.70</td>\n",
       "      <td>0.16</td>\n",
       "    </tr>\n",
       "    <tr>\n",
       "      <th>2</th>\n",
       "      <td>Thunderstrike: Operation Phoenix</td>\n",
       "      <td>8.20</td>\n",
       "      <td>0.34</td>\n",
       "    </tr>\n",
       "    <tr>\n",
       "      <th>3</th>\n",
       "      <td>San Francisco Rush 2049</td>\n",
       "      <td>8.60</td>\n",
       "      <td>0.20</td>\n",
       "    </tr>\n",
       "    <tr>\n",
       "      <th>4</th>\n",
       "      <td>Rengoku: The Tower of Purgatory</td>\n",
       "      <td>6.10</td>\n",
       "      <td>0.11</td>\n",
       "    </tr>\n",
       "    <tr>\n",
       "      <th>5</th>\n",
       "      <td>Disney Art Academy</td>\n",
       "      <td>7.10</td>\n",
       "      <td>0.09</td>\n",
       "    </tr>\n",
       "    <tr>\n",
       "      <th>6</th>\n",
       "      <td>Dead Space 2</td>\n",
       "      <td>8.50</td>\n",
       "      <td>3.29</td>\n",
       "    </tr>\n",
       "    <tr>\n",
       "      <th>7</th>\n",
       "      <td>NHL 17</td>\n",
       "      <td>5.00</td>\n",
       "      <td>0.35</td>\n",
       "    </tr>\n",
       "    <tr>\n",
       "      <th>8</th>\n",
       "      <td>Need for Speed: Most Wanted 5-1-0</td>\n",
       "      <td>7.60</td>\n",
       "      <td>2.10</td>\n",
       "    </tr>\n",
       "    <tr>\n",
       "      <th>9</th>\n",
       "      <td>Destroy All Humans!</td>\n",
       "      <td>7.88</td>\n",
       "      <td>1.40</td>\n",
       "    </tr>\n",
       "    <tr>\n",
       "      <th>10</th>\n",
       "      <td>Tao Feng: Fist of the Lotus</td>\n",
       "      <td>6.00</td>\n",
       "      <td>0.27</td>\n",
       "    </tr>\n",
       "    <tr>\n",
       "      <th>11</th>\n",
       "      <td>Seven Samurai 20XX</td>\n",
       "      <td>7.40</td>\n",
       "      <td>0.08</td>\n",
       "    </tr>\n",
       "    <tr>\n",
       "      <th>12</th>\n",
       "      <td>Persona 4: Dancing All Night</td>\n",
       "      <td>5.40</td>\n",
       "      <td>0.46</td>\n",
       "    </tr>\n",
       "    <tr>\n",
       "      <th>13</th>\n",
       "      <td>Kid Icarus: Uprising</td>\n",
       "      <td>8.70</td>\n",
       "      <td>1.28</td>\n",
       "    </tr>\n",
       "    <tr>\n",
       "      <th>14</th>\n",
       "      <td>Top Gun: Combat Zones</td>\n",
       "      <td>4.80</td>\n",
       "      <td>1.17</td>\n",
       "    </tr>\n",
       "  </tbody>\n",
       "</table>\n",
       "</div>"
      ],
      "text/plain": [
       "                           Video Game  Average Rating  Total Global Sales\n",
       "0                  Dynasty Warriors 3            8.80                1.95\n",
       "1                     True Swing Golf            7.70                0.16\n",
       "2    Thunderstrike: Operation Phoenix            8.20                0.34\n",
       "3             San Francisco Rush 2049            8.60                0.20\n",
       "4     Rengoku: The Tower of Purgatory            6.10                0.11\n",
       "5                  Disney Art Academy            7.10                0.09\n",
       "6                        Dead Space 2            8.50                3.29\n",
       "7                              NHL 17            5.00                0.35\n",
       "8   Need for Speed: Most Wanted 5-1-0            7.60                2.10\n",
       "9                 Destroy All Humans!            7.88                1.40\n",
       "10        Tao Feng: Fist of the Lotus            6.00                0.27\n",
       "11                 Seven Samurai 20XX            7.40                0.08\n",
       "12       Persona 4: Dancing All Night            5.40                0.46\n",
       "13               Kid Icarus: Uprising            8.70                1.28\n",
       "14              Top Gun: Combat Zones            4.80                1.17"
      ]
     },
     "execution_count": 69,
     "metadata": {},
     "output_type": "execute_result"
    }
   ],
   "source": [
    "merged_df = pd.merge(cleaned_df, cleaned_sales_df, on='Video Game')\n",
    "# Print the merged DataFrame\n",
    "merged_df.head(15)"
   ]
  },
  {
   "cell_type": "code",
   "execution_count": 70,
   "id": "a08e7224",
   "metadata": {},
   "outputs": [
    {
     "data": {
      "text/html": [
       "<div>\n",
       "<style scoped>\n",
       "    .dataframe tbody tr th:only-of-type {\n",
       "        vertical-align: middle;\n",
       "    }\n",
       "\n",
       "    .dataframe tbody tr th {\n",
       "        vertical-align: top;\n",
       "    }\n",
       "\n",
       "    .dataframe thead th {\n",
       "        text-align: right;\n",
       "    }\n",
       "</style>\n",
       "<table border=\"1\" class=\"dataframe\">\n",
       "  <thead>\n",
       "    <tr style=\"text-align: right;\">\n",
       "      <th></th>\n",
       "      <th>Video Game</th>\n",
       "      <th>Average Rating</th>\n",
       "      <th>Total Global Sales</th>\n",
       "    </tr>\n",
       "  </thead>\n",
       "  <tbody>\n",
       "    <tr>\n",
       "      <th>2465</th>\n",
       "      <td>Ghost Trick: Phantom Detective</td>\n",
       "      <td>9.70</td>\n",
       "      <td>0.42</td>\n",
       "    </tr>\n",
       "    <tr>\n",
       "      <th>481</th>\n",
       "      <td>GrimGrimoire</td>\n",
       "      <td>9.70</td>\n",
       "      <td>0.05</td>\n",
       "    </tr>\n",
       "    <tr>\n",
       "      <th>2614</th>\n",
       "      <td>The Witcher 3: Wild Hunt</td>\n",
       "      <td>9.27</td>\n",
       "      <td>5.64</td>\n",
       "    </tr>\n",
       "    <tr>\n",
       "      <th>3618</th>\n",
       "      <td>Warcraft III: Reign of Chaos</td>\n",
       "      <td>9.20</td>\n",
       "      <td>0.13</td>\n",
       "    </tr>\n",
       "    <tr>\n",
       "      <th>1867</th>\n",
       "      <td>Deus Ex</td>\n",
       "      <td>9.20</td>\n",
       "      <td>0.01</td>\n",
       "    </tr>\n",
       "    <tr>\n",
       "      <th>1352</th>\n",
       "      <td>Suikoden II</td>\n",
       "      <td>9.20</td>\n",
       "      <td>0.68</td>\n",
       "    </tr>\n",
       "    <tr>\n",
       "      <th>2321</th>\n",
       "      <td>Xenogears</td>\n",
       "      <td>9.20</td>\n",
       "      <td>1.46</td>\n",
       "    </tr>\n",
       "    <tr>\n",
       "      <th>3400</th>\n",
       "      <td>Metal Gear Solid 3: Snake Eater</td>\n",
       "      <td>9.20</td>\n",
       "      <td>4.23</td>\n",
       "    </tr>\n",
       "    <tr>\n",
       "      <th>708</th>\n",
       "      <td>Warcraft III: The Frozen Throne</td>\n",
       "      <td>9.20</td>\n",
       "      <td>1.54</td>\n",
       "    </tr>\n",
       "    <tr>\n",
       "      <th>1574</th>\n",
       "      <td>Planescape: Torment</td>\n",
       "      <td>9.20</td>\n",
       "      <td>0.04</td>\n",
       "    </tr>\n",
       "    <tr>\n",
       "      <th>2573</th>\n",
       "      <td>The Last of Us</td>\n",
       "      <td>9.20</td>\n",
       "      <td>10.54</td>\n",
       "    </tr>\n",
       "    <tr>\n",
       "      <th>514</th>\n",
       "      <td>Super Smash Bros. Melee</td>\n",
       "      <td>9.10</td>\n",
       "      <td>7.07</td>\n",
       "    </tr>\n",
       "    <tr>\n",
       "      <th>1905</th>\n",
       "      <td>Chrono Trigger</td>\n",
       "      <td>9.10</td>\n",
       "      <td>3.78</td>\n",
       "    </tr>\n",
       "    <tr>\n",
       "      <th>1252</th>\n",
       "      <td>Riven: The Sequel to Myst</td>\n",
       "      <td>9.10</td>\n",
       "      <td>2.75</td>\n",
       "    </tr>\n",
       "    <tr>\n",
       "      <th>3681</th>\n",
       "      <td>God Hand</td>\n",
       "      <td>9.10</td>\n",
       "      <td>0.07</td>\n",
       "    </tr>\n",
       "  </tbody>\n",
       "</table>\n",
       "</div>"
      ],
      "text/plain": [
       "                           Video Game  Average Rating  Total Global Sales\n",
       "2465   Ghost Trick: Phantom Detective            9.70                0.42\n",
       "481                      GrimGrimoire            9.70                0.05\n",
       "2614         The Witcher 3: Wild Hunt            9.27                5.64\n",
       "3618     Warcraft III: Reign of Chaos            9.20                0.13\n",
       "1867                          Deus Ex            9.20                0.01\n",
       "1352                      Suikoden II            9.20                0.68\n",
       "2321                        Xenogears            9.20                1.46\n",
       "3400  Metal Gear Solid 3: Snake Eater            9.20                4.23\n",
       "708   Warcraft III: The Frozen Throne            9.20                1.54\n",
       "1574              Planescape: Torment            9.20                0.04\n",
       "2573                   The Last of Us            9.20               10.54\n",
       "514           Super Smash Bros. Melee            9.10                7.07\n",
       "1905                   Chrono Trigger            9.10                3.78\n",
       "1252        Riven: The Sequel to Myst            9.10                2.75\n",
       "3681                         God Hand            9.10                0.07"
      ]
     },
     "execution_count": 70,
     "metadata": {},
     "output_type": "execute_result"
    }
   ],
   "source": [
    "top_rating_merged = merged_df.sort_values(by='Average Rating', ascending=False)\n",
    "top_rating_merged.head(15)"
   ]
  },
  {
   "cell_type": "code",
   "execution_count": 71,
   "id": "aeaef074",
   "metadata": {},
   "outputs": [
    {
     "data": {
      "text/html": [
       "<div>\n",
       "<style scoped>\n",
       "    .dataframe tbody tr th:only-of-type {\n",
       "        vertical-align: middle;\n",
       "    }\n",
       "\n",
       "    .dataframe tbody tr th {\n",
       "        vertical-align: top;\n",
       "    }\n",
       "\n",
       "    .dataframe thead th {\n",
       "        text-align: right;\n",
       "    }\n",
       "</style>\n",
       "<table border=\"1\" class=\"dataframe\">\n",
       "  <thead>\n",
       "    <tr style=\"text-align: right;\">\n",
       "      <th></th>\n",
       "      <th>Video Game</th>\n",
       "      <th>Average Rating</th>\n",
       "      <th>Total Global Sales</th>\n",
       "    </tr>\n",
       "  </thead>\n",
       "  <tbody>\n",
       "    <tr>\n",
       "      <th>2880</th>\n",
       "      <td>Wii Sports</td>\n",
       "      <td>8.10</td>\n",
       "      <td>82.74</td>\n",
       "    </tr>\n",
       "    <tr>\n",
       "      <th>946</th>\n",
       "      <td>Grand Theft Auto V</td>\n",
       "      <td>8.14</td>\n",
       "      <td>55.92</td>\n",
       "    </tr>\n",
       "    <tr>\n",
       "      <th>4214</th>\n",
       "      <td>Tetris</td>\n",
       "      <td>7.50</td>\n",
       "      <td>35.84</td>\n",
       "    </tr>\n",
       "    <tr>\n",
       "      <th>3574</th>\n",
       "      <td>Mario Kart Wii</td>\n",
       "      <td>8.40</td>\n",
       "      <td>35.82</td>\n",
       "    </tr>\n",
       "    <tr>\n",
       "      <th>1787</th>\n",
       "      <td>Wii Sports Resort</td>\n",
       "      <td>8.20</td>\n",
       "      <td>33.00</td>\n",
       "    </tr>\n",
       "    <tr>\n",
       "      <th>2146</th>\n",
       "      <td>Call of Duty: Modern Warfare 3</td>\n",
       "      <td>2.92</td>\n",
       "      <td>30.83</td>\n",
       "    </tr>\n",
       "    <tr>\n",
       "      <th>2960</th>\n",
       "      <td>New Super Mario Bros.</td>\n",
       "      <td>8.50</td>\n",
       "      <td>30.01</td>\n",
       "    </tr>\n",
       "    <tr>\n",
       "      <th>1169</th>\n",
       "      <td>Call of Duty: Black Ops II</td>\n",
       "      <td>5.65</td>\n",
       "      <td>29.72</td>\n",
       "    </tr>\n",
       "    <tr>\n",
       "      <th>4249</th>\n",
       "      <td>Call of Duty: Black Ops</td>\n",
       "      <td>6.36</td>\n",
       "      <td>29.40</td>\n",
       "    </tr>\n",
       "    <tr>\n",
       "      <th>34</th>\n",
       "      <td>Wii Play</td>\n",
       "      <td>6.60</td>\n",
       "      <td>29.02</td>\n",
       "    </tr>\n",
       "    <tr>\n",
       "      <th>1837</th>\n",
       "      <td>New Super Mario Bros. Wii</td>\n",
       "      <td>8.30</td>\n",
       "      <td>28.62</td>\n",
       "    </tr>\n",
       "    <tr>\n",
       "      <th>1464</th>\n",
       "      <td>Call of Duty: Ghosts</td>\n",
       "      <td>3.22</td>\n",
       "      <td>27.38</td>\n",
       "    </tr>\n",
       "    <tr>\n",
       "      <th>2644</th>\n",
       "      <td>Call of Duty: Modern Warfare 2</td>\n",
       "      <td>5.93</td>\n",
       "      <td>25.09</td>\n",
       "    </tr>\n",
       "    <tr>\n",
       "      <th>1508</th>\n",
       "      <td>Grand Theft Auto: San Andreas</td>\n",
       "      <td>8.93</td>\n",
       "      <td>23.86</td>\n",
       "    </tr>\n",
       "    <tr>\n",
       "      <th>3168</th>\n",
       "      <td>Minecraft</td>\n",
       "      <td>7.75</td>\n",
       "      <td>23.73</td>\n",
       "    </tr>\n",
       "  </tbody>\n",
       "</table>\n",
       "</div>"
      ],
      "text/plain": [
       "                          Video Game  Average Rating  Total Global Sales\n",
       "2880                      Wii Sports            8.10               82.74\n",
       "946               Grand Theft Auto V            8.14               55.92\n",
       "4214                          Tetris            7.50               35.84\n",
       "3574                  Mario Kart Wii            8.40               35.82\n",
       "1787               Wii Sports Resort            8.20               33.00\n",
       "2146  Call of Duty: Modern Warfare 3            2.92               30.83\n",
       "2960           New Super Mario Bros.            8.50               30.01\n",
       "1169      Call of Duty: Black Ops II            5.65               29.72\n",
       "4249         Call of Duty: Black Ops            6.36               29.40\n",
       "34                          Wii Play            6.60               29.02\n",
       "1837       New Super Mario Bros. Wii            8.30               28.62\n",
       "1464            Call of Duty: Ghosts            3.22               27.38\n",
       "2644  Call of Duty: Modern Warfare 2            5.93               25.09\n",
       "1508   Grand Theft Auto: San Andreas            8.93               23.86\n",
       "3168                       Minecraft            7.75               23.73"
      ]
     },
     "execution_count": 71,
     "metadata": {},
     "output_type": "execute_result"
    }
   ],
   "source": [
    "top_sales_merged = merged_df.sort_values(by='Total Global Sales', ascending=False)\n",
    "top_sales_merged.head(15)"
   ]
  },
  {
   "cell_type": "code",
   "execution_count": 72,
   "id": "545b7ad3",
   "metadata": {},
   "outputs": [
    {
     "data": {
      "application/vnd.plotly.v1+json": {
       "config": {
        "plotlyServerURL": "https://plot.ly"
       },
       "data": [
        {
         "hovertemplate": "<b>%{hovertext}</b><br><br>Average Rating=%{x}<br>Total Global Sales (in millions)=%{y}<extra></extra>",
         "hovertext": [
          "Wii Sports",
          "Grand Theft Auto V",
          "Tetris",
          "Mario Kart Wii",
          "Wii Sports Resort",
          "Call of Duty: Modern Warfare 3",
          "New Super Mario Bros.",
          "Call of Duty: Black Ops II",
          "Call of Duty: Black Ops",
          "Wii Play",
          "New Super Mario Bros. Wii",
          "Call of Duty: Ghosts",
          "Call of Duty: Modern Warfare 2",
          "Grand Theft Auto: San Andreas",
          "Minecraft",
          "Mario Kart DS",
          "Wii Fit",
          "Grand Theft Auto IV",
          "Super Mario 64",
          "Wii Fit Plus",
          "Call of Duty: Advanced Warfare",
          "Kinect Adventures!",
          "The Elder Scrolls V: Skyrim",
          "FIFA 15",
          "Call of Duty 4: Modern Warfare",
          "Battlefield 3",
          "FIFA 14",
          "FIFA 16",
          "Guitar Hero III: Legends of Rock",
          "Grand Theft Auto: Vice City",
          "FIFA Soccer 13",
          "Call of Duty: World at War",
          "LEGO Star Wars: The Complete Saga",
          "The Sims 3",
          "Brain Age 2: More Training in Minutes a Day",
          "Gran Turismo 3: A-Spec",
          "Need for Speed: Most Wanted",
          "Battlefield 4",
          "Donkey Kong Country",
          "Mario & Sonic at the Olympic Games",
          "Assassin's Creed IV: Black Flag",
          "Grand Theft Auto III",
          "Assassin's Creed III",
          "Super Smash Bros. Brawl",
          "Red Dead Redemption",
          "Just Dance 3",
          "Destiny",
          "FIFA Soccer 11",
          "Fallout 4",
          "Animal Crossing: Wild World"
         ],
         "legendgroup": "",
         "marker": {
          "color": "#636efa",
          "symbol": "circle"
         },
         "mode": "markers",
         "name": "",
         "orientation": "v",
         "showlegend": false,
         "type": "scatter",
         "x": [
          8.1,
          8.14,
          7.5,
          8.4,
          8.2,
          2.92,
          8.5,
          5.65,
          6.36,
          6.6,
          8.3,
          3.22,
          5.93,
          8.93,
          7.75,
          8.7,
          7.7,
          7.53,
          9.1,
          7.5,
          5.33,
          6.3,
          8,
          5.17,
          7.9,
          7.53,
          5.2,
          4.47,
          7.98,
          8.8,
          6,
          7.58,
          7.55,
          6.24,
          7.2,
          8.4,
          8.6,
          6.22,
          8.6,
          7.4,
          8,
          8.3,
          6.82,
          8.8,
          8.95,
          7.85,
          5.8,
          7.42,
          6.27,
          8.5
         ],
         "xaxis": "x",
         "y": [
          82.74,
          55.92,
          35.84,
          35.82,
          33,
          30.830000000000002,
          30.01,
          29.72,
          29.400000000000002,
          29.02,
          28.62,
          27.38,
          25.09,
          23.86,
          23.73,
          23.42,
          22.72,
          22.47,
          22.310000000000002,
          22,
          21.9,
          21.82,
          19.28,
          19.02,
          18.25,
          17.36,
          17.14,
          16.44,
          16.400000000000002,
          16.189999999999998,
          16.16,
          15.87,
          15.75,
          15.45,
          15.3,
          14.98,
          14.08,
          14.03,
          13.530000000000001,
          13.2,
          13.16,
          13.11,
          13.1,
          13.04,
          12.94,
          12.92,
          12.61,
          12.56,
          12.28,
          12.27
         ],
         "yaxis": "y"
        }
       ],
       "layout": {
        "legend": {
         "tracegroupgap": 0
        },
        "margin": {
         "b": 0,
         "l": 0,
         "r": 0,
         "t": 30
        },
        "showlegend": false,
        "template": {
         "data": {
          "bar": [
           {
            "error_x": {
             "color": "#2a3f5f"
            },
            "error_y": {
             "color": "#2a3f5f"
            },
            "marker": {
             "line": {
              "color": "#E5ECF6",
              "width": 0.5
             },
             "pattern": {
              "fillmode": "overlay",
              "size": 10,
              "solidity": 0.2
             }
            },
            "type": "bar"
           }
          ],
          "barpolar": [
           {
            "marker": {
             "line": {
              "color": "#E5ECF6",
              "width": 0.5
             },
             "pattern": {
              "fillmode": "overlay",
              "size": 10,
              "solidity": 0.2
             }
            },
            "type": "barpolar"
           }
          ],
          "carpet": [
           {
            "aaxis": {
             "endlinecolor": "#2a3f5f",
             "gridcolor": "white",
             "linecolor": "white",
             "minorgridcolor": "white",
             "startlinecolor": "#2a3f5f"
            },
            "baxis": {
             "endlinecolor": "#2a3f5f",
             "gridcolor": "white",
             "linecolor": "white",
             "minorgridcolor": "white",
             "startlinecolor": "#2a3f5f"
            },
            "type": "carpet"
           }
          ],
          "choropleth": [
           {
            "colorbar": {
             "outlinewidth": 0,
             "ticks": ""
            },
            "type": "choropleth"
           }
          ],
          "contour": [
           {
            "colorbar": {
             "outlinewidth": 0,
             "ticks": ""
            },
            "colorscale": [
             [
              0,
              "#0d0887"
             ],
             [
              0.1111111111111111,
              "#46039f"
             ],
             [
              0.2222222222222222,
              "#7201a8"
             ],
             [
              0.3333333333333333,
              "#9c179e"
             ],
             [
              0.4444444444444444,
              "#bd3786"
             ],
             [
              0.5555555555555556,
              "#d8576b"
             ],
             [
              0.6666666666666666,
              "#ed7953"
             ],
             [
              0.7777777777777778,
              "#fb9f3a"
             ],
             [
              0.8888888888888888,
              "#fdca26"
             ],
             [
              1,
              "#f0f921"
             ]
            ],
            "type": "contour"
           }
          ],
          "contourcarpet": [
           {
            "colorbar": {
             "outlinewidth": 0,
             "ticks": ""
            },
            "type": "contourcarpet"
           }
          ],
          "heatmap": [
           {
            "colorbar": {
             "outlinewidth": 0,
             "ticks": ""
            },
            "colorscale": [
             [
              0,
              "#0d0887"
             ],
             [
              0.1111111111111111,
              "#46039f"
             ],
             [
              0.2222222222222222,
              "#7201a8"
             ],
             [
              0.3333333333333333,
              "#9c179e"
             ],
             [
              0.4444444444444444,
              "#bd3786"
             ],
             [
              0.5555555555555556,
              "#d8576b"
             ],
             [
              0.6666666666666666,
              "#ed7953"
             ],
             [
              0.7777777777777778,
              "#fb9f3a"
             ],
             [
              0.8888888888888888,
              "#fdca26"
             ],
             [
              1,
              "#f0f921"
             ]
            ],
            "type": "heatmap"
           }
          ],
          "heatmapgl": [
           {
            "colorbar": {
             "outlinewidth": 0,
             "ticks": ""
            },
            "colorscale": [
             [
              0,
              "#0d0887"
             ],
             [
              0.1111111111111111,
              "#46039f"
             ],
             [
              0.2222222222222222,
              "#7201a8"
             ],
             [
              0.3333333333333333,
              "#9c179e"
             ],
             [
              0.4444444444444444,
              "#bd3786"
             ],
             [
              0.5555555555555556,
              "#d8576b"
             ],
             [
              0.6666666666666666,
              "#ed7953"
             ],
             [
              0.7777777777777778,
              "#fb9f3a"
             ],
             [
              0.8888888888888888,
              "#fdca26"
             ],
             [
              1,
              "#f0f921"
             ]
            ],
            "type": "heatmapgl"
           }
          ],
          "histogram": [
           {
            "marker": {
             "pattern": {
              "fillmode": "overlay",
              "size": 10,
              "solidity": 0.2
             }
            },
            "type": "histogram"
           }
          ],
          "histogram2d": [
           {
            "colorbar": {
             "outlinewidth": 0,
             "ticks": ""
            },
            "colorscale": [
             [
              0,
              "#0d0887"
             ],
             [
              0.1111111111111111,
              "#46039f"
             ],
             [
              0.2222222222222222,
              "#7201a8"
             ],
             [
              0.3333333333333333,
              "#9c179e"
             ],
             [
              0.4444444444444444,
              "#bd3786"
             ],
             [
              0.5555555555555556,
              "#d8576b"
             ],
             [
              0.6666666666666666,
              "#ed7953"
             ],
             [
              0.7777777777777778,
              "#fb9f3a"
             ],
             [
              0.8888888888888888,
              "#fdca26"
             ],
             [
              1,
              "#f0f921"
             ]
            ],
            "type": "histogram2d"
           }
          ],
          "histogram2dcontour": [
           {
            "colorbar": {
             "outlinewidth": 0,
             "ticks": ""
            },
            "colorscale": [
             [
              0,
              "#0d0887"
             ],
             [
              0.1111111111111111,
              "#46039f"
             ],
             [
              0.2222222222222222,
              "#7201a8"
             ],
             [
              0.3333333333333333,
              "#9c179e"
             ],
             [
              0.4444444444444444,
              "#bd3786"
             ],
             [
              0.5555555555555556,
              "#d8576b"
             ],
             [
              0.6666666666666666,
              "#ed7953"
             ],
             [
              0.7777777777777778,
              "#fb9f3a"
             ],
             [
              0.8888888888888888,
              "#fdca26"
             ],
             [
              1,
              "#f0f921"
             ]
            ],
            "type": "histogram2dcontour"
           }
          ],
          "mesh3d": [
           {
            "colorbar": {
             "outlinewidth": 0,
             "ticks": ""
            },
            "type": "mesh3d"
           }
          ],
          "parcoords": [
           {
            "line": {
             "colorbar": {
              "outlinewidth": 0,
              "ticks": ""
             }
            },
            "type": "parcoords"
           }
          ],
          "pie": [
           {
            "automargin": true,
            "type": "pie"
           }
          ],
          "scatter": [
           {
            "fillpattern": {
             "fillmode": "overlay",
             "size": 10,
             "solidity": 0.2
            },
            "type": "scatter"
           }
          ],
          "scatter3d": [
           {
            "line": {
             "colorbar": {
              "outlinewidth": 0,
              "ticks": ""
             }
            },
            "marker": {
             "colorbar": {
              "outlinewidth": 0,
              "ticks": ""
             }
            },
            "type": "scatter3d"
           }
          ],
          "scattercarpet": [
           {
            "marker": {
             "colorbar": {
              "outlinewidth": 0,
              "ticks": ""
             }
            },
            "type": "scattercarpet"
           }
          ],
          "scattergeo": [
           {
            "marker": {
             "colorbar": {
              "outlinewidth": 0,
              "ticks": ""
             }
            },
            "type": "scattergeo"
           }
          ],
          "scattergl": [
           {
            "marker": {
             "colorbar": {
              "outlinewidth": 0,
              "ticks": ""
             }
            },
            "type": "scattergl"
           }
          ],
          "scattermapbox": [
           {
            "marker": {
             "colorbar": {
              "outlinewidth": 0,
              "ticks": ""
             }
            },
            "type": "scattermapbox"
           }
          ],
          "scatterpolar": [
           {
            "marker": {
             "colorbar": {
              "outlinewidth": 0,
              "ticks": ""
             }
            },
            "type": "scatterpolar"
           }
          ],
          "scatterpolargl": [
           {
            "marker": {
             "colorbar": {
              "outlinewidth": 0,
              "ticks": ""
             }
            },
            "type": "scatterpolargl"
           }
          ],
          "scatterternary": [
           {
            "marker": {
             "colorbar": {
              "outlinewidth": 0,
              "ticks": ""
             }
            },
            "type": "scatterternary"
           }
          ],
          "surface": [
           {
            "colorbar": {
             "outlinewidth": 0,
             "ticks": ""
            },
            "colorscale": [
             [
              0,
              "#0d0887"
             ],
             [
              0.1111111111111111,
              "#46039f"
             ],
             [
              0.2222222222222222,
              "#7201a8"
             ],
             [
              0.3333333333333333,
              "#9c179e"
             ],
             [
              0.4444444444444444,
              "#bd3786"
             ],
             [
              0.5555555555555556,
              "#d8576b"
             ],
             [
              0.6666666666666666,
              "#ed7953"
             ],
             [
              0.7777777777777778,
              "#fb9f3a"
             ],
             [
              0.8888888888888888,
              "#fdca26"
             ],
             [
              1,
              "#f0f921"
             ]
            ],
            "type": "surface"
           }
          ],
          "table": [
           {
            "cells": {
             "fill": {
              "color": "#EBF0F8"
             },
             "line": {
              "color": "white"
             }
            },
            "header": {
             "fill": {
              "color": "#C8D4E3"
             },
             "line": {
              "color": "white"
             }
            },
            "type": "table"
           }
          ]
         },
         "layout": {
          "annotationdefaults": {
           "arrowcolor": "#2a3f5f",
           "arrowhead": 0,
           "arrowwidth": 1
          },
          "autotypenumbers": "strict",
          "coloraxis": {
           "colorbar": {
            "outlinewidth": 0,
            "ticks": ""
           }
          },
          "colorscale": {
           "diverging": [
            [
             0,
             "#8e0152"
            ],
            [
             0.1,
             "#c51b7d"
            ],
            [
             0.2,
             "#de77ae"
            ],
            [
             0.3,
             "#f1b6da"
            ],
            [
             0.4,
             "#fde0ef"
            ],
            [
             0.5,
             "#f7f7f7"
            ],
            [
             0.6,
             "#e6f5d0"
            ],
            [
             0.7,
             "#b8e186"
            ],
            [
             0.8,
             "#7fbc41"
            ],
            [
             0.9,
             "#4d9221"
            ],
            [
             1,
             "#276419"
            ]
           ],
           "sequential": [
            [
             0,
             "#0d0887"
            ],
            [
             0.1111111111111111,
             "#46039f"
            ],
            [
             0.2222222222222222,
             "#7201a8"
            ],
            [
             0.3333333333333333,
             "#9c179e"
            ],
            [
             0.4444444444444444,
             "#bd3786"
            ],
            [
             0.5555555555555556,
             "#d8576b"
            ],
            [
             0.6666666666666666,
             "#ed7953"
            ],
            [
             0.7777777777777778,
             "#fb9f3a"
            ],
            [
             0.8888888888888888,
             "#fdca26"
            ],
            [
             1,
             "#f0f921"
            ]
           ],
           "sequentialminus": [
            [
             0,
             "#0d0887"
            ],
            [
             0.1111111111111111,
             "#46039f"
            ],
            [
             0.2222222222222222,
             "#7201a8"
            ],
            [
             0.3333333333333333,
             "#9c179e"
            ],
            [
             0.4444444444444444,
             "#bd3786"
            ],
            [
             0.5555555555555556,
             "#d8576b"
            ],
            [
             0.6666666666666666,
             "#ed7953"
            ],
            [
             0.7777777777777778,
             "#fb9f3a"
            ],
            [
             0.8888888888888888,
             "#fdca26"
            ],
            [
             1,
             "#f0f921"
            ]
           ]
          },
          "colorway": [
           "#636efa",
           "#EF553B",
           "#00cc96",
           "#ab63fa",
           "#FFA15A",
           "#19d3f3",
           "#FF6692",
           "#B6E880",
           "#FF97FF",
           "#FECB52"
          ],
          "font": {
           "color": "#2a3f5f"
          },
          "geo": {
           "bgcolor": "white",
           "lakecolor": "white",
           "landcolor": "#E5ECF6",
           "showlakes": true,
           "showland": true,
           "subunitcolor": "white"
          },
          "hoverlabel": {
           "align": "left"
          },
          "hovermode": "closest",
          "mapbox": {
           "style": "light"
          },
          "paper_bgcolor": "white",
          "plot_bgcolor": "#E5ECF6",
          "polar": {
           "angularaxis": {
            "gridcolor": "white",
            "linecolor": "white",
            "ticks": ""
           },
           "bgcolor": "#E5ECF6",
           "radialaxis": {
            "gridcolor": "white",
            "linecolor": "white",
            "ticks": ""
           }
          },
          "scene": {
           "xaxis": {
            "backgroundcolor": "#E5ECF6",
            "gridcolor": "white",
            "gridwidth": 2,
            "linecolor": "white",
            "showbackground": true,
            "ticks": "",
            "zerolinecolor": "white"
           },
           "yaxis": {
            "backgroundcolor": "#E5ECF6",
            "gridcolor": "white",
            "gridwidth": 2,
            "linecolor": "white",
            "showbackground": true,
            "ticks": "",
            "zerolinecolor": "white"
           },
           "zaxis": {
            "backgroundcolor": "#E5ECF6",
            "gridcolor": "white",
            "gridwidth": 2,
            "linecolor": "white",
            "showbackground": true,
            "ticks": "",
            "zerolinecolor": "white"
           }
          },
          "shapedefaults": {
           "line": {
            "color": "#2a3f5f"
           }
          },
          "ternary": {
           "aaxis": {
            "gridcolor": "white",
            "linecolor": "white",
            "ticks": ""
           },
           "baxis": {
            "gridcolor": "white",
            "linecolor": "white",
            "ticks": ""
           },
           "bgcolor": "#E5ECF6",
           "caxis": {
            "gridcolor": "white",
            "linecolor": "white",
            "ticks": ""
           }
          },
          "title": {
           "x": 0.05
          },
          "xaxis": {
           "automargin": true,
           "gridcolor": "white",
           "linecolor": "white",
           "ticks": "",
           "title": {
            "standoff": 15
           },
           "zerolinecolor": "white",
           "zerolinewidth": 2
          },
          "yaxis": {
           "automargin": true,
           "gridcolor": "white",
           "linecolor": "white",
           "ticks": "",
           "title": {
            "standoff": 15
           },
           "zerolinecolor": "white",
           "zerolinewidth": 2
          }
         }
        },
        "title": {
         "text": "Video Game Rating vs Global Sales"
        },
        "xaxis": {
         "anchor": "y",
         "domain": [
          0,
          1
         ],
         "title": {
          "text": "Average Rating"
         }
        },
        "yaxis": {
         "anchor": "x",
         "domain": [
          0,
          1
         ],
         "title": {
          "text": "Total Global Sales (in millions)"
         }
        }
       }
      },
      "text/html": [
       "<div>                            <div id=\"649a3413-103b-49d5-8721-23f85be0ac1d\" class=\"plotly-graph-div\" style=\"height:525px; width:100%;\"></div>            <script type=\"text/javascript\">                require([\"plotly\"], function(Plotly) {                    window.PLOTLYENV=window.PLOTLYENV || {};                                    if (document.getElementById(\"649a3413-103b-49d5-8721-23f85be0ac1d\")) {                    Plotly.newPlot(                        \"649a3413-103b-49d5-8721-23f85be0ac1d\",                        [{\"hovertemplate\":\"<b>%{hovertext}</b><br><br>Average Rating=%{x}<br>Total Global Sales (in millions)=%{y}<extra></extra>\",\"hovertext\":[\"Wii Sports\",\"Grand Theft Auto V\",\"Tetris\",\"Mario Kart Wii\",\"Wii Sports Resort\",\"Call of Duty: Modern Warfare 3\",\"New Super Mario Bros.\",\"Call of Duty: Black Ops II\",\"Call of Duty: Black Ops\",\"Wii Play\",\"New Super Mario Bros. Wii\",\"Call of Duty: Ghosts\",\"Call of Duty: Modern Warfare 2\",\"Grand Theft Auto: San Andreas\",\"Minecraft\",\"Mario Kart DS\",\"Wii Fit\",\"Grand Theft Auto IV\",\"Super Mario 64\",\"Wii Fit Plus\",\"Call of Duty: Advanced Warfare\",\"Kinect Adventures!\",\"The Elder Scrolls V: Skyrim\",\"FIFA 15\",\"Call of Duty 4: Modern Warfare\",\"Battlefield 3\",\"FIFA 14\",\"FIFA 16\",\"Guitar Hero III: Legends of Rock\",\"Grand Theft Auto: Vice City\",\"FIFA Soccer 13\",\"Call of Duty: World at War\",\"LEGO Star Wars: The Complete Saga\",\"The Sims 3\",\"Brain Age 2: More Training in Minutes a Day\",\"Gran Turismo 3: A-Spec\",\"Need for Speed: Most Wanted\",\"Battlefield 4\",\"Donkey Kong Country\",\"Mario & Sonic at the Olympic Games\",\"Assassin's Creed IV: Black Flag\",\"Grand Theft Auto III\",\"Assassin's Creed III\",\"Super Smash Bros. Brawl\",\"Red Dead Redemption\",\"Just Dance 3\",\"Destiny\",\"FIFA Soccer 11\",\"Fallout 4\",\"Animal Crossing: Wild World\"],\"legendgroup\":\"\",\"marker\":{\"color\":\"#636efa\",\"symbol\":\"circle\"},\"mode\":\"markers\",\"name\":\"\",\"orientation\":\"v\",\"showlegend\":false,\"x\":[8.1,8.14,7.5,8.4,8.2,2.92,8.5,5.65,6.36,6.6,8.3,3.22,5.93,8.93,7.75,8.7,7.7,7.53,9.1,7.5,5.33,6.3,8.0,5.17,7.9,7.53,5.2,4.47,7.98,8.8,6.0,7.58,7.55,6.24,7.2,8.4,8.6,6.22,8.6,7.4,8.0,8.3,6.82,8.8,8.95,7.85,5.8,7.42,6.27,8.5],\"xaxis\":\"x\",\"y\":[82.74,55.92,35.84,35.82,33.0,30.830000000000002,30.01,29.72,29.400000000000002,29.02,28.62,27.38,25.09,23.86,23.73,23.42,22.72,22.47,22.310000000000002,22.0,21.9,21.82,19.28,19.02,18.25,17.36,17.14,16.44,16.400000000000002,16.189999999999998,16.16,15.87,15.75,15.45,15.3,14.98,14.08,14.03,13.530000000000001,13.2,13.16,13.11,13.1,13.04,12.94,12.92,12.61,12.56,12.28,12.27],\"yaxis\":\"y\",\"type\":\"scatter\"}],                        {\"template\":{\"data\":{\"histogram2dcontour\":[{\"type\":\"histogram2dcontour\",\"colorbar\":{\"outlinewidth\":0,\"ticks\":\"\"},\"colorscale\":[[0.0,\"#0d0887\"],[0.1111111111111111,\"#46039f\"],[0.2222222222222222,\"#7201a8\"],[0.3333333333333333,\"#9c179e\"],[0.4444444444444444,\"#bd3786\"],[0.5555555555555556,\"#d8576b\"],[0.6666666666666666,\"#ed7953\"],[0.7777777777777778,\"#fb9f3a\"],[0.8888888888888888,\"#fdca26\"],[1.0,\"#f0f921\"]]}],\"choropleth\":[{\"type\":\"choropleth\",\"colorbar\":{\"outlinewidth\":0,\"ticks\":\"\"}}],\"histogram2d\":[{\"type\":\"histogram2d\",\"colorbar\":{\"outlinewidth\":0,\"ticks\":\"\"},\"colorscale\":[[0.0,\"#0d0887\"],[0.1111111111111111,\"#46039f\"],[0.2222222222222222,\"#7201a8\"],[0.3333333333333333,\"#9c179e\"],[0.4444444444444444,\"#bd3786\"],[0.5555555555555556,\"#d8576b\"],[0.6666666666666666,\"#ed7953\"],[0.7777777777777778,\"#fb9f3a\"],[0.8888888888888888,\"#fdca26\"],[1.0,\"#f0f921\"]]}],\"heatmap\":[{\"type\":\"heatmap\",\"colorbar\":{\"outlinewidth\":0,\"ticks\":\"\"},\"colorscale\":[[0.0,\"#0d0887\"],[0.1111111111111111,\"#46039f\"],[0.2222222222222222,\"#7201a8\"],[0.3333333333333333,\"#9c179e\"],[0.4444444444444444,\"#bd3786\"],[0.5555555555555556,\"#d8576b\"],[0.6666666666666666,\"#ed7953\"],[0.7777777777777778,\"#fb9f3a\"],[0.8888888888888888,\"#fdca26\"],[1.0,\"#f0f921\"]]}],\"heatmapgl\":[{\"type\":\"heatmapgl\",\"colorbar\":{\"outlinewidth\":0,\"ticks\":\"\"},\"colorscale\":[[0.0,\"#0d0887\"],[0.1111111111111111,\"#46039f\"],[0.2222222222222222,\"#7201a8\"],[0.3333333333333333,\"#9c179e\"],[0.4444444444444444,\"#bd3786\"],[0.5555555555555556,\"#d8576b\"],[0.6666666666666666,\"#ed7953\"],[0.7777777777777778,\"#fb9f3a\"],[0.8888888888888888,\"#fdca26\"],[1.0,\"#f0f921\"]]}],\"contourcarpet\":[{\"type\":\"contourcarpet\",\"colorbar\":{\"outlinewidth\":0,\"ticks\":\"\"}}],\"contour\":[{\"type\":\"contour\",\"colorbar\":{\"outlinewidth\":0,\"ticks\":\"\"},\"colorscale\":[[0.0,\"#0d0887\"],[0.1111111111111111,\"#46039f\"],[0.2222222222222222,\"#7201a8\"],[0.3333333333333333,\"#9c179e\"],[0.4444444444444444,\"#bd3786\"],[0.5555555555555556,\"#d8576b\"],[0.6666666666666666,\"#ed7953\"],[0.7777777777777778,\"#fb9f3a\"],[0.8888888888888888,\"#fdca26\"],[1.0,\"#f0f921\"]]}],\"surface\":[{\"type\":\"surface\",\"colorbar\":{\"outlinewidth\":0,\"ticks\":\"\"},\"colorscale\":[[0.0,\"#0d0887\"],[0.1111111111111111,\"#46039f\"],[0.2222222222222222,\"#7201a8\"],[0.3333333333333333,\"#9c179e\"],[0.4444444444444444,\"#bd3786\"],[0.5555555555555556,\"#d8576b\"],[0.6666666666666666,\"#ed7953\"],[0.7777777777777778,\"#fb9f3a\"],[0.8888888888888888,\"#fdca26\"],[1.0,\"#f0f921\"]]}],\"mesh3d\":[{\"type\":\"mesh3d\",\"colorbar\":{\"outlinewidth\":0,\"ticks\":\"\"}}],\"scatter\":[{\"fillpattern\":{\"fillmode\":\"overlay\",\"size\":10,\"solidity\":0.2},\"type\":\"scatter\"}],\"parcoords\":[{\"type\":\"parcoords\",\"line\":{\"colorbar\":{\"outlinewidth\":0,\"ticks\":\"\"}}}],\"scatterpolargl\":[{\"type\":\"scatterpolargl\",\"marker\":{\"colorbar\":{\"outlinewidth\":0,\"ticks\":\"\"}}}],\"bar\":[{\"error_x\":{\"color\":\"#2a3f5f\"},\"error_y\":{\"color\":\"#2a3f5f\"},\"marker\":{\"line\":{\"color\":\"#E5ECF6\",\"width\":0.5},\"pattern\":{\"fillmode\":\"overlay\",\"size\":10,\"solidity\":0.2}},\"type\":\"bar\"}],\"scattergeo\":[{\"type\":\"scattergeo\",\"marker\":{\"colorbar\":{\"outlinewidth\":0,\"ticks\":\"\"}}}],\"scatterpolar\":[{\"type\":\"scatterpolar\",\"marker\":{\"colorbar\":{\"outlinewidth\":0,\"ticks\":\"\"}}}],\"histogram\":[{\"marker\":{\"pattern\":{\"fillmode\":\"overlay\",\"size\":10,\"solidity\":0.2}},\"type\":\"histogram\"}],\"scattergl\":[{\"type\":\"scattergl\",\"marker\":{\"colorbar\":{\"outlinewidth\":0,\"ticks\":\"\"}}}],\"scatter3d\":[{\"type\":\"scatter3d\",\"line\":{\"colorbar\":{\"outlinewidth\":0,\"ticks\":\"\"}},\"marker\":{\"colorbar\":{\"outlinewidth\":0,\"ticks\":\"\"}}}],\"scattermapbox\":[{\"type\":\"scattermapbox\",\"marker\":{\"colorbar\":{\"outlinewidth\":0,\"ticks\":\"\"}}}],\"scatterternary\":[{\"type\":\"scatterternary\",\"marker\":{\"colorbar\":{\"outlinewidth\":0,\"ticks\":\"\"}}}],\"scattercarpet\":[{\"type\":\"scattercarpet\",\"marker\":{\"colorbar\":{\"outlinewidth\":0,\"ticks\":\"\"}}}],\"carpet\":[{\"aaxis\":{\"endlinecolor\":\"#2a3f5f\",\"gridcolor\":\"white\",\"linecolor\":\"white\",\"minorgridcolor\":\"white\",\"startlinecolor\":\"#2a3f5f\"},\"baxis\":{\"endlinecolor\":\"#2a3f5f\",\"gridcolor\":\"white\",\"linecolor\":\"white\",\"minorgridcolor\":\"white\",\"startlinecolor\":\"#2a3f5f\"},\"type\":\"carpet\"}],\"table\":[{\"cells\":{\"fill\":{\"color\":\"#EBF0F8\"},\"line\":{\"color\":\"white\"}},\"header\":{\"fill\":{\"color\":\"#C8D4E3\"},\"line\":{\"color\":\"white\"}},\"type\":\"table\"}],\"barpolar\":[{\"marker\":{\"line\":{\"color\":\"#E5ECF6\",\"width\":0.5},\"pattern\":{\"fillmode\":\"overlay\",\"size\":10,\"solidity\":0.2}},\"type\":\"barpolar\"}],\"pie\":[{\"automargin\":true,\"type\":\"pie\"}]},\"layout\":{\"autotypenumbers\":\"strict\",\"colorway\":[\"#636efa\",\"#EF553B\",\"#00cc96\",\"#ab63fa\",\"#FFA15A\",\"#19d3f3\",\"#FF6692\",\"#B6E880\",\"#FF97FF\",\"#FECB52\"],\"font\":{\"color\":\"#2a3f5f\"},\"hovermode\":\"closest\",\"hoverlabel\":{\"align\":\"left\"},\"paper_bgcolor\":\"white\",\"plot_bgcolor\":\"#E5ECF6\",\"polar\":{\"bgcolor\":\"#E5ECF6\",\"angularaxis\":{\"gridcolor\":\"white\",\"linecolor\":\"white\",\"ticks\":\"\"},\"radialaxis\":{\"gridcolor\":\"white\",\"linecolor\":\"white\",\"ticks\":\"\"}},\"ternary\":{\"bgcolor\":\"#E5ECF6\",\"aaxis\":{\"gridcolor\":\"white\",\"linecolor\":\"white\",\"ticks\":\"\"},\"baxis\":{\"gridcolor\":\"white\",\"linecolor\":\"white\",\"ticks\":\"\"},\"caxis\":{\"gridcolor\":\"white\",\"linecolor\":\"white\",\"ticks\":\"\"}},\"coloraxis\":{\"colorbar\":{\"outlinewidth\":0,\"ticks\":\"\"}},\"colorscale\":{\"sequential\":[[0.0,\"#0d0887\"],[0.1111111111111111,\"#46039f\"],[0.2222222222222222,\"#7201a8\"],[0.3333333333333333,\"#9c179e\"],[0.4444444444444444,\"#bd3786\"],[0.5555555555555556,\"#d8576b\"],[0.6666666666666666,\"#ed7953\"],[0.7777777777777778,\"#fb9f3a\"],[0.8888888888888888,\"#fdca26\"],[1.0,\"#f0f921\"]],\"sequentialminus\":[[0.0,\"#0d0887\"],[0.1111111111111111,\"#46039f\"],[0.2222222222222222,\"#7201a8\"],[0.3333333333333333,\"#9c179e\"],[0.4444444444444444,\"#bd3786\"],[0.5555555555555556,\"#d8576b\"],[0.6666666666666666,\"#ed7953\"],[0.7777777777777778,\"#fb9f3a\"],[0.8888888888888888,\"#fdca26\"],[1.0,\"#f0f921\"]],\"diverging\":[[0,\"#8e0152\"],[0.1,\"#c51b7d\"],[0.2,\"#de77ae\"],[0.3,\"#f1b6da\"],[0.4,\"#fde0ef\"],[0.5,\"#f7f7f7\"],[0.6,\"#e6f5d0\"],[0.7,\"#b8e186\"],[0.8,\"#7fbc41\"],[0.9,\"#4d9221\"],[1,\"#276419\"]]},\"xaxis\":{\"gridcolor\":\"white\",\"linecolor\":\"white\",\"ticks\":\"\",\"title\":{\"standoff\":15},\"zerolinecolor\":\"white\",\"automargin\":true,\"zerolinewidth\":2},\"yaxis\":{\"gridcolor\":\"white\",\"linecolor\":\"white\",\"ticks\":\"\",\"title\":{\"standoff\":15},\"zerolinecolor\":\"white\",\"automargin\":true,\"zerolinewidth\":2},\"scene\":{\"xaxis\":{\"backgroundcolor\":\"#E5ECF6\",\"gridcolor\":\"white\",\"linecolor\":\"white\",\"showbackground\":true,\"ticks\":\"\",\"zerolinecolor\":\"white\",\"gridwidth\":2},\"yaxis\":{\"backgroundcolor\":\"#E5ECF6\",\"gridcolor\":\"white\",\"linecolor\":\"white\",\"showbackground\":true,\"ticks\":\"\",\"zerolinecolor\":\"white\",\"gridwidth\":2},\"zaxis\":{\"backgroundcolor\":\"#E5ECF6\",\"gridcolor\":\"white\",\"linecolor\":\"white\",\"showbackground\":true,\"ticks\":\"\",\"zerolinecolor\":\"white\",\"gridwidth\":2}},\"shapedefaults\":{\"line\":{\"color\":\"#2a3f5f\"}},\"annotationdefaults\":{\"arrowcolor\":\"#2a3f5f\",\"arrowhead\":0,\"arrowwidth\":1},\"geo\":{\"bgcolor\":\"white\",\"landcolor\":\"#E5ECF6\",\"subunitcolor\":\"white\",\"showland\":true,\"showlakes\":true,\"lakecolor\":\"white\"},\"title\":{\"x\":0.05},\"mapbox\":{\"style\":\"light\"}}},\"xaxis\":{\"anchor\":\"y\",\"domain\":[0.0,1.0],\"title\":{\"text\":\"Average Rating\"}},\"yaxis\":{\"anchor\":\"x\",\"domain\":[0.0,1.0],\"title\":{\"text\":\"Total Global Sales (in millions)\"}},\"legend\":{\"tracegroupgap\":0},\"title\":{\"text\":\"Video Game Rating vs Global Sales\"},\"margin\":{\"l\":0,\"r\":0,\"t\":30,\"b\":0},\"showlegend\":false},                        {\"responsive\": true}                    ).then(function(){\n",
       "                            \n",
       "var gd = document.getElementById('649a3413-103b-49d5-8721-23f85be0ac1d');\n",
       "var x = new MutationObserver(function (mutations, observer) {{\n",
       "        var display = window.getComputedStyle(gd).display;\n",
       "        if (!display || display === 'none') {{\n",
       "            console.log([gd, 'removed!']);\n",
       "            Plotly.purge(gd);\n",
       "            observer.disconnect();\n",
       "        }}\n",
       "}});\n",
       "\n",
       "// Listen for the removal of the full notebook cells\n",
       "var notebookContainer = gd.closest('#notebook-container');\n",
       "if (notebookContainer) {{\n",
       "    x.observe(notebookContainer, {childList: true});\n",
       "}}\n",
       "\n",
       "// Listen for the clearing of the current output cell\n",
       "var outputEl = gd.closest('.output');\n",
       "if (outputEl) {{\n",
       "    x.observe(outputEl, {childList: true});\n",
       "}}\n",
       "\n",
       "                        })                };                });            </script>        </div>"
      ]
     },
     "metadata": {},
     "output_type": "display_data"
    }
   ],
   "source": [
    "fig = px.scatter(top_sales_merged.head(50), x='Average Rating', y='Total Global Sales',\n",
    "                 title='Video Game Rating vs Global Sales',\n",
    "                 labels={'Average Rating': 'Average Rating', 'Total Global Sales': 'Total Global Sales (in millions)'},\n",
    "                 hover_name='Video Game', size_max=60)\n",
    "fig.update_layout(\n",
    "    showlegend=False,  # Remove the legend\n",
    "    margin=dict(l=0, r=0, t=30, b=0),  # Adjust margin\n",
    ")\n",
    "# Show the plot\n",
    "fig.show()"
   ]
  },
  {
   "cell_type": "code",
   "execution_count": null,
   "id": "e2972788",
   "metadata": {},
   "outputs": [],
   "source": []
  }
 ],
 "metadata": {
  "kernelspec": {
   "display_name": "Python 3 (ipykernel)",
   "language": "python",
   "name": "python3"
  },
  "language_info": {
   "codemirror_mode": {
    "name": "ipython",
    "version": 3
   },
   "file_extension": ".py",
   "mimetype": "text/x-python",
   "name": "python",
   "nbconvert_exporter": "python",
   "pygments_lexer": "ipython3",
   "version": "3.11.4"
  }
 },
 "nbformat": 4,
 "nbformat_minor": 5
}
