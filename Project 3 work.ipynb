{
 "cells": [
  {
   "cell_type": "code",
   "execution_count": 48,
   "id": "50a691a2",
   "metadata": {},
   "outputs": [],
   "source": [
    "from pymongo import MongoClient\n",
    "import pandas as pd\n",
    "from pprint import pprint "
   ]
  },
  {
   "cell_type": "code",
   "execution_count": 8,
   "id": "5b598653",
   "metadata": {},
   "outputs": [],
   "source": [
    "mongo = MongoClient(port=27017)"
   ]
  },
  {
   "cell_type": "code",
   "execution_count": 9,
   "id": "78dd9ecb",
   "metadata": {},
   "outputs": [
    {
     "name": "stdout",
     "output_type": "stream",
     "text": [
      "['Homework1', 'Project-3', 'admin', 'classDB', 'config', 'fruits_db', 'local', 'met', 'petsitly_marketing', 'uk_food']\n"
     ]
    }
   ],
   "source": [
    "print(mongo.list_database_names())"
   ]
  },
  {
   "cell_type": "code",
   "execution_count": 10,
   "id": "fdee6f19",
   "metadata": {},
   "outputs": [],
   "source": [
    "db = mongo['Project-3']"
   ]
  },
  {
   "cell_type": "code",
   "execution_count": 11,
   "id": "486998ea",
   "metadata": {},
   "outputs": [
    {
     "name": "stdout",
     "output_type": "stream",
     "text": [
      "['video_games']\n"
     ]
    }
   ],
   "source": [
    "print(db.list_collection_names())"
   ]
  },
  {
   "cell_type": "code",
   "execution_count": 20,
   "id": "c3506f3e",
   "metadata": {},
   "outputs": [],
   "source": [
    "video_games = db['video_games']"
   ]
  },
  {
   "cell_type": "code",
   "execution_count": 13,
   "id": "4d5352a6",
   "metadata": {},
   "outputs": [
    {
     "name": "stdout",
     "output_type": "stream",
     "text": [
      "{'_id': ObjectId('65839489b3e6510dae7ccd06'), 'name': 'The Legend of Zelda: Ocarina of Time', 'platform': ' Nintendo 64', 'release_date': 'November 23, 1998', 'summary': 'As a young boy, Link is tricked by Ganondorf, the King of the Gerudo Thieves. The evil human uses Link to gain access to the Sacred Realm, where he places his tainted hands on Triforce and transforms the beautiful Hyrulean landscape into a barren wasteland. Link is determined to fix the problems he helped to create, so with the help of Rauru he travels through time gathering the powers of the Seven Sages.', 'user_review': 9.1}\n"
     ]
    }
   ],
   "source": [
    "print(db.video_games.find_one())"
   ]
  },
  {
   "cell_type": "code",
   "execution_count": 60,
   "id": "18b52525",
   "metadata": {},
   "outputs": [
    {
     "name": "stdout",
     "output_type": "stream",
     "text": [
      "0 documents deleted\n",
      "{'_id': 'Disgaea PC', 'mean_user_review': 6.1}\n",
      "{'_id': \"GTI Club + Rally Cote D'Azur\", 'mean_user_review': 7.5}\n",
      "{'_id': 'Fitness Boxing', 'mean_user_review': 6.7}\n",
      "{'_id': 'Table Top Racing', 'mean_user_review': 6.9}\n",
      "{'_id': 'Pac-Man', 'mean_user_review': 5.1}\n"
     ]
    }
   ],
   "source": [
    "# Delete documents with user_review equal to \"tbd\"\n",
    "result = video_games.delete_many({'user_review': 'tbd'})\n",
    "print(f\"{result.deleted_count} documents deleted\")\n",
    "\n",
    "# Now, retrieve the remaining documents and perform aggregation\n",
    "pipeline = [\n",
    "    {\n",
    "        '$group': {\n",
    "            '_id': '$name',\n",
    "            'mean_user_review': {'$avg': '$user_review'}\n",
    "        }\n",
    "    }\n",
    "]\n",
    "\n",
    "result_after_deletion = list(video_games.aggregate(pipeline))\n",
    "\n",
    "for item in result_after_deletion[:5]:\n",
    "    pprint(item)"
   ]
  },
  {
   "cell_type": "code",
   "execution_count": 46,
   "id": "d4dc60a1",
   "metadata": {},
   "outputs": [],
   "source": [
    "documents_with_tbd = video_games.find({'user_review': 'tbd'})\n",
    "\n",
    "# Print or process the matching documents\n",
    "for document in documents_with_tbd:\n",
    "    print(document)"
   ]
  },
  {
   "cell_type": "code",
   "execution_count": 54,
   "id": "dd2ec783",
   "metadata": {},
   "outputs": [
    {
     "data": {
      "text/html": [
       "<div>\n",
       "<style scoped>\n",
       "    .dataframe tbody tr th:only-of-type {\n",
       "        vertical-align: middle;\n",
       "    }\n",
       "\n",
       "    .dataframe tbody tr th {\n",
       "        vertical-align: top;\n",
       "    }\n",
       "\n",
       "    .dataframe thead th {\n",
       "        text-align: right;\n",
       "    }\n",
       "</style>\n",
       "<table border=\"1\" class=\"dataframe\">\n",
       "  <thead>\n",
       "    <tr style=\"text-align: right;\">\n",
       "      <th></th>\n",
       "      <th>_id</th>\n",
       "      <th>mean_user_review</th>\n",
       "    </tr>\n",
       "  </thead>\n",
       "  <tbody>\n",
       "    <tr>\n",
       "      <th>0</th>\n",
       "      <td>Control: Ultimate Edition</td>\n",
       "      <td>7.500000</td>\n",
       "    </tr>\n",
       "    <tr>\n",
       "      <th>1</th>\n",
       "      <td>Yggdra Union</td>\n",
       "      <td>7.700000</td>\n",
       "    </tr>\n",
       "    <tr>\n",
       "      <th>2</th>\n",
       "      <td>Kid Icarus: Uprising</td>\n",
       "      <td>8.700000</td>\n",
       "    </tr>\n",
       "    <tr>\n",
       "      <th>3</th>\n",
       "      <td>Atelier Dusk Trilogy Deluxe Pack</td>\n",
       "      <td>6.200000</td>\n",
       "    </tr>\n",
       "    <tr>\n",
       "      <th>4</th>\n",
       "      <td>Polybius</td>\n",
       "      <td>7.200000</td>\n",
       "    </tr>\n",
       "    <tr>\n",
       "      <th>5</th>\n",
       "      <td>Persona 4: Dancing All Night</td>\n",
       "      <td>5.400000</td>\n",
       "    </tr>\n",
       "    <tr>\n",
       "      <th>6</th>\n",
       "      <td>Behind the Frame: The Finest Scenery</td>\n",
       "      <td>8.600000</td>\n",
       "    </tr>\n",
       "    <tr>\n",
       "      <th>7</th>\n",
       "      <td>Escape Plan</td>\n",
       "      <td>7.000000</td>\n",
       "    </tr>\n",
       "    <tr>\n",
       "      <th>8</th>\n",
       "      <td>The Walking Dead: The Telltale Series - A New ...</td>\n",
       "      <td>5.550000</td>\n",
       "    </tr>\n",
       "    <tr>\n",
       "      <th>9</th>\n",
       "      <td>Alter Ego (2010)</td>\n",
       "      <td>5.800000</td>\n",
       "    </tr>\n",
       "    <tr>\n",
       "      <th>10</th>\n",
       "      <td>The Chaos Engine (2013)</td>\n",
       "      <td>7.600000</td>\n",
       "    </tr>\n",
       "    <tr>\n",
       "      <th>11</th>\n",
       "      <td>Overwhelm</td>\n",
       "      <td>5.800000</td>\n",
       "    </tr>\n",
       "    <tr>\n",
       "      <th>12</th>\n",
       "      <td>XCOM: Enemy Unknown Plus</td>\n",
       "      <td>8.100000</td>\n",
       "    </tr>\n",
       "    <tr>\n",
       "      <th>13</th>\n",
       "      <td>Clive Barker's Jericho</td>\n",
       "      <td>7.466667</td>\n",
       "    </tr>\n",
       "    <tr>\n",
       "      <th>14</th>\n",
       "      <td>Top Gun: Combat Zones</td>\n",
       "      <td>4.800000</td>\n",
       "    </tr>\n",
       "  </tbody>\n",
       "</table>\n",
       "</div>"
      ],
      "text/plain": [
       "                                                  _id  mean_user_review\n",
       "0                           Control: Ultimate Edition          7.500000\n",
       "1                                        Yggdra Union          7.700000\n",
       "2                                Kid Icarus: Uprising          8.700000\n",
       "3                    Atelier Dusk Trilogy Deluxe Pack          6.200000\n",
       "4                                            Polybius          7.200000\n",
       "5                        Persona 4: Dancing All Night          5.400000\n",
       "6                Behind the Frame: The Finest Scenery          8.600000\n",
       "7                                         Escape Plan          7.000000\n",
       "8   The Walking Dead: The Telltale Series - A New ...          5.550000\n",
       "9                                    Alter Ego (2010)          5.800000\n",
       "10                            The Chaos Engine (2013)          7.600000\n",
       "11                                          Overwhelm          5.800000\n",
       "12                           XCOM: Enemy Unknown Plus          8.100000\n",
       "13                             Clive Barker's Jericho          7.466667\n",
       "14                              Top Gun: Combat Zones          4.800000"
      ]
     },
     "execution_count": 54,
     "metadata": {},
     "output_type": "execute_result"
    }
   ],
   "source": [
    "cleaned_df = pd.DataFrame(result_after_deletion)\n",
    "cleaned_df.head(15)"
   ]
  },
  {
   "cell_type": "code",
   "execution_count": 55,
   "id": "464d4f0f",
   "metadata": {},
   "outputs": [
    {
     "data": {
      "text/html": [
       "<div>\n",
       "<style scoped>\n",
       "    .dataframe tbody tr th:only-of-type {\n",
       "        vertical-align: middle;\n",
       "    }\n",
       "\n",
       "    .dataframe tbody tr th {\n",
       "        vertical-align: top;\n",
       "    }\n",
       "\n",
       "    .dataframe thead th {\n",
       "        text-align: right;\n",
       "    }\n",
       "</style>\n",
       "<table border=\"1\" class=\"dataframe\">\n",
       "  <thead>\n",
       "    <tr style=\"text-align: right;\">\n",
       "      <th></th>\n",
       "      <th>_id</th>\n",
       "      <th>mean_user_review</th>\n",
       "    </tr>\n",
       "  </thead>\n",
       "  <tbody>\n",
       "    <tr>\n",
       "      <th>0</th>\n",
       "      <td>Control: Ultimate Edition</td>\n",
       "      <td>7.50</td>\n",
       "    </tr>\n",
       "    <tr>\n",
       "      <th>1</th>\n",
       "      <td>Yggdra Union</td>\n",
       "      <td>7.70</td>\n",
       "    </tr>\n",
       "    <tr>\n",
       "      <th>2</th>\n",
       "      <td>Kid Icarus: Uprising</td>\n",
       "      <td>8.70</td>\n",
       "    </tr>\n",
       "    <tr>\n",
       "      <th>3</th>\n",
       "      <td>Atelier Dusk Trilogy Deluxe Pack</td>\n",
       "      <td>6.20</td>\n",
       "    </tr>\n",
       "    <tr>\n",
       "      <th>4</th>\n",
       "      <td>Polybius</td>\n",
       "      <td>7.20</td>\n",
       "    </tr>\n",
       "    <tr>\n",
       "      <th>5</th>\n",
       "      <td>Persona 4: Dancing All Night</td>\n",
       "      <td>5.40</td>\n",
       "    </tr>\n",
       "    <tr>\n",
       "      <th>6</th>\n",
       "      <td>Behind the Frame: The Finest Scenery</td>\n",
       "      <td>8.60</td>\n",
       "    </tr>\n",
       "    <tr>\n",
       "      <th>7</th>\n",
       "      <td>Escape Plan</td>\n",
       "      <td>7.00</td>\n",
       "    </tr>\n",
       "    <tr>\n",
       "      <th>8</th>\n",
       "      <td>The Walking Dead: The Telltale Series - A New ...</td>\n",
       "      <td>5.55</td>\n",
       "    </tr>\n",
       "    <tr>\n",
       "      <th>9</th>\n",
       "      <td>Alter Ego (2010)</td>\n",
       "      <td>5.80</td>\n",
       "    </tr>\n",
       "    <tr>\n",
       "      <th>10</th>\n",
       "      <td>The Chaos Engine (2013)</td>\n",
       "      <td>7.60</td>\n",
       "    </tr>\n",
       "    <tr>\n",
       "      <th>11</th>\n",
       "      <td>Overwhelm</td>\n",
       "      <td>5.80</td>\n",
       "    </tr>\n",
       "    <tr>\n",
       "      <th>12</th>\n",
       "      <td>XCOM: Enemy Unknown Plus</td>\n",
       "      <td>8.10</td>\n",
       "    </tr>\n",
       "    <tr>\n",
       "      <th>13</th>\n",
       "      <td>Clive Barker's Jericho</td>\n",
       "      <td>7.47</td>\n",
       "    </tr>\n",
       "    <tr>\n",
       "      <th>14</th>\n",
       "      <td>Top Gun: Combat Zones</td>\n",
       "      <td>4.80</td>\n",
       "    </tr>\n",
       "  </tbody>\n",
       "</table>\n",
       "</div>"
      ],
      "text/plain": [
       "                                                  _id  mean_user_review\n",
       "0                           Control: Ultimate Edition              7.50\n",
       "1                                        Yggdra Union              7.70\n",
       "2                                Kid Icarus: Uprising              8.70\n",
       "3                    Atelier Dusk Trilogy Deluxe Pack              6.20\n",
       "4                                            Polybius              7.20\n",
       "5                        Persona 4: Dancing All Night              5.40\n",
       "6                Behind the Frame: The Finest Scenery              8.60\n",
       "7                                         Escape Plan              7.00\n",
       "8   The Walking Dead: The Telltale Series - A New ...              5.55\n",
       "9                                    Alter Ego (2010)              5.80\n",
       "10                            The Chaos Engine (2013)              7.60\n",
       "11                                          Overwhelm              5.80\n",
       "12                           XCOM: Enemy Unknown Plus              8.10\n",
       "13                             Clive Barker's Jericho              7.47\n",
       "14                              Top Gun: Combat Zones              4.80"
      ]
     },
     "execution_count": 55,
     "metadata": {},
     "output_type": "execute_result"
    }
   ],
   "source": [
    "cleaned_df['mean_user_review'] = cleaned_df['mean_user_review'].round(2)\n",
    "\n",
    "cleaned_df.head(15)"
   ]
  },
  {
   "cell_type": "code",
   "execution_count": null,
   "id": "818ba9fd",
   "metadata": {},
   "outputs": [],
   "source": []
  }
 ],
 "metadata": {
  "kernelspec": {
   "display_name": "Python 3 (ipykernel)",
   "language": "python",
   "name": "python3"
  },
  "language_info": {
   "codemirror_mode": {
    "name": "ipython",
    "version": 3
   },
   "file_extension": ".py",
   "mimetype": "text/x-python",
   "name": "python",
   "nbconvert_exporter": "python",
   "pygments_lexer": "ipython3",
   "version": "3.11.4"
  }
 },
 "nbformat": 4,
 "nbformat_minor": 5
}
