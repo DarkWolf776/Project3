{
 "cells": [
  {
   "cell_type": "code",
   "execution_count": 1,
   "id": "74434b7f",
   "metadata": {},
   "outputs": [],
   "source": [
    "#!mongoimport --type csv -d Project_3 -c video_game_sales --drop --jsonArray /Data/SQL Video_Game_Sales.csv\n",
    "#!mongoimport --type csv -d Project_3 -c video_games --drop --jsonArray /Data/SQL video_games_rating.csv\n"
   ]
  },
  {
   "cell_type": "code",
   "execution_count": 2,
   "id": "6ced3493",
   "metadata": {},
   "outputs": [],
   "source": [
    "import pymongo\n",
    "from pymongo import MongoClient\n",
    "import pandas as pd\n",
    "from pprint import pprint \n",
    "import matplotlib.pyplot as plt\n",
    "import seaborn as sns\n",
    "import plotly.express as px"
   ]
  },
  {
   "cell_type": "code",
   "execution_count": 3,
   "id": "9ee6e41e",
   "metadata": {},
   "outputs": [],
   "source": [
    "mongo = MongoClient(port=27017)"
   ]
  },
  {
   "cell_type": "code",
   "execution_count": 4,
   "id": "8ea96246",
   "metadata": {},
   "outputs": [
    {
     "name": "stdout",
     "output_type": "stream",
     "text": [
      "['Homework1', 'Project_3', 'admin', 'classDB', 'config', 'fruits_db', 'local', 'met', 'petsitly_marketing', 'uk_food']\n"
     ]
    }
   ],
   "source": [
    "print(mongo.list_database_names())"
   ]
  },
  {
   "cell_type": "code",
   "execution_count": 5,
   "id": "ec95f7dc",
   "metadata": {},
   "outputs": [],
   "source": [
    "db = mongo['Project_3']"
   ]
  },
  {
   "cell_type": "code",
   "execution_count": 6,
   "id": "32b31b14",
   "metadata": {},
   "outputs": [
    {
     "name": "stdout",
     "output_type": "stream",
     "text": [
      "['video_games', 'video_game_sales']\n"
     ]
    }
   ],
   "source": [
    "print(db.list_collection_names())"
   ]
  },
  {
   "cell_type": "code",
   "execution_count": 7,
   "id": "bb235a12",
   "metadata": {},
   "outputs": [],
   "source": [
    "video_games = db['video_games']"
   ]
  },
  {
   "cell_type": "code",
   "execution_count": 8,
   "id": "73984799",
   "metadata": {},
   "outputs": [
    {
     "name": "stdout",
     "output_type": "stream",
     "text": [
      "{'_id': ObjectId('6584b53934d390600f49621d'),\n",
      " 'name': 'The Legend of Zelda: Ocarina of Time',\n",
      " 'platform': ' Nintendo 64',\n",
      " 'release_date': '23-Nov-98',\n",
      " 'summary': 'As a young boy, Link is tricked by Ganondorf, the King of the '\n",
      "            'Gerudo Thieves. The evil human uses Link to gain access to the '\n",
      "            'Sacred Realm, where he places his tainted hands on Triforce and '\n",
      "            'transforms the beautiful Hyrulean landscape into a barren '\n",
      "            'wasteland. Link is determined to fix the problems he helped to '\n",
      "            'create, so with the help of Rauru he travels through time '\n",
      "            'gathering the powers of the Seven Sages.',\n",
      " 'user_review': 9.1}\n"
     ]
    }
   ],
   "source": [
    "pprint(db.video_games.find_one())"
   ]
  },
  {
   "cell_type": "code",
   "execution_count": 9,
   "id": "9483b182",
   "metadata": {},
   "outputs": [
    {
     "name": "stdout",
     "output_type": "stream",
     "text": [
      "Number of documents where user_review is 'tbd': 0\n"
     ]
    }
   ],
   "source": [
    "count_tbd = video_games.count_documents({'user_review': 'tbd'})\n",
    "\n",
    "print(f\"Number of documents where user_review is 'tbd': {count_tbd}\")"
   ]
  },
  {
   "cell_type": "code",
   "execution_count": 10,
   "id": "0fbf41e2",
   "metadata": {},
   "outputs": [
    {
     "name": "stdout",
     "output_type": "stream",
     "text": [
      "0 documents deleted\n",
      "{'_id': 'Dynasty Warriors 8: Xtreme Legends - Definitive Edition',\n",
      " 'mean_user_review': 8.5}\n",
      "{'_id': 'Anno 1800', 'mean_user_review': 7.9}\n",
      "{'_id': 'Galactic Civilizations II: Dark Avatar', 'mean_user_review': 7.8}\n",
      "{'_id': 'Delta Force - Black Hawk Down: Team Sabre', 'mean_user_review': 7.4}\n",
      "{'_id': 'Dark Souls II: Crown of the Old Iron King', 'mean_user_review': 7.85}\n"
     ]
    }
   ],
   "source": [
    "# Delete documents with user_review equal to \"tbd\"\n",
    "result = video_games.delete_many({'user_review': 'tbd'})\n",
    "print(f\"{result.deleted_count} documents deleted\")\n",
    "# Now, retrieve the remaining documents and perform aggregation\n",
    "pipeline = [\n",
    "    {\n",
    "        '$group': {\n",
    "            '_id': '$name',\n",
    "            'mean_user_review': {'$avg': '$user_review'}\n",
    "        }\n",
    "    }\n",
    "]\n",
    "\n",
    "result_after_deletion = list(video_games.aggregate(pipeline))\n",
    "\n",
    "for item in result_after_deletion[:5]:\n",
    "    pprint(item)"
   ]
  },
  {
   "cell_type": "code",
   "execution_count": 11,
   "id": "9273f968",
   "metadata": {},
   "outputs": [],
   "source": [
    "documents_with_tbd = video_games.find({'user_review': 'tbd'})\n",
    "\n",
    "# Print or process the matching documents\n",
    "for document in documents_with_tbd:\n",
    "    print(document)"
   ]
  },
  {
   "cell_type": "code",
   "execution_count": 12,
   "id": "5fba173c",
   "metadata": {},
   "outputs": [
    {
     "data": {
      "text/html": [
       "<div>\n",
       "<style scoped>\n",
       "    .dataframe tbody tr th:only-of-type {\n",
       "        vertical-align: middle;\n",
       "    }\n",
       "\n",
       "    .dataframe tbody tr th {\n",
       "        vertical-align: top;\n",
       "    }\n",
       "\n",
       "    .dataframe thead th {\n",
       "        text-align: right;\n",
       "    }\n",
       "</style>\n",
       "<table border=\"1\" class=\"dataframe\">\n",
       "  <thead>\n",
       "    <tr style=\"text-align: right;\">\n",
       "      <th></th>\n",
       "      <th>_id</th>\n",
       "      <th>mean_user_review</th>\n",
       "    </tr>\n",
       "  </thead>\n",
       "  <tbody>\n",
       "    <tr>\n",
       "      <th>0</th>\n",
       "      <td>Dynasty Warriors 8: Xtreme Legends - Definitiv...</td>\n",
       "      <td>8.50</td>\n",
       "    </tr>\n",
       "    <tr>\n",
       "      <th>1</th>\n",
       "      <td>Anno 1800</td>\n",
       "      <td>7.90</td>\n",
       "    </tr>\n",
       "    <tr>\n",
       "      <th>2</th>\n",
       "      <td>Galactic Civilizations II: Dark Avatar</td>\n",
       "      <td>7.80</td>\n",
       "    </tr>\n",
       "    <tr>\n",
       "      <th>3</th>\n",
       "      <td>Delta Force - Black Hawk Down: Team Sabre</td>\n",
       "      <td>7.40</td>\n",
       "    </tr>\n",
       "    <tr>\n",
       "      <th>4</th>\n",
       "      <td>Dark Souls II: Crown of the Old Iron King</td>\n",
       "      <td>7.85</td>\n",
       "    </tr>\n",
       "    <tr>\n",
       "      <th>5</th>\n",
       "      <td>Strong Bad's Cool Game for Attractive People E...</td>\n",
       "      <td>7.00</td>\n",
       "    </tr>\n",
       "    <tr>\n",
       "      <th>6</th>\n",
       "      <td>King's Quest Chapter 5: The Good Knight</td>\n",
       "      <td>5.50</td>\n",
       "    </tr>\n",
       "    <tr>\n",
       "      <th>7</th>\n",
       "      <td>Pryzm Chapter One: The Dark Unicorn</td>\n",
       "      <td>3.60</td>\n",
       "    </tr>\n",
       "    <tr>\n",
       "      <th>8</th>\n",
       "      <td>Hearthstone: Heroes of Warcraft - Blackrock Mo...</td>\n",
       "      <td>5.80</td>\n",
       "    </tr>\n",
       "    <tr>\n",
       "      <th>9</th>\n",
       "      <td>Battletoads</td>\n",
       "      <td>5.85</td>\n",
       "    </tr>\n",
       "    <tr>\n",
       "      <th>10</th>\n",
       "      <td>Northland</td>\n",
       "      <td>8.30</td>\n",
       "    </tr>\n",
       "    <tr>\n",
       "      <th>11</th>\n",
       "      <td>AMY</td>\n",
       "      <td>3.45</td>\n",
       "    </tr>\n",
       "    <tr>\n",
       "      <th>12</th>\n",
       "      <td>Bit.Trip Saga</td>\n",
       "      <td>7.90</td>\n",
       "    </tr>\n",
       "    <tr>\n",
       "      <th>13</th>\n",
       "      <td>Dynasty Warriors 4: Xtreme Legends</td>\n",
       "      <td>8.30</td>\n",
       "    </tr>\n",
       "    <tr>\n",
       "      <th>14</th>\n",
       "      <td>Mobile Light Force 2</td>\n",
       "      <td>7.20</td>\n",
       "    </tr>\n",
       "  </tbody>\n",
       "</table>\n",
       "</div>"
      ],
      "text/plain": [
       "                                                  _id  mean_user_review\n",
       "0   Dynasty Warriors 8: Xtreme Legends - Definitiv...              8.50\n",
       "1                                           Anno 1800              7.90\n",
       "2              Galactic Civilizations II: Dark Avatar              7.80\n",
       "3           Delta Force - Black Hawk Down: Team Sabre              7.40\n",
       "4           Dark Souls II: Crown of the Old Iron King              7.85\n",
       "5   Strong Bad's Cool Game for Attractive People E...              7.00\n",
       "6             King's Quest Chapter 5: The Good Knight              5.50\n",
       "7                 Pryzm Chapter One: The Dark Unicorn              3.60\n",
       "8   Hearthstone: Heroes of Warcraft - Blackrock Mo...              5.80\n",
       "9                                         Battletoads              5.85\n",
       "10                                          Northland              8.30\n",
       "11                                                AMY              3.45\n",
       "12                                      Bit.Trip Saga              7.90\n",
       "13                 Dynasty Warriors 4: Xtreme Legends              8.30\n",
       "14                               Mobile Light Force 2              7.20"
      ]
     },
     "execution_count": 12,
     "metadata": {},
     "output_type": "execute_result"
    }
   ],
   "source": [
    "cleaned_df = pd.DataFrame(result_after_deletion)\n",
    "cleaned_df.head(15)"
   ]
  },
  {
   "cell_type": "code",
   "execution_count": 13,
   "id": "34f7cd7e",
   "metadata": {},
   "outputs": [
    {
     "data": {
      "text/html": [
       "<div>\n",
       "<style scoped>\n",
       "    .dataframe tbody tr th:only-of-type {\n",
       "        vertical-align: middle;\n",
       "    }\n",
       "\n",
       "    .dataframe tbody tr th {\n",
       "        vertical-align: top;\n",
       "    }\n",
       "\n",
       "    .dataframe thead th {\n",
       "        text-align: right;\n",
       "    }\n",
       "</style>\n",
       "<table border=\"1\" class=\"dataframe\">\n",
       "  <thead>\n",
       "    <tr style=\"text-align: right;\">\n",
       "      <th></th>\n",
       "      <th>Video Game</th>\n",
       "      <th>Average Rating</th>\n",
       "    </tr>\n",
       "  </thead>\n",
       "  <tbody>\n",
       "    <tr>\n",
       "      <th>0</th>\n",
       "      <td>Dynasty Warriors 8: Xtreme Legends - Definitiv...</td>\n",
       "      <td>8.50</td>\n",
       "    </tr>\n",
       "    <tr>\n",
       "      <th>1</th>\n",
       "      <td>Anno 1800</td>\n",
       "      <td>7.90</td>\n",
       "    </tr>\n",
       "    <tr>\n",
       "      <th>2</th>\n",
       "      <td>Galactic Civilizations II: Dark Avatar</td>\n",
       "      <td>7.80</td>\n",
       "    </tr>\n",
       "    <tr>\n",
       "      <th>3</th>\n",
       "      <td>Delta Force - Black Hawk Down: Team Sabre</td>\n",
       "      <td>7.40</td>\n",
       "    </tr>\n",
       "    <tr>\n",
       "      <th>4</th>\n",
       "      <td>Dark Souls II: Crown of the Old Iron King</td>\n",
       "      <td>7.85</td>\n",
       "    </tr>\n",
       "    <tr>\n",
       "      <th>5</th>\n",
       "      <td>Strong Bad's Cool Game for Attractive People E...</td>\n",
       "      <td>7.00</td>\n",
       "    </tr>\n",
       "    <tr>\n",
       "      <th>6</th>\n",
       "      <td>King's Quest Chapter 5: The Good Knight</td>\n",
       "      <td>5.50</td>\n",
       "    </tr>\n",
       "    <tr>\n",
       "      <th>7</th>\n",
       "      <td>Pryzm Chapter One: The Dark Unicorn</td>\n",
       "      <td>3.60</td>\n",
       "    </tr>\n",
       "    <tr>\n",
       "      <th>8</th>\n",
       "      <td>Hearthstone: Heroes of Warcraft - Blackrock Mo...</td>\n",
       "      <td>5.80</td>\n",
       "    </tr>\n",
       "    <tr>\n",
       "      <th>9</th>\n",
       "      <td>Battletoads</td>\n",
       "      <td>5.85</td>\n",
       "    </tr>\n",
       "    <tr>\n",
       "      <th>10</th>\n",
       "      <td>Northland</td>\n",
       "      <td>8.30</td>\n",
       "    </tr>\n",
       "    <tr>\n",
       "      <th>11</th>\n",
       "      <td>AMY</td>\n",
       "      <td>3.45</td>\n",
       "    </tr>\n",
       "    <tr>\n",
       "      <th>12</th>\n",
       "      <td>Bit.Trip Saga</td>\n",
       "      <td>7.90</td>\n",
       "    </tr>\n",
       "    <tr>\n",
       "      <th>13</th>\n",
       "      <td>Dynasty Warriors 4: Xtreme Legends</td>\n",
       "      <td>8.30</td>\n",
       "    </tr>\n",
       "    <tr>\n",
       "      <th>14</th>\n",
       "      <td>Mobile Light Force 2</td>\n",
       "      <td>7.20</td>\n",
       "    </tr>\n",
       "  </tbody>\n",
       "</table>\n",
       "</div>"
      ],
      "text/plain": [
       "                                           Video Game  Average Rating\n",
       "0   Dynasty Warriors 8: Xtreme Legends - Definitiv...            8.50\n",
       "1                                           Anno 1800            7.90\n",
       "2              Galactic Civilizations II: Dark Avatar            7.80\n",
       "3           Delta Force - Black Hawk Down: Team Sabre            7.40\n",
       "4           Dark Souls II: Crown of the Old Iron King            7.85\n",
       "5   Strong Bad's Cool Game for Attractive People E...            7.00\n",
       "6             King's Quest Chapter 5: The Good Knight            5.50\n",
       "7                 Pryzm Chapter One: The Dark Unicorn            3.60\n",
       "8   Hearthstone: Heroes of Warcraft - Blackrock Mo...            5.80\n",
       "9                                         Battletoads            5.85\n",
       "10                                          Northland            8.30\n",
       "11                                                AMY            3.45\n",
       "12                                      Bit.Trip Saga            7.90\n",
       "13                 Dynasty Warriors 4: Xtreme Legends            8.30\n",
       "14                               Mobile Light Force 2            7.20"
      ]
     },
     "execution_count": 13,
     "metadata": {},
     "output_type": "execute_result"
    }
   ],
   "source": [
    "cleaned_df['mean_user_review'] = cleaned_df['mean_user_review'].round(2)\n",
    "cleaned_df = cleaned_df.rename(columns={'_id': 'Video Game'})\n",
    "cleaned_df = cleaned_df.rename(columns={'mean_user_review': 'Average Rating'})\n",
    "\n",
    "cleaned_df.head(15)"
   ]
  },
  {
   "cell_type": "code",
   "execution_count": 14,
   "id": "e8988322",
   "metadata": {
    "scrolled": false
   },
   "outputs": [
    {
     "data": {
      "text/html": [
       "<div>\n",
       "<style scoped>\n",
       "    .dataframe tbody tr th:only-of-type {\n",
       "        vertical-align: middle;\n",
       "    }\n",
       "\n",
       "    .dataframe tbody tr th {\n",
       "        vertical-align: top;\n",
       "    }\n",
       "\n",
       "    .dataframe thead th {\n",
       "        text-align: right;\n",
       "    }\n",
       "</style>\n",
       "<table border=\"1\" class=\"dataframe\">\n",
       "  <thead>\n",
       "    <tr style=\"text-align: right;\">\n",
       "      <th></th>\n",
       "      <th>Video Game</th>\n",
       "      <th>Average Rating</th>\n",
       "    </tr>\n",
       "  </thead>\n",
       "  <tbody>\n",
       "    <tr>\n",
       "      <th>2962</th>\n",
       "      <td>Metal Torrent</td>\n",
       "      <td>9.70</td>\n",
       "    </tr>\n",
       "    <tr>\n",
       "      <th>7258</th>\n",
       "      <td>Tengami</td>\n",
       "      <td>9.70</td>\n",
       "    </tr>\n",
       "    <tr>\n",
       "      <th>4393</th>\n",
       "      <td>Z.H.P. Unlosing Ranger vs Darkdeath Evilman</td>\n",
       "      <td>9.70</td>\n",
       "    </tr>\n",
       "    <tr>\n",
       "      <th>6818</th>\n",
       "      <td>Ghost Trick: Phantom Detective</td>\n",
       "      <td>9.70</td>\n",
       "    </tr>\n",
       "    <tr>\n",
       "      <th>908</th>\n",
       "      <td>GrimGrimoire</td>\n",
       "      <td>9.70</td>\n",
       "    </tr>\n",
       "    <tr>\n",
       "      <th>10789</th>\n",
       "      <td>Crystar</td>\n",
       "      <td>9.60</td>\n",
       "    </tr>\n",
       "    <tr>\n",
       "      <th>2605</th>\n",
       "      <td>Diaries of a Spaceport Janitor</td>\n",
       "      <td>9.60</td>\n",
       "    </tr>\n",
       "    <tr>\n",
       "      <th>5105</th>\n",
       "      <td>Astro's Playroom</td>\n",
       "      <td>9.30</td>\n",
       "    </tr>\n",
       "    <tr>\n",
       "      <th>6610</th>\n",
       "      <td>The Witcher 3: Wild Hunt</td>\n",
       "      <td>9.27</td>\n",
       "    </tr>\n",
       "    <tr>\n",
       "      <th>2873</th>\n",
       "      <td>The Witcher 3: Wild Hunt - Blood and Wine</td>\n",
       "      <td>9.20</td>\n",
       "    </tr>\n",
       "    <tr>\n",
       "      <th>5679</th>\n",
       "      <td>Xenogears</td>\n",
       "      <td>9.20</td>\n",
       "    </tr>\n",
       "    <tr>\n",
       "      <th>1547</th>\n",
       "      <td>Warcraft III: The Frozen Throne</td>\n",
       "      <td>9.20</td>\n",
       "    </tr>\n",
       "    <tr>\n",
       "      <th>4892</th>\n",
       "      <td>Half-Life: Alyx</td>\n",
       "      <td>9.20</td>\n",
       "    </tr>\n",
       "    <tr>\n",
       "      <th>4028</th>\n",
       "      <td>Suikoden II</td>\n",
       "      <td>9.20</td>\n",
       "    </tr>\n",
       "    <tr>\n",
       "      <th>9362</th>\n",
       "      <td>Resident Evil (2002)</td>\n",
       "      <td>9.20</td>\n",
       "    </tr>\n",
       "  </tbody>\n",
       "</table>\n",
       "</div>"
      ],
      "text/plain": [
       "                                        Video Game  Average Rating\n",
       "2962                                 Metal Torrent            9.70\n",
       "7258                                       Tengami            9.70\n",
       "4393   Z.H.P. Unlosing Ranger vs Darkdeath Evilman            9.70\n",
       "6818                Ghost Trick: Phantom Detective            9.70\n",
       "908                                   GrimGrimoire            9.70\n",
       "10789                                      Crystar            9.60\n",
       "2605                Diaries of a Spaceport Janitor            9.60\n",
       "5105                              Astro's Playroom            9.30\n",
       "6610                      The Witcher 3: Wild Hunt            9.27\n",
       "2873     The Witcher 3: Wild Hunt - Blood and Wine            9.20\n",
       "5679                                     Xenogears            9.20\n",
       "1547               Warcraft III: The Frozen Throne            9.20\n",
       "4892                               Half-Life: Alyx            9.20\n",
       "4028                                   Suikoden II            9.20\n",
       "9362                          Resident Evil (2002)            9.20"
      ]
     },
     "execution_count": 14,
     "metadata": {},
     "output_type": "execute_result"
    }
   ],
   "source": [
    "top_games = cleaned_df.sort_values(by='Average Rating', ascending=False)\n",
    "top_games.head(15)"
   ]
  },
  {
   "cell_type": "code",
   "execution_count": 15,
   "id": "49aad2ad",
   "metadata": {},
   "outputs": [
    {
     "data": {
      "text/html": [
       "<div>\n",
       "<style scoped>\n",
       "    .dataframe tbody tr th:only-of-type {\n",
       "        vertical-align: middle;\n",
       "    }\n",
       "\n",
       "    .dataframe tbody tr th {\n",
       "        vertical-align: top;\n",
       "    }\n",
       "\n",
       "    .dataframe thead th {\n",
       "        text-align: right;\n",
       "    }\n",
       "</style>\n",
       "<table border=\"1\" class=\"dataframe\">\n",
       "  <thead>\n",
       "    <tr style=\"text-align: right;\">\n",
       "      <th></th>\n",
       "      <th>Video Game</th>\n",
       "      <th>Average Rating</th>\n",
       "    </tr>\n",
       "  </thead>\n",
       "  <tbody>\n",
       "    <tr>\n",
       "      <th>7251</th>\n",
       "      <td>Madden NFL 21</td>\n",
       "      <td>0.35</td>\n",
       "    </tr>\n",
       "    <tr>\n",
       "      <th>4939</th>\n",
       "      <td>Madden NFL 22</td>\n",
       "      <td>0.55</td>\n",
       "    </tr>\n",
       "    <tr>\n",
       "      <th>6071</th>\n",
       "      <td>Warcraft III: Reforged</td>\n",
       "      <td>0.60</td>\n",
       "    </tr>\n",
       "    <tr>\n",
       "      <th>7901</th>\n",
       "      <td>FIFA 20: Legacy Edition</td>\n",
       "      <td>0.70</td>\n",
       "    </tr>\n",
       "    <tr>\n",
       "      <th>2150</th>\n",
       "      <td>When Ski Lifts Go Wrong</td>\n",
       "      <td>1.00</td>\n",
       "    </tr>\n",
       "    <tr>\n",
       "      <th>6464</th>\n",
       "      <td>The Sims 4: Star Wars - Journey to Batuu</td>\n",
       "      <td>1.00</td>\n",
       "    </tr>\n",
       "    <tr>\n",
       "      <th>4524</th>\n",
       "      <td>FIFA 21</td>\n",
       "      <td>1.07</td>\n",
       "    </tr>\n",
       "    <tr>\n",
       "      <th>4877</th>\n",
       "      <td>Call of Duty: Modern Warfare 3 - Defiance</td>\n",
       "      <td>1.20</td>\n",
       "    </tr>\n",
       "    <tr>\n",
       "      <th>9659</th>\n",
       "      <td>FIFA 20</td>\n",
       "      <td>1.30</td>\n",
       "    </tr>\n",
       "    <tr>\n",
       "      <th>2170</th>\n",
       "      <td>Fast &amp; Furious: Showdown</td>\n",
       "      <td>1.30</td>\n",
       "    </tr>\n",
       "    <tr>\n",
       "      <th>2285</th>\n",
       "      <td>Legends of Pegasus</td>\n",
       "      <td>1.30</td>\n",
       "    </tr>\n",
       "    <tr>\n",
       "      <th>796</th>\n",
       "      <td>WWE 2K20</td>\n",
       "      <td>1.35</td>\n",
       "    </tr>\n",
       "    <tr>\n",
       "      <th>8018</th>\n",
       "      <td>Fimbul</td>\n",
       "      <td>1.50</td>\n",
       "    </tr>\n",
       "    <tr>\n",
       "      <th>9468</th>\n",
       "      <td>Wild West Online</td>\n",
       "      <td>1.50</td>\n",
       "    </tr>\n",
       "    <tr>\n",
       "      <th>4263</th>\n",
       "      <td>Dragon Ball: Evolution</td>\n",
       "      <td>1.50</td>\n",
       "    </tr>\n",
       "  </tbody>\n",
       "</table>\n",
       "</div>"
      ],
      "text/plain": [
       "                                     Video Game  Average Rating\n",
       "7251                              Madden NFL 21            0.35\n",
       "4939                              Madden NFL 22            0.55\n",
       "6071                     Warcraft III: Reforged            0.60\n",
       "7901                    FIFA 20: Legacy Edition            0.70\n",
       "2150                    When Ski Lifts Go Wrong            1.00\n",
       "6464   The Sims 4: Star Wars - Journey to Batuu            1.00\n",
       "4524                                    FIFA 21            1.07\n",
       "4877  Call of Duty: Modern Warfare 3 - Defiance            1.20\n",
       "9659                                    FIFA 20            1.30\n",
       "2170                   Fast & Furious: Showdown            1.30\n",
       "2285                         Legends of Pegasus            1.30\n",
       "796                                    WWE 2K20            1.35\n",
       "8018                                     Fimbul            1.50\n",
       "9468                           Wild West Online            1.50\n",
       "4263                     Dragon Ball: Evolution            1.50"
      ]
     },
     "execution_count": 15,
     "metadata": {},
     "output_type": "execute_result"
    }
   ],
   "source": [
    "bottom_games = cleaned_df.sort_values(by='Average Rating', ascending=True)\n",
    "bottom_games.head(15)"
   ]
  },
  {
   "cell_type": "code",
   "execution_count": 16,
   "id": "efa3d3a0",
   "metadata": {},
   "outputs": [
    {
     "name": "stdout",
     "output_type": "stream",
     "text": [
      "['video_games', 'video_game_sales']\n"
     ]
    }
   ],
   "source": [
    "print(db.list_collection_names())"
   ]
  },
  {
   "cell_type": "code",
   "execution_count": 17,
   "id": "9f858499",
   "metadata": {},
   "outputs": [],
   "source": [
    "video_game_sales = db['video_game_sales']"
   ]
  },
  {
   "cell_type": "code",
   "execution_count": 18,
   "id": "b7107636",
   "metadata": {},
   "outputs": [
    {
     "name": "stdout",
     "output_type": "stream",
     "text": [
      "{'EU_Sales': 29.02,\n",
      " 'Genre': 'Sports',\n",
      " 'Global_Sales': 82.74,\n",
      " 'JP_Sales': 3.77,\n",
      " 'NA_Sales': 41.49,\n",
      " 'Name': 'Wii Sports',\n",
      " 'Other_Sales': 8.46,\n",
      " 'Platform': 'Wii',\n",
      " 'Publisher': 'Nintendo',\n",
      " 'Rank': 1,\n",
      " 'Year': 2006,\n",
      " '_id': ObjectId('6584b56634d390600f49ab8d')}\n"
     ]
    }
   ],
   "source": [
    "pprint(db.video_game_sales.find_one())"
   ]
  },
  {
   "cell_type": "code",
   "execution_count": 19,
   "id": "51dd5aa9",
   "metadata": {},
   "outputs": [
    {
     "name": "stdout",
     "output_type": "stream",
     "text": [
      "271 documents deleted\n",
      "{'Total Global Sales': 0.14, '_id': 'Fear Factor: Unleashed'}\n",
      "{'Total Global Sales': 0.04, '_id': 'Emergency Room: Real Life Rescues'}\n",
      "{'Total Global Sales': 0.51, '_id': 'StarCraft II: Legacy of the Void'}\n",
      "{'Total Global Sales': 2.8, '_id': 'WWE SmackDown! Here Comes the Pain'}\n",
      "{'Total Global Sales': 0.05, '_id': 'Tour de France 2014'}\n"
     ]
    }
   ],
   "source": [
    "result2 = video_game_sales.delete_many({'Year': 'N/A'})\n",
    "print(f\"{result2.deleted_count} documents deleted\")\n",
    "pipeline = [\n",
    "    {\n",
    "        '$group': {\n",
    "            '_id': '$Name',\n",
    "            'Total Global Sales': {'$sum': '$Global_Sales'}\n",
    "        }\n",
    "    }\n",
    "]\n",
    "\n",
    "global_sales = list(video_game_sales.aggregate(pipeline))\n",
    "\n",
    "for item in global_sales[:5]:\n",
    "    pprint(item)"
   ]
  },
  {
   "cell_type": "code",
   "execution_count": 20,
   "id": "d35b5bcf",
   "metadata": {},
   "outputs": [
    {
     "data": {
      "text/html": [
       "<div>\n",
       "<style scoped>\n",
       "    .dataframe tbody tr th:only-of-type {\n",
       "        vertical-align: middle;\n",
       "    }\n",
       "\n",
       "    .dataframe tbody tr th {\n",
       "        vertical-align: top;\n",
       "    }\n",
       "\n",
       "    .dataframe thead th {\n",
       "        text-align: right;\n",
       "    }\n",
       "</style>\n",
       "<table border=\"1\" class=\"dataframe\">\n",
       "  <thead>\n",
       "    <tr style=\"text-align: right;\">\n",
       "      <th></th>\n",
       "      <th>Video Game</th>\n",
       "      <th>Total Global Sales</th>\n",
       "    </tr>\n",
       "  </thead>\n",
       "  <tbody>\n",
       "    <tr>\n",
       "      <th>8290</th>\n",
       "      <td>Wii Sports</td>\n",
       "      <td>82.74</td>\n",
       "    </tr>\n",
       "    <tr>\n",
       "      <th>1481</th>\n",
       "      <td>Grand Theft Auto V</td>\n",
       "      <td>55.92</td>\n",
       "    </tr>\n",
       "    <tr>\n",
       "      <th>518</th>\n",
       "      <td>Super Mario Bros.</td>\n",
       "      <td>45.31</td>\n",
       "    </tr>\n",
       "    <tr>\n",
       "      <th>10445</th>\n",
       "      <td>Tetris</td>\n",
       "      <td>35.84</td>\n",
       "    </tr>\n",
       "    <tr>\n",
       "      <th>8590</th>\n",
       "      <td>Mario Kart Wii</td>\n",
       "      <td>35.82</td>\n",
       "    </tr>\n",
       "    <tr>\n",
       "      <th>5619</th>\n",
       "      <td>Wii Sports Resort</td>\n",
       "      <td>33.00</td>\n",
       "    </tr>\n",
       "    <tr>\n",
       "      <th>3048</th>\n",
       "      <td>Pokemon Red/Pokemon Blue</td>\n",
       "      <td>31.37</td>\n",
       "    </tr>\n",
       "    <tr>\n",
       "      <th>6711</th>\n",
       "      <td>Call of Duty: Modern Warfare 3</td>\n",
       "      <td>30.83</td>\n",
       "    </tr>\n",
       "    <tr>\n",
       "      <th>7374</th>\n",
       "      <td>New Super Mario Bros.</td>\n",
       "      <td>30.01</td>\n",
       "    </tr>\n",
       "    <tr>\n",
       "      <th>3705</th>\n",
       "      <td>Call of Duty: Black Ops II</td>\n",
       "      <td>29.72</td>\n",
       "    </tr>\n",
       "    <tr>\n",
       "      <th>10388</th>\n",
       "      <td>Call of Duty: Black Ops</td>\n",
       "      <td>29.40</td>\n",
       "    </tr>\n",
       "    <tr>\n",
       "      <th>992</th>\n",
       "      <td>Wii Play</td>\n",
       "      <td>29.02</td>\n",
       "    </tr>\n",
       "    <tr>\n",
       "      <th>5449</th>\n",
       "      <td>New Super Mario Bros. Wii</td>\n",
       "      <td>28.62</td>\n",
       "    </tr>\n",
       "    <tr>\n",
       "      <th>5722</th>\n",
       "      <td>Duck Hunt</td>\n",
       "      <td>28.31</td>\n",
       "    </tr>\n",
       "    <tr>\n",
       "      <th>2843</th>\n",
       "      <td>Call of Duty: Ghosts</td>\n",
       "      <td>27.38</td>\n",
       "    </tr>\n",
       "  </tbody>\n",
       "</table>\n",
       "</div>"
      ],
      "text/plain": [
       "                           Video Game  Total Global Sales\n",
       "8290                       Wii Sports               82.74\n",
       "1481               Grand Theft Auto V               55.92\n",
       "518                 Super Mario Bros.               45.31\n",
       "10445                          Tetris               35.84\n",
       "8590                   Mario Kart Wii               35.82\n",
       "5619                Wii Sports Resort               33.00\n",
       "3048         Pokemon Red/Pokemon Blue               31.37\n",
       "6711   Call of Duty: Modern Warfare 3               30.83\n",
       "7374            New Super Mario Bros.               30.01\n",
       "3705       Call of Duty: Black Ops II               29.72\n",
       "10388         Call of Duty: Black Ops               29.40\n",
       "992                          Wii Play               29.02\n",
       "5449        New Super Mario Bros. Wii               28.62\n",
       "5722                        Duck Hunt               28.31\n",
       "2843             Call of Duty: Ghosts               27.38"
      ]
     },
     "execution_count": 20,
     "metadata": {},
     "output_type": "execute_result"
    }
   ],
   "source": [
    "global_df = pd.DataFrame(global_sales)\n",
    "cleaned_sales_df = global_df.rename(columns={'_id': 'Video Game'})\n",
    "top_sales = cleaned_sales_df.sort_values(by='Total Global Sales', ascending=False)\n",
    "top_sales.head(15)"
   ]
  },
  {
   "cell_type": "code",
   "execution_count": 21,
   "id": "87264ebb",
   "metadata": {},
   "outputs": [
    {
     "name": "stdout",
     "output_type": "stream",
     "text": [
      "{'Total Global Sales': 444.05, '_id': 'Fighting'}\n",
      "{'Total Global Sales': 173.43, '_id': 'Strategy'}\n",
      "{'Total Global Sales': 390.16, '_id': 'Simulation'}\n",
      "{'Total Global Sales': 1026.2, '_id': 'Shooter'}\n",
      "{'Total Global Sales': 242.22, '_id': 'Puzzle'}\n"
     ]
    }
   ],
   "source": [
    "pipeline2 = [\n",
    "    {\n",
    "        '$group': {\n",
    "            '_id': '$Genre',\n",
    "            'Total Global Sales': {'$sum': '$Global_Sales'}\n",
    "        }\n",
    "    }\n",
    "]\n",
    "\n",
    "per_category = list(video_game_sales.aggregate(pipeline2))\n",
    "\n",
    "for item in per_category[:5]:\n",
    "    pprint(item)"
   ]
  },
  {
   "cell_type": "code",
   "execution_count": 22,
   "id": "1bce74e2",
   "metadata": {},
   "outputs": [
    {
     "data": {
      "text/html": [
       "<div>\n",
       "<style scoped>\n",
       "    .dataframe tbody tr th:only-of-type {\n",
       "        vertical-align: middle;\n",
       "    }\n",
       "\n",
       "    .dataframe tbody tr th {\n",
       "        vertical-align: top;\n",
       "    }\n",
       "\n",
       "    .dataframe thead th {\n",
       "        text-align: right;\n",
       "    }\n",
       "</style>\n",
       "<table border=\"1\" class=\"dataframe\">\n",
       "  <thead>\n",
       "    <tr style=\"text-align: right;\">\n",
       "      <th></th>\n",
       "      <th>Video Game</th>\n",
       "      <th>Total Global Sales</th>\n",
       "    </tr>\n",
       "  </thead>\n",
       "  <tbody>\n",
       "    <tr>\n",
       "      <th>5</th>\n",
       "      <td>Action</td>\n",
       "      <td>1722.88</td>\n",
       "    </tr>\n",
       "    <tr>\n",
       "      <th>8</th>\n",
       "      <td>Sports</td>\n",
       "      <td>1309.24</td>\n",
       "    </tr>\n",
       "    <tr>\n",
       "      <th>3</th>\n",
       "      <td>Shooter</td>\n",
       "      <td>1026.20</td>\n",
       "    </tr>\n",
       "    <tr>\n",
       "      <th>11</th>\n",
       "      <td>Role-Playing</td>\n",
       "      <td>923.84</td>\n",
       "    </tr>\n",
       "    <tr>\n",
       "      <th>9</th>\n",
       "      <td>Platform</td>\n",
       "      <td>829.15</td>\n",
       "    </tr>\n",
       "    <tr>\n",
       "      <th>6</th>\n",
       "      <td>Misc</td>\n",
       "      <td>797.62</td>\n",
       "    </tr>\n",
       "    <tr>\n",
       "      <th>10</th>\n",
       "      <td>Racing</td>\n",
       "      <td>726.77</td>\n",
       "    </tr>\n",
       "    <tr>\n",
       "      <th>0</th>\n",
       "      <td>Fighting</td>\n",
       "      <td>444.05</td>\n",
       "    </tr>\n",
       "    <tr>\n",
       "      <th>2</th>\n",
       "      <td>Simulation</td>\n",
       "      <td>390.16</td>\n",
       "    </tr>\n",
       "    <tr>\n",
       "      <th>4</th>\n",
       "      <td>Puzzle</td>\n",
       "      <td>242.22</td>\n",
       "    </tr>\n",
       "    <tr>\n",
       "      <th>7</th>\n",
       "      <td>Adventure</td>\n",
       "      <td>234.80</td>\n",
       "    </tr>\n",
       "    <tr>\n",
       "      <th>1</th>\n",
       "      <td>Strategy</td>\n",
       "      <td>173.43</td>\n",
       "    </tr>\n",
       "  </tbody>\n",
       "</table>\n",
       "</div>"
      ],
      "text/plain": [
       "      Video Game  Total Global Sales\n",
       "5         Action             1722.88\n",
       "8         Sports             1309.24\n",
       "3        Shooter             1026.20\n",
       "11  Role-Playing              923.84\n",
       "9       Platform              829.15\n",
       "6           Misc              797.62\n",
       "10        Racing              726.77\n",
       "0       Fighting              444.05\n",
       "2     Simulation              390.16\n",
       "4         Puzzle              242.22\n",
       "7      Adventure              234.80\n",
       "1       Strategy              173.43"
      ]
     },
     "execution_count": 22,
     "metadata": {},
     "output_type": "execute_result"
    }
   ],
   "source": [
    "global_df_per_catergory = pd.DataFrame(per_category)\n",
    "cleaned_sales_df_category = global_df_per_catergory.rename(columns={'_id': 'Video Game'})\n",
    "top_sales_per_category = cleaned_sales_df_category.sort_values(by='Total Global Sales', ascending=False)\n",
    "top_sales_per_category.head(15)"
   ]
  },
  {
   "cell_type": "code",
   "execution_count": 23,
   "id": "4af06272",
   "metadata": {},
   "outputs": [
    {
     "name": "stdout",
     "output_type": "stream",
     "text": [
      "{'Total Global Sales': 818.96, '_id': 'DS'}\n",
      "{'Total Global Sales': 218.21, '_id': 'N64'}\n",
      "{'Total Global Sales': 200.05, '_id': 'SNES'}\n",
      "{'Total Global Sales': 255.05, '_id': 'PC'}\n",
      "{'Total Global Sales': 313.56, '_id': 'GBA'}\n"
     ]
    }
   ],
   "source": [
    "pipeline3 = [\n",
    "    {\n",
    "        '$group': {\n",
    "            '_id': '$Platform',\n",
    "            'Total Global Sales': {'$sum': '$Global_Sales'}\n",
    "        }\n",
    "    }\n",
    "]\n",
    "\n",
    "per_platform = list(video_game_sales.aggregate(pipeline3))\n",
    "\n",
    "for item in per_platform[:5]:\n",
    "    pprint(item)"
   ]
  },
  {
   "cell_type": "code",
   "execution_count": 24,
   "id": "5e205a3d",
   "metadata": {},
   "outputs": [
    {
     "data": {
      "text/html": [
       "<div>\n",
       "<style scoped>\n",
       "    .dataframe tbody tr th:only-of-type {\n",
       "        vertical-align: middle;\n",
       "    }\n",
       "\n",
       "    .dataframe tbody tr th {\n",
       "        vertical-align: top;\n",
       "    }\n",
       "\n",
       "    .dataframe thead th {\n",
       "        text-align: right;\n",
       "    }\n",
       "</style>\n",
       "<table border=\"1\" class=\"dataframe\">\n",
       "  <thead>\n",
       "    <tr style=\"text-align: right;\">\n",
       "      <th></th>\n",
       "      <th>Platform</th>\n",
       "      <th>Total Global Sales</th>\n",
       "    </tr>\n",
       "  </thead>\n",
       "  <tbody>\n",
       "    <tr>\n",
       "      <th>20</th>\n",
       "      <td>PS2</td>\n",
       "      <td>1233.46</td>\n",
       "    </tr>\n",
       "    <tr>\n",
       "      <th>11</th>\n",
       "      <td>X360</td>\n",
       "      <td>969.61</td>\n",
       "    </tr>\n",
       "    <tr>\n",
       "      <th>8</th>\n",
       "      <td>PS3</td>\n",
       "      <td>949.35</td>\n",
       "    </tr>\n",
       "    <tr>\n",
       "      <th>18</th>\n",
       "      <td>Wii</td>\n",
       "      <td>909.81</td>\n",
       "    </tr>\n",
       "    <tr>\n",
       "      <th>0</th>\n",
       "      <td>DS</td>\n",
       "      <td>818.96</td>\n",
       "    </tr>\n",
       "    <tr>\n",
       "      <th>21</th>\n",
       "      <td>PS</td>\n",
       "      <td>727.39</td>\n",
       "    </tr>\n",
       "    <tr>\n",
       "      <th>4</th>\n",
       "      <td>GBA</td>\n",
       "      <td>313.56</td>\n",
       "    </tr>\n",
       "    <tr>\n",
       "      <th>9</th>\n",
       "      <td>PSP</td>\n",
       "      <td>291.71</td>\n",
       "    </tr>\n",
       "    <tr>\n",
       "      <th>28</th>\n",
       "      <td>PS4</td>\n",
       "      <td>278.10</td>\n",
       "    </tr>\n",
       "    <tr>\n",
       "      <th>3</th>\n",
       "      <td>PC</td>\n",
       "      <td>255.05</td>\n",
       "    </tr>\n",
       "    <tr>\n",
       "      <th>22</th>\n",
       "      <td>GB</td>\n",
       "      <td>254.42</td>\n",
       "    </tr>\n",
       "    <tr>\n",
       "      <th>17</th>\n",
       "      <td>XB</td>\n",
       "      <td>252.09</td>\n",
       "    </tr>\n",
       "    <tr>\n",
       "      <th>25</th>\n",
       "      <td>NES</td>\n",
       "      <td>251.07</td>\n",
       "    </tr>\n",
       "    <tr>\n",
       "      <th>24</th>\n",
       "      <td>3DS</td>\n",
       "      <td>246.28</td>\n",
       "    </tr>\n",
       "    <tr>\n",
       "      <th>1</th>\n",
       "      <td>N64</td>\n",
       "      <td>218.21</td>\n",
       "    </tr>\n",
       "  </tbody>\n",
       "</table>\n",
       "</div>"
      ],
      "text/plain": [
       "   Platform  Total Global Sales\n",
       "20      PS2             1233.46\n",
       "11     X360              969.61\n",
       "8       PS3              949.35\n",
       "18      Wii              909.81\n",
       "0        DS              818.96\n",
       "21       PS              727.39\n",
       "4       GBA              313.56\n",
       "9       PSP              291.71\n",
       "28      PS4              278.10\n",
       "3        PC              255.05\n",
       "22       GB              254.42\n",
       "17       XB              252.09\n",
       "25      NES              251.07\n",
       "24      3DS              246.28\n",
       "1       N64              218.21"
      ]
     },
     "execution_count": 24,
     "metadata": {},
     "output_type": "execute_result"
    }
   ],
   "source": [
    "global_df_per_platform = pd.DataFrame(per_platform)\n",
    "cleaned_sales_df_platform = global_df_per_platform.rename(columns={'_id': 'Platform'})\n",
    "top_sales_per_platform = cleaned_sales_df_platform.sort_values(by='Total Global Sales', ascending=False)\n",
    "top_sales_per_platform.head(15)"
   ]
  },
  {
   "cell_type": "code",
   "execution_count": 25,
   "id": "a968aa64",
   "metadata": {},
   "outputs": [
    {
     "name": "stdout",
     "output_type": "stream",
     "text": [
      "Most Recent Date: 2020\n"
     ]
    }
   ],
   "source": [
    "# Find the document with the maximum date\n",
    "most_recent_document = video_game_sales.find_one(sort=[(\"Year\", pymongo.DESCENDING)])\n",
    "\n",
    "# Extract the most recent date from the document\n",
    "most_recent_date = most_recent_document[\"Year\"]\n",
    "\n",
    "print(\"Most Recent Date:\", most_recent_date)\n"
   ]
  },
  {
   "cell_type": "code",
   "execution_count": 26,
   "id": "6b661310",
   "metadata": {},
   "outputs": [
    {
     "data": {
      "text/html": [
       "<div>\n",
       "<style scoped>\n",
       "    .dataframe tbody tr th:only-of-type {\n",
       "        vertical-align: middle;\n",
       "    }\n",
       "\n",
       "    .dataframe tbody tr th {\n",
       "        vertical-align: top;\n",
       "    }\n",
       "\n",
       "    .dataframe thead th {\n",
       "        text-align: right;\n",
       "    }\n",
       "</style>\n",
       "<table border=\"1\" class=\"dataframe\">\n",
       "  <thead>\n",
       "    <tr style=\"text-align: right;\">\n",
       "      <th></th>\n",
       "      <th>Video Game</th>\n",
       "      <th>Average Rating</th>\n",
       "      <th>Total Global Sales</th>\n",
       "    </tr>\n",
       "  </thead>\n",
       "  <tbody>\n",
       "    <tr>\n",
       "      <th>0</th>\n",
       "      <td>Pryzm Chapter One: The Dark Unicorn</td>\n",
       "      <td>3.60</td>\n",
       "      <td>0.12</td>\n",
       "    </tr>\n",
       "    <tr>\n",
       "      <th>1</th>\n",
       "      <td>Dynasty Warriors 4: Xtreme Legends</td>\n",
       "      <td>8.30</td>\n",
       "      <td>0.86</td>\n",
       "    </tr>\n",
       "    <tr>\n",
       "      <th>2</th>\n",
       "      <td>Mobile Light Force 2</td>\n",
       "      <td>7.20</td>\n",
       "      <td>0.11</td>\n",
       "    </tr>\n",
       "    <tr>\n",
       "      <th>3</th>\n",
       "      <td>Ace Combat 5: The Unsung War</td>\n",
       "      <td>8.90</td>\n",
       "      <td>1.71</td>\n",
       "    </tr>\n",
       "    <tr>\n",
       "      <th>4</th>\n",
       "      <td>Mega Man X: Command Mission</td>\n",
       "      <td>8.60</td>\n",
       "      <td>0.30</td>\n",
       "    </tr>\n",
       "    <tr>\n",
       "      <th>5</th>\n",
       "      <td>Syphon Filter 3</td>\n",
       "      <td>8.60</td>\n",
       "      <td>0.52</td>\n",
       "    </tr>\n",
       "    <tr>\n",
       "      <th>6</th>\n",
       "      <td>Resident Evil: Survivor</td>\n",
       "      <td>6.10</td>\n",
       "      <td>0.71</td>\n",
       "    </tr>\n",
       "    <tr>\n",
       "      <th>7</th>\n",
       "      <td>Jade Cocoon 2</td>\n",
       "      <td>7.90</td>\n",
       "      <td>0.10</td>\n",
       "    </tr>\n",
       "    <tr>\n",
       "      <th>8</th>\n",
       "      <td>The Typing of the Dead</td>\n",
       "      <td>7.60</td>\n",
       "      <td>0.05</td>\n",
       "    </tr>\n",
       "    <tr>\n",
       "      <th>9</th>\n",
       "      <td>Far Cry</td>\n",
       "      <td>8.00</td>\n",
       "      <td>0.05</td>\n",
       "    </tr>\n",
       "    <tr>\n",
       "      <th>10</th>\n",
       "      <td>Borderlands: The Pre-Sequel</td>\n",
       "      <td>6.57</td>\n",
       "      <td>1.71</td>\n",
       "    </tr>\n",
       "    <tr>\n",
       "      <th>11</th>\n",
       "      <td>Platypus</td>\n",
       "      <td>6.30</td>\n",
       "      <td>0.02</td>\n",
       "    </tr>\n",
       "    <tr>\n",
       "      <th>12</th>\n",
       "      <td>Donkey Konga</td>\n",
       "      <td>7.90</td>\n",
       "      <td>1.15</td>\n",
       "    </tr>\n",
       "    <tr>\n",
       "      <th>13</th>\n",
       "      <td>Sorcery Saga: The Curse of the Great Curry God</td>\n",
       "      <td>7.30</td>\n",
       "      <td>0.03</td>\n",
       "    </tr>\n",
       "    <tr>\n",
       "      <th>14</th>\n",
       "      <td>Bejeweled 3</td>\n",
       "      <td>8.05</td>\n",
       "      <td>0.08</td>\n",
       "    </tr>\n",
       "  </tbody>\n",
       "</table>\n",
       "</div>"
      ],
      "text/plain": [
       "                                        Video Game  Average Rating  \\\n",
       "0              Pryzm Chapter One: The Dark Unicorn            3.60   \n",
       "1               Dynasty Warriors 4: Xtreme Legends            8.30   \n",
       "2                             Mobile Light Force 2            7.20   \n",
       "3                     Ace Combat 5: The Unsung War            8.90   \n",
       "4                      Mega Man X: Command Mission            8.60   \n",
       "5                                  Syphon Filter 3            8.60   \n",
       "6                          Resident Evil: Survivor            6.10   \n",
       "7                                    Jade Cocoon 2            7.90   \n",
       "8                           The Typing of the Dead            7.60   \n",
       "9                                          Far Cry            8.00   \n",
       "10                     Borderlands: The Pre-Sequel            6.57   \n",
       "11                                        Platypus            6.30   \n",
       "12                                    Donkey Konga            7.90   \n",
       "13  Sorcery Saga: The Curse of the Great Curry God            7.30   \n",
       "14                                     Bejeweled 3            8.05   \n",
       "\n",
       "    Total Global Sales  \n",
       "0                 0.12  \n",
       "1                 0.86  \n",
       "2                 0.11  \n",
       "3                 1.71  \n",
       "4                 0.30  \n",
       "5                 0.52  \n",
       "6                 0.71  \n",
       "7                 0.10  \n",
       "8                 0.05  \n",
       "9                 0.05  \n",
       "10                1.71  \n",
       "11                0.02  \n",
       "12                1.15  \n",
       "13                0.03  \n",
       "14                0.08  "
      ]
     },
     "execution_count": 26,
     "metadata": {},
     "output_type": "execute_result"
    }
   ],
   "source": [
    "merged_df = pd.merge(cleaned_df, cleaned_sales_df, on='Video Game')\n",
    "# Print the merged DataFrame\n",
    "merged_df.head(15)"
   ]
  },
  {
   "cell_type": "code",
   "execution_count": 27,
   "id": "a08e7224",
   "metadata": {},
   "outputs": [
    {
     "data": {
      "text/html": [
       "<div>\n",
       "<style scoped>\n",
       "    .dataframe tbody tr th:only-of-type {\n",
       "        vertical-align: middle;\n",
       "    }\n",
       "\n",
       "    .dataframe tbody tr th {\n",
       "        vertical-align: top;\n",
       "    }\n",
       "\n",
       "    .dataframe thead th {\n",
       "        text-align: right;\n",
       "    }\n",
       "</style>\n",
       "<table border=\"1\" class=\"dataframe\">\n",
       "  <thead>\n",
       "    <tr style=\"text-align: right;\">\n",
       "      <th></th>\n",
       "      <th>Video Game</th>\n",
       "      <th>Average Rating</th>\n",
       "      <th>Total Global Sales</th>\n",
       "    </tr>\n",
       "  </thead>\n",
       "  <tbody>\n",
       "    <tr>\n",
       "      <th>342</th>\n",
       "      <td>GrimGrimoire</td>\n",
       "      <td>9.70</td>\n",
       "      <td>0.05</td>\n",
       "    </tr>\n",
       "    <tr>\n",
       "      <th>2599</th>\n",
       "      <td>Ghost Trick: Phantom Detective</td>\n",
       "      <td>9.70</td>\n",
       "      <td>0.42</td>\n",
       "    </tr>\n",
       "    <tr>\n",
       "      <th>2515</th>\n",
       "      <td>The Witcher 3: Wild Hunt</td>\n",
       "      <td>9.27</td>\n",
       "      <td>5.64</td>\n",
       "    </tr>\n",
       "    <tr>\n",
       "      <th>1427</th>\n",
       "      <td>Planescape: Torment</td>\n",
       "      <td>9.20</td>\n",
       "      <td>0.04</td>\n",
       "    </tr>\n",
       "    <tr>\n",
       "      <th>2439</th>\n",
       "      <td>The Last of Us</td>\n",
       "      <td>9.20</td>\n",
       "      <td>10.54</td>\n",
       "    </tr>\n",
       "    <tr>\n",
       "      <th>599</th>\n",
       "      <td>Warcraft III: The Frozen Throne</td>\n",
       "      <td>9.20</td>\n",
       "      <td>1.54</td>\n",
       "    </tr>\n",
       "    <tr>\n",
       "      <th>2156</th>\n",
       "      <td>Xenogears</td>\n",
       "      <td>9.20</td>\n",
       "      <td>1.46</td>\n",
       "    </tr>\n",
       "    <tr>\n",
       "      <th>1521</th>\n",
       "      <td>Suikoden II</td>\n",
       "      <td>9.20</td>\n",
       "      <td>0.68</td>\n",
       "    </tr>\n",
       "    <tr>\n",
       "      <th>1733</th>\n",
       "      <td>Deus Ex</td>\n",
       "      <td>9.20</td>\n",
       "      <td>0.01</td>\n",
       "    </tr>\n",
       "    <tr>\n",
       "      <th>3739</th>\n",
       "      <td>Warcraft III: Reign of Chaos</td>\n",
       "      <td>9.20</td>\n",
       "      <td>0.13</td>\n",
       "    </tr>\n",
       "    <tr>\n",
       "      <th>3269</th>\n",
       "      <td>Metal Gear Solid 3: Snake Eater</td>\n",
       "      <td>9.20</td>\n",
       "      <td>4.23</td>\n",
       "    </tr>\n",
       "    <tr>\n",
       "      <th>2391</th>\n",
       "      <td>The Legend of Zelda: Ocarina of Time</td>\n",
       "      <td>9.10</td>\n",
       "      <td>11.81</td>\n",
       "    </tr>\n",
       "    <tr>\n",
       "      <th>1546</th>\n",
       "      <td>Devil May Cry 3: Dante's Awakening</td>\n",
       "      <td>9.10</td>\n",
       "      <td>2.09</td>\n",
       "    </tr>\n",
       "    <tr>\n",
       "      <th>1574</th>\n",
       "      <td>Age of Empires II: The Age of Kings</td>\n",
       "      <td>9.10</td>\n",
       "      <td>0.10</td>\n",
       "    </tr>\n",
       "    <tr>\n",
       "      <th>3545</th>\n",
       "      <td>The Legend of Zelda: Majora's Mask</td>\n",
       "      <td>9.10</td>\n",
       "      <td>3.36</td>\n",
       "    </tr>\n",
       "  </tbody>\n",
       "</table>\n",
       "</div>"
      ],
      "text/plain": [
       "                                Video Game  Average Rating  Total Global Sales\n",
       "342                           GrimGrimoire            9.70                0.05\n",
       "2599        Ghost Trick: Phantom Detective            9.70                0.42\n",
       "2515              The Witcher 3: Wild Hunt            9.27                5.64\n",
       "1427                   Planescape: Torment            9.20                0.04\n",
       "2439                        The Last of Us            9.20               10.54\n",
       "599        Warcraft III: The Frozen Throne            9.20                1.54\n",
       "2156                             Xenogears            9.20                1.46\n",
       "1521                           Suikoden II            9.20                0.68\n",
       "1733                               Deus Ex            9.20                0.01\n",
       "3739          Warcraft III: Reign of Chaos            9.20                0.13\n",
       "3269       Metal Gear Solid 3: Snake Eater            9.20                4.23\n",
       "2391  The Legend of Zelda: Ocarina of Time            9.10               11.81\n",
       "1546    Devil May Cry 3: Dante's Awakening            9.10                2.09\n",
       "1574   Age of Empires II: The Age of Kings            9.10                0.10\n",
       "3545    The Legend of Zelda: Majora's Mask            9.10                3.36"
      ]
     },
     "execution_count": 27,
     "metadata": {},
     "output_type": "execute_result"
    }
   ],
   "source": [
    "top_rating_merged = merged_df.sort_values(by='Average Rating', ascending=False)\n",
    "top_rating_merged.head(15)"
   ]
  },
  {
   "cell_type": "code",
   "execution_count": 28,
   "id": "aeaef074",
   "metadata": {},
   "outputs": [
    {
     "data": {
      "text/html": [
       "<div>\n",
       "<style scoped>\n",
       "    .dataframe tbody tr th:only-of-type {\n",
       "        vertical-align: middle;\n",
       "    }\n",
       "\n",
       "    .dataframe tbody tr th {\n",
       "        vertical-align: top;\n",
       "    }\n",
       "\n",
       "    .dataframe thead th {\n",
       "        text-align: right;\n",
       "    }\n",
       "</style>\n",
       "<table border=\"1\" class=\"dataframe\">\n",
       "  <thead>\n",
       "    <tr style=\"text-align: right;\">\n",
       "      <th></th>\n",
       "      <th>Video Game</th>\n",
       "      <th>Average Rating</th>\n",
       "      <th>Total Global Sales</th>\n",
       "    </tr>\n",
       "  </thead>\n",
       "  <tbody>\n",
       "    <tr>\n",
       "      <th>2773</th>\n",
       "      <td>Wii Sports</td>\n",
       "      <td>8.10</td>\n",
       "      <td>82.74</td>\n",
       "    </tr>\n",
       "    <tr>\n",
       "      <th>1071</th>\n",
       "      <td>Grand Theft Auto V</td>\n",
       "      <td>8.14</td>\n",
       "      <td>55.92</td>\n",
       "    </tr>\n",
       "    <tr>\n",
       "      <th>4079</th>\n",
       "      <td>Tetris</td>\n",
       "      <td>7.50</td>\n",
       "      <td>35.84</td>\n",
       "    </tr>\n",
       "    <tr>\n",
       "      <th>3698</th>\n",
       "      <td>Mario Kart Wii</td>\n",
       "      <td>8.40</td>\n",
       "      <td>35.82</td>\n",
       "    </tr>\n",
       "    <tr>\n",
       "      <th>1626</th>\n",
       "      <td>Wii Sports Resort</td>\n",
       "      <td>8.20</td>\n",
       "      <td>33.00</td>\n",
       "    </tr>\n",
       "    <tr>\n",
       "      <th>2303</th>\n",
       "      <td>Call of Duty: Modern Warfare 3</td>\n",
       "      <td>2.92</td>\n",
       "      <td>30.83</td>\n",
       "    </tr>\n",
       "    <tr>\n",
       "      <th>3075</th>\n",
       "      <td>New Super Mario Bros.</td>\n",
       "      <td>8.50</td>\n",
       "      <td>30.01</td>\n",
       "    </tr>\n",
       "    <tr>\n",
       "      <th>1303</th>\n",
       "      <td>Call of Duty: Black Ops II</td>\n",
       "      <td>5.65</td>\n",
       "      <td>29.72</td>\n",
       "    </tr>\n",
       "    <tr>\n",
       "      <th>4115</th>\n",
       "      <td>Call of Duty: Black Ops</td>\n",
       "      <td>6.36</td>\n",
       "      <td>29.40</td>\n",
       "    </tr>\n",
       "    <tr>\n",
       "      <th>183</th>\n",
       "      <td>Wii Play</td>\n",
       "      <td>6.60</td>\n",
       "      <td>29.02</td>\n",
       "    </tr>\n",
       "    <tr>\n",
       "      <th>1704</th>\n",
       "      <td>New Super Mario Bros. Wii</td>\n",
       "      <td>8.30</td>\n",
       "      <td>28.62</td>\n",
       "    </tr>\n",
       "    <tr>\n",
       "      <th>1601</th>\n",
       "      <td>Call of Duty: Ghosts</td>\n",
       "      <td>3.22</td>\n",
       "      <td>27.38</td>\n",
       "    </tr>\n",
       "    <tr>\n",
       "      <th>2505</th>\n",
       "      <td>Call of Duty: Modern Warfare 2</td>\n",
       "      <td>5.93</td>\n",
       "      <td>25.09</td>\n",
       "    </tr>\n",
       "    <tr>\n",
       "      <th>1362</th>\n",
       "      <td>Grand Theft Auto: San Andreas</td>\n",
       "      <td>8.93</td>\n",
       "      <td>23.86</td>\n",
       "    </tr>\n",
       "    <tr>\n",
       "      <th>3016</th>\n",
       "      <td>Minecraft</td>\n",
       "      <td>7.75</td>\n",
       "      <td>23.73</td>\n",
       "    </tr>\n",
       "  </tbody>\n",
       "</table>\n",
       "</div>"
      ],
      "text/plain": [
       "                          Video Game  Average Rating  Total Global Sales\n",
       "2773                      Wii Sports            8.10               82.74\n",
       "1071              Grand Theft Auto V            8.14               55.92\n",
       "4079                          Tetris            7.50               35.84\n",
       "3698                  Mario Kart Wii            8.40               35.82\n",
       "1626               Wii Sports Resort            8.20               33.00\n",
       "2303  Call of Duty: Modern Warfare 3            2.92               30.83\n",
       "3075           New Super Mario Bros.            8.50               30.01\n",
       "1303      Call of Duty: Black Ops II            5.65               29.72\n",
       "4115         Call of Duty: Black Ops            6.36               29.40\n",
       "183                         Wii Play            6.60               29.02\n",
       "1704       New Super Mario Bros. Wii            8.30               28.62\n",
       "1601            Call of Duty: Ghosts            3.22               27.38\n",
       "2505  Call of Duty: Modern Warfare 2            5.93               25.09\n",
       "1362   Grand Theft Auto: San Andreas            8.93               23.86\n",
       "3016                       Minecraft            7.75               23.73"
      ]
     },
     "execution_count": 28,
     "metadata": {},
     "output_type": "execute_result"
    }
   ],
   "source": [
    "top_sales_merged = merged_df.sort_values(by='Total Global Sales', ascending=False)\n",
    "top_sales_merged.head(15)"
   ]
  },
  {
   "cell_type": "code",
   "execution_count": 31,
   "id": "545b7ad3",
   "metadata": {},
   "outputs": [
    {
     "data": {
      "application/vnd.plotly.v1+json": {
       "config": {
        "plotlyServerURL": "https://plot.ly"
       },
       "data": [
        {
         "hovertemplate": "<b>%{hovertext}</b><br><br>Average Rating=%{x}<br>Total Global Sales (in millions)=%{y}<extra></extra>",
         "hovertext": [
          "Wii Sports",
          "Grand Theft Auto V",
          "Tetris",
          "Mario Kart Wii",
          "Wii Sports Resort",
          "Call of Duty: Modern Warfare 3",
          "New Super Mario Bros.",
          "Call of Duty: Black Ops II",
          "Call of Duty: Black Ops",
          "Wii Play",
          "New Super Mario Bros. Wii",
          "Call of Duty: Ghosts",
          "Call of Duty: Modern Warfare 2",
          "Grand Theft Auto: San Andreas",
          "Minecraft",
          "Mario Kart DS",
          "Wii Fit",
          "Grand Theft Auto IV",
          "Super Mario 64",
          "Wii Fit Plus",
          "Call of Duty: Advanced Warfare",
          "Kinect Adventures!",
          "The Elder Scrolls V: Skyrim",
          "FIFA 15",
          "Call of Duty 4: Modern Warfare",
          "Battlefield 3",
          "FIFA 14",
          "FIFA 16",
          "Guitar Hero III: Legends of Rock",
          "Grand Theft Auto: Vice City",
          "FIFA Soccer 13",
          "Call of Duty: World at War",
          "LEGO Star Wars: The Complete Saga",
          "The Sims 3",
          "Brain Age 2: More Training in Minutes a Day",
          "Gran Turismo 3: A-Spec",
          "Need for Speed: Most Wanted",
          "Battlefield 4",
          "Donkey Kong Country",
          "Mario & Sonic at the Olympic Games",
          "Assassin's Creed IV: Black Flag",
          "Grand Theft Auto III",
          "Assassin's Creed III",
          "Super Smash Bros. Brawl",
          "Red Dead Redemption",
          "Just Dance 3",
          "Destiny",
          "FIFA Soccer 11",
          "Fallout 4",
          "Animal Crossing: Wild World"
         ],
         "legendgroup": "",
         "marker": {
          "color": "#636efa",
          "symbol": "circle"
         },
         "mode": "markers",
         "name": "",
         "orientation": "v",
         "showlegend": false,
         "type": "scatter",
         "x": [
          8.1,
          8.14,
          7.5,
          8.4,
          8.2,
          2.92,
          8.5,
          5.65,
          6.36,
          6.6,
          8.3,
          3.22,
          5.93,
          8.93,
          7.75,
          8.7,
          7.7,
          7.53,
          9.1,
          7.5,
          5.33,
          6.3,
          8,
          5.17,
          7.9,
          7.53,
          5.2,
          4.47,
          7.98,
          8.8,
          6,
          7.58,
          7.55,
          6.24,
          7.2,
          8.4,
          8.6,
          6.22,
          8.6,
          7.4,
          8,
          8.3,
          6.82,
          8.8,
          8.95,
          7.85,
          5.8,
          7.42,
          6.27,
          8.5
         ],
         "xaxis": "x",
         "y": [
          82.74,
          55.92,
          35.84,
          35.82,
          33,
          30.830000000000002,
          30.01,
          29.72,
          29.400000000000002,
          29.02,
          28.62,
          27.38,
          25.09,
          23.86,
          23.73,
          23.42,
          22.72,
          22.47,
          22.310000000000002,
          22,
          21.9,
          21.82,
          19.28,
          19.02,
          18.25,
          17.36,
          17.14,
          16.44,
          16.400000000000002,
          16.189999999999998,
          16.16,
          15.87,
          15.75,
          15.45,
          15.3,
          14.98,
          14.08,
          14.03,
          13.530000000000001,
          13.2,
          13.16,
          13.11,
          13.1,
          13.04,
          12.94,
          12.92,
          12.61,
          12.56,
          12.28,
          12.27
         ],
         "yaxis": "y"
        }
       ],
       "layout": {
        "legend": {
         "tracegroupgap": 0
        },
        "margin": {
         "b": 0,
         "l": 0,
         "r": 0,
         "t": 30
        },
        "showlegend": false,
        "template": {
         "data": {
          "bar": [
           {
            "error_x": {
             "color": "#2a3f5f"
            },
            "error_y": {
             "color": "#2a3f5f"
            },
            "marker": {
             "line": {
              "color": "#E5ECF6",
              "width": 0.5
             },
             "pattern": {
              "fillmode": "overlay",
              "size": 10,
              "solidity": 0.2
             }
            },
            "type": "bar"
           }
          ],
          "barpolar": [
           {
            "marker": {
             "line": {
              "color": "#E5ECF6",
              "width": 0.5
             },
             "pattern": {
              "fillmode": "overlay",
              "size": 10,
              "solidity": 0.2
             }
            },
            "type": "barpolar"
           }
          ],
          "carpet": [
           {
            "aaxis": {
             "endlinecolor": "#2a3f5f",
             "gridcolor": "white",
             "linecolor": "white",
             "minorgridcolor": "white",
             "startlinecolor": "#2a3f5f"
            },
            "baxis": {
             "endlinecolor": "#2a3f5f",
             "gridcolor": "white",
             "linecolor": "white",
             "minorgridcolor": "white",
             "startlinecolor": "#2a3f5f"
            },
            "type": "carpet"
           }
          ],
          "choropleth": [
           {
            "colorbar": {
             "outlinewidth": 0,
             "ticks": ""
            },
            "type": "choropleth"
           }
          ],
          "contour": [
           {
            "colorbar": {
             "outlinewidth": 0,
             "ticks": ""
            },
            "colorscale": [
             [
              0,
              "#0d0887"
             ],
             [
              0.1111111111111111,
              "#46039f"
             ],
             [
              0.2222222222222222,
              "#7201a8"
             ],
             [
              0.3333333333333333,
              "#9c179e"
             ],
             [
              0.4444444444444444,
              "#bd3786"
             ],
             [
              0.5555555555555556,
              "#d8576b"
             ],
             [
              0.6666666666666666,
              "#ed7953"
             ],
             [
              0.7777777777777778,
              "#fb9f3a"
             ],
             [
              0.8888888888888888,
              "#fdca26"
             ],
             [
              1,
              "#f0f921"
             ]
            ],
            "type": "contour"
           }
          ],
          "contourcarpet": [
           {
            "colorbar": {
             "outlinewidth": 0,
             "ticks": ""
            },
            "type": "contourcarpet"
           }
          ],
          "heatmap": [
           {
            "colorbar": {
             "outlinewidth": 0,
             "ticks": ""
            },
            "colorscale": [
             [
              0,
              "#0d0887"
             ],
             [
              0.1111111111111111,
              "#46039f"
             ],
             [
              0.2222222222222222,
              "#7201a8"
             ],
             [
              0.3333333333333333,
              "#9c179e"
             ],
             [
              0.4444444444444444,
              "#bd3786"
             ],
             [
              0.5555555555555556,
              "#d8576b"
             ],
             [
              0.6666666666666666,
              "#ed7953"
             ],
             [
              0.7777777777777778,
              "#fb9f3a"
             ],
             [
              0.8888888888888888,
              "#fdca26"
             ],
             [
              1,
              "#f0f921"
             ]
            ],
            "type": "heatmap"
           }
          ],
          "heatmapgl": [
           {
            "colorbar": {
             "outlinewidth": 0,
             "ticks": ""
            },
            "colorscale": [
             [
              0,
              "#0d0887"
             ],
             [
              0.1111111111111111,
              "#46039f"
             ],
             [
              0.2222222222222222,
              "#7201a8"
             ],
             [
              0.3333333333333333,
              "#9c179e"
             ],
             [
              0.4444444444444444,
              "#bd3786"
             ],
             [
              0.5555555555555556,
              "#d8576b"
             ],
             [
              0.6666666666666666,
              "#ed7953"
             ],
             [
              0.7777777777777778,
              "#fb9f3a"
             ],
             [
              0.8888888888888888,
              "#fdca26"
             ],
             [
              1,
              "#f0f921"
             ]
            ],
            "type": "heatmapgl"
           }
          ],
          "histogram": [
           {
            "marker": {
             "pattern": {
              "fillmode": "overlay",
              "size": 10,
              "solidity": 0.2
             }
            },
            "type": "histogram"
           }
          ],
          "histogram2d": [
           {
            "colorbar": {
             "outlinewidth": 0,
             "ticks": ""
            },
            "colorscale": [
             [
              0,
              "#0d0887"
             ],
             [
              0.1111111111111111,
              "#46039f"
             ],
             [
              0.2222222222222222,
              "#7201a8"
             ],
             [
              0.3333333333333333,
              "#9c179e"
             ],
             [
              0.4444444444444444,
              "#bd3786"
             ],
             [
              0.5555555555555556,
              "#d8576b"
             ],
             [
              0.6666666666666666,
              "#ed7953"
             ],
             [
              0.7777777777777778,
              "#fb9f3a"
             ],
             [
              0.8888888888888888,
              "#fdca26"
             ],
             [
              1,
              "#f0f921"
             ]
            ],
            "type": "histogram2d"
           }
          ],
          "histogram2dcontour": [
           {
            "colorbar": {
             "outlinewidth": 0,
             "ticks": ""
            },
            "colorscale": [
             [
              0,
              "#0d0887"
             ],
             [
              0.1111111111111111,
              "#46039f"
             ],
             [
              0.2222222222222222,
              "#7201a8"
             ],
             [
              0.3333333333333333,
              "#9c179e"
             ],
             [
              0.4444444444444444,
              "#bd3786"
             ],
             [
              0.5555555555555556,
              "#d8576b"
             ],
             [
              0.6666666666666666,
              "#ed7953"
             ],
             [
              0.7777777777777778,
              "#fb9f3a"
             ],
             [
              0.8888888888888888,
              "#fdca26"
             ],
             [
              1,
              "#f0f921"
             ]
            ],
            "type": "histogram2dcontour"
           }
          ],
          "mesh3d": [
           {
            "colorbar": {
             "outlinewidth": 0,
             "ticks": ""
            },
            "type": "mesh3d"
           }
          ],
          "parcoords": [
           {
            "line": {
             "colorbar": {
              "outlinewidth": 0,
              "ticks": ""
             }
            },
            "type": "parcoords"
           }
          ],
          "pie": [
           {
            "automargin": true,
            "type": "pie"
           }
          ],
          "scatter": [
           {
            "fillpattern": {
             "fillmode": "overlay",
             "size": 10,
             "solidity": 0.2
            },
            "type": "scatter"
           }
          ],
          "scatter3d": [
           {
            "line": {
             "colorbar": {
              "outlinewidth": 0,
              "ticks": ""
             }
            },
            "marker": {
             "colorbar": {
              "outlinewidth": 0,
              "ticks": ""
             }
            },
            "type": "scatter3d"
           }
          ],
          "scattercarpet": [
           {
            "marker": {
             "colorbar": {
              "outlinewidth": 0,
              "ticks": ""
             }
            },
            "type": "scattercarpet"
           }
          ],
          "scattergeo": [
           {
            "marker": {
             "colorbar": {
              "outlinewidth": 0,
              "ticks": ""
             }
            },
            "type": "scattergeo"
           }
          ],
          "scattergl": [
           {
            "marker": {
             "colorbar": {
              "outlinewidth": 0,
              "ticks": ""
             }
            },
            "type": "scattergl"
           }
          ],
          "scattermapbox": [
           {
            "marker": {
             "colorbar": {
              "outlinewidth": 0,
              "ticks": ""
             }
            },
            "type": "scattermapbox"
           }
          ],
          "scatterpolar": [
           {
            "marker": {
             "colorbar": {
              "outlinewidth": 0,
              "ticks": ""
             }
            },
            "type": "scatterpolar"
           }
          ],
          "scatterpolargl": [
           {
            "marker": {
             "colorbar": {
              "outlinewidth": 0,
              "ticks": ""
             }
            },
            "type": "scatterpolargl"
           }
          ],
          "scatterternary": [
           {
            "marker": {
             "colorbar": {
              "outlinewidth": 0,
              "ticks": ""
             }
            },
            "type": "scatterternary"
           }
          ],
          "surface": [
           {
            "colorbar": {
             "outlinewidth": 0,
             "ticks": ""
            },
            "colorscale": [
             [
              0,
              "#0d0887"
             ],
             [
              0.1111111111111111,
              "#46039f"
             ],
             [
              0.2222222222222222,
              "#7201a8"
             ],
             [
              0.3333333333333333,
              "#9c179e"
             ],
             [
              0.4444444444444444,
              "#bd3786"
             ],
             [
              0.5555555555555556,
              "#d8576b"
             ],
             [
              0.6666666666666666,
              "#ed7953"
             ],
             [
              0.7777777777777778,
              "#fb9f3a"
             ],
             [
              0.8888888888888888,
              "#fdca26"
             ],
             [
              1,
              "#f0f921"
             ]
            ],
            "type": "surface"
           }
          ],
          "table": [
           {
            "cells": {
             "fill": {
              "color": "#EBF0F8"
             },
             "line": {
              "color": "white"
             }
            },
            "header": {
             "fill": {
              "color": "#C8D4E3"
             },
             "line": {
              "color": "white"
             }
            },
            "type": "table"
           }
          ]
         },
         "layout": {
          "annotationdefaults": {
           "arrowcolor": "#2a3f5f",
           "arrowhead": 0,
           "arrowwidth": 1
          },
          "autotypenumbers": "strict",
          "coloraxis": {
           "colorbar": {
            "outlinewidth": 0,
            "ticks": ""
           }
          },
          "colorscale": {
           "diverging": [
            [
             0,
             "#8e0152"
            ],
            [
             0.1,
             "#c51b7d"
            ],
            [
             0.2,
             "#de77ae"
            ],
            [
             0.3,
             "#f1b6da"
            ],
            [
             0.4,
             "#fde0ef"
            ],
            [
             0.5,
             "#f7f7f7"
            ],
            [
             0.6,
             "#e6f5d0"
            ],
            [
             0.7,
             "#b8e186"
            ],
            [
             0.8,
             "#7fbc41"
            ],
            [
             0.9,
             "#4d9221"
            ],
            [
             1,
             "#276419"
            ]
           ],
           "sequential": [
            [
             0,
             "#0d0887"
            ],
            [
             0.1111111111111111,
             "#46039f"
            ],
            [
             0.2222222222222222,
             "#7201a8"
            ],
            [
             0.3333333333333333,
             "#9c179e"
            ],
            [
             0.4444444444444444,
             "#bd3786"
            ],
            [
             0.5555555555555556,
             "#d8576b"
            ],
            [
             0.6666666666666666,
             "#ed7953"
            ],
            [
             0.7777777777777778,
             "#fb9f3a"
            ],
            [
             0.8888888888888888,
             "#fdca26"
            ],
            [
             1,
             "#f0f921"
            ]
           ],
           "sequentialminus": [
            [
             0,
             "#0d0887"
            ],
            [
             0.1111111111111111,
             "#46039f"
            ],
            [
             0.2222222222222222,
             "#7201a8"
            ],
            [
             0.3333333333333333,
             "#9c179e"
            ],
            [
             0.4444444444444444,
             "#bd3786"
            ],
            [
             0.5555555555555556,
             "#d8576b"
            ],
            [
             0.6666666666666666,
             "#ed7953"
            ],
            [
             0.7777777777777778,
             "#fb9f3a"
            ],
            [
             0.8888888888888888,
             "#fdca26"
            ],
            [
             1,
             "#f0f921"
            ]
           ]
          },
          "colorway": [
           "#636efa",
           "#EF553B",
           "#00cc96",
           "#ab63fa",
           "#FFA15A",
           "#19d3f3",
           "#FF6692",
           "#B6E880",
           "#FF97FF",
           "#FECB52"
          ],
          "font": {
           "color": "#2a3f5f"
          },
          "geo": {
           "bgcolor": "white",
           "lakecolor": "white",
           "landcolor": "#E5ECF6",
           "showlakes": true,
           "showland": true,
           "subunitcolor": "white"
          },
          "hoverlabel": {
           "align": "left"
          },
          "hovermode": "closest",
          "mapbox": {
           "style": "light"
          },
          "paper_bgcolor": "white",
          "plot_bgcolor": "#E5ECF6",
          "polar": {
           "angularaxis": {
            "gridcolor": "white",
            "linecolor": "white",
            "ticks": ""
           },
           "bgcolor": "#E5ECF6",
           "radialaxis": {
            "gridcolor": "white",
            "linecolor": "white",
            "ticks": ""
           }
          },
          "scene": {
           "xaxis": {
            "backgroundcolor": "#E5ECF6",
            "gridcolor": "white",
            "gridwidth": 2,
            "linecolor": "white",
            "showbackground": true,
            "ticks": "",
            "zerolinecolor": "white"
           },
           "yaxis": {
            "backgroundcolor": "#E5ECF6",
            "gridcolor": "white",
            "gridwidth": 2,
            "linecolor": "white",
            "showbackground": true,
            "ticks": "",
            "zerolinecolor": "white"
           },
           "zaxis": {
            "backgroundcolor": "#E5ECF6",
            "gridcolor": "white",
            "gridwidth": 2,
            "linecolor": "white",
            "showbackground": true,
            "ticks": "",
            "zerolinecolor": "white"
           }
          },
          "shapedefaults": {
           "line": {
            "color": "#2a3f5f"
           }
          },
          "ternary": {
           "aaxis": {
            "gridcolor": "white",
            "linecolor": "white",
            "ticks": ""
           },
           "baxis": {
            "gridcolor": "white",
            "linecolor": "white",
            "ticks": ""
           },
           "bgcolor": "#E5ECF6",
           "caxis": {
            "gridcolor": "white",
            "linecolor": "white",
            "ticks": ""
           }
          },
          "title": {
           "x": 0.05
          },
          "xaxis": {
           "automargin": true,
           "gridcolor": "white",
           "linecolor": "white",
           "ticks": "",
           "title": {
            "standoff": 15
           },
           "zerolinecolor": "white",
           "zerolinewidth": 2
          },
          "yaxis": {
           "automargin": true,
           "gridcolor": "white",
           "linecolor": "white",
           "ticks": "",
           "title": {
            "standoff": 15
           },
           "zerolinecolor": "white",
           "zerolinewidth": 2
          }
         }
        },
        "title": {
         "text": "Video Game Rating vs Global Sales"
        },
        "xaxis": {
         "anchor": "y",
         "domain": [
          0,
          1
         ],
         "title": {
          "text": "Average Rating"
         }
        },
        "yaxis": {
         "anchor": "x",
         "domain": [
          0,
          1
         ],
         "title": {
          "text": "Total Global Sales (in millions)"
         }
        }
       }
      },
      "text/html": [
       "<div>                            <div id=\"d765f2e4-fc2e-4270-9906-0c376a0f9fa7\" class=\"plotly-graph-div\" style=\"height:525px; width:100%;\"></div>            <script type=\"text/javascript\">                require([\"plotly\"], function(Plotly) {                    window.PLOTLYENV=window.PLOTLYENV || {};                                    if (document.getElementById(\"d765f2e4-fc2e-4270-9906-0c376a0f9fa7\")) {                    Plotly.newPlot(                        \"d765f2e4-fc2e-4270-9906-0c376a0f9fa7\",                        [{\"hovertemplate\":\"<b>%{hovertext}</b><br><br>Average Rating=%{x}<br>Total Global Sales (in millions)=%{y}<extra></extra>\",\"hovertext\":[\"Wii Sports\",\"Grand Theft Auto V\",\"Tetris\",\"Mario Kart Wii\",\"Wii Sports Resort\",\"Call of Duty: Modern Warfare 3\",\"New Super Mario Bros.\",\"Call of Duty: Black Ops II\",\"Call of Duty: Black Ops\",\"Wii Play\",\"New Super Mario Bros. Wii\",\"Call of Duty: Ghosts\",\"Call of Duty: Modern Warfare 2\",\"Grand Theft Auto: San Andreas\",\"Minecraft\",\"Mario Kart DS\",\"Wii Fit\",\"Grand Theft Auto IV\",\"Super Mario 64\",\"Wii Fit Plus\",\"Call of Duty: Advanced Warfare\",\"Kinect Adventures!\",\"The Elder Scrolls V: Skyrim\",\"FIFA 15\",\"Call of Duty 4: Modern Warfare\",\"Battlefield 3\",\"FIFA 14\",\"FIFA 16\",\"Guitar Hero III: Legends of Rock\",\"Grand Theft Auto: Vice City\",\"FIFA Soccer 13\",\"Call of Duty: World at War\",\"LEGO Star Wars: The Complete Saga\",\"The Sims 3\",\"Brain Age 2: More Training in Minutes a Day\",\"Gran Turismo 3: A-Spec\",\"Need for Speed: Most Wanted\",\"Battlefield 4\",\"Donkey Kong Country\",\"Mario & Sonic at the Olympic Games\",\"Assassin's Creed IV: Black Flag\",\"Grand Theft Auto III\",\"Assassin's Creed III\",\"Super Smash Bros. Brawl\",\"Red Dead Redemption\",\"Just Dance 3\",\"Destiny\",\"FIFA Soccer 11\",\"Fallout 4\",\"Animal Crossing: Wild World\"],\"legendgroup\":\"\",\"marker\":{\"color\":\"#636efa\",\"symbol\":\"circle\"},\"mode\":\"markers\",\"name\":\"\",\"orientation\":\"v\",\"showlegend\":false,\"x\":[8.1,8.14,7.5,8.4,8.2,2.92,8.5,5.65,6.36,6.6,8.3,3.22,5.93,8.93,7.75,8.7,7.7,7.53,9.1,7.5,5.33,6.3,8.0,5.17,7.9,7.53,5.2,4.47,7.98,8.8,6.0,7.58,7.55,6.24,7.2,8.4,8.6,6.22,8.6,7.4,8.0,8.3,6.82,8.8,8.95,7.85,5.8,7.42,6.27,8.5],\"xaxis\":\"x\",\"y\":[82.74,55.92,35.84,35.82,33.0,30.830000000000002,30.01,29.72,29.400000000000002,29.02,28.62,27.38,25.09,23.86,23.73,23.42,22.72,22.47,22.310000000000002,22.0,21.9,21.82,19.28,19.02,18.25,17.36,17.14,16.44,16.400000000000002,16.189999999999998,16.16,15.87,15.75,15.45,15.3,14.98,14.08,14.03,13.530000000000001,13.2,13.16,13.11,13.1,13.04,12.94,12.92,12.61,12.56,12.28,12.27],\"yaxis\":\"y\",\"type\":\"scatter\"}],                        {\"template\":{\"data\":{\"histogram2dcontour\":[{\"type\":\"histogram2dcontour\",\"colorbar\":{\"outlinewidth\":0,\"ticks\":\"\"},\"colorscale\":[[0.0,\"#0d0887\"],[0.1111111111111111,\"#46039f\"],[0.2222222222222222,\"#7201a8\"],[0.3333333333333333,\"#9c179e\"],[0.4444444444444444,\"#bd3786\"],[0.5555555555555556,\"#d8576b\"],[0.6666666666666666,\"#ed7953\"],[0.7777777777777778,\"#fb9f3a\"],[0.8888888888888888,\"#fdca26\"],[1.0,\"#f0f921\"]]}],\"choropleth\":[{\"type\":\"choropleth\",\"colorbar\":{\"outlinewidth\":0,\"ticks\":\"\"}}],\"histogram2d\":[{\"type\":\"histogram2d\",\"colorbar\":{\"outlinewidth\":0,\"ticks\":\"\"},\"colorscale\":[[0.0,\"#0d0887\"],[0.1111111111111111,\"#46039f\"],[0.2222222222222222,\"#7201a8\"],[0.3333333333333333,\"#9c179e\"],[0.4444444444444444,\"#bd3786\"],[0.5555555555555556,\"#d8576b\"],[0.6666666666666666,\"#ed7953\"],[0.7777777777777778,\"#fb9f3a\"],[0.8888888888888888,\"#fdca26\"],[1.0,\"#f0f921\"]]}],\"heatmap\":[{\"type\":\"heatmap\",\"colorbar\":{\"outlinewidth\":0,\"ticks\":\"\"},\"colorscale\":[[0.0,\"#0d0887\"],[0.1111111111111111,\"#46039f\"],[0.2222222222222222,\"#7201a8\"],[0.3333333333333333,\"#9c179e\"],[0.4444444444444444,\"#bd3786\"],[0.5555555555555556,\"#d8576b\"],[0.6666666666666666,\"#ed7953\"],[0.7777777777777778,\"#fb9f3a\"],[0.8888888888888888,\"#fdca26\"],[1.0,\"#f0f921\"]]}],\"heatmapgl\":[{\"type\":\"heatmapgl\",\"colorbar\":{\"outlinewidth\":0,\"ticks\":\"\"},\"colorscale\":[[0.0,\"#0d0887\"],[0.1111111111111111,\"#46039f\"],[0.2222222222222222,\"#7201a8\"],[0.3333333333333333,\"#9c179e\"],[0.4444444444444444,\"#bd3786\"],[0.5555555555555556,\"#d8576b\"],[0.6666666666666666,\"#ed7953\"],[0.7777777777777778,\"#fb9f3a\"],[0.8888888888888888,\"#fdca26\"],[1.0,\"#f0f921\"]]}],\"contourcarpet\":[{\"type\":\"contourcarpet\",\"colorbar\":{\"outlinewidth\":0,\"ticks\":\"\"}}],\"contour\":[{\"type\":\"contour\",\"colorbar\":{\"outlinewidth\":0,\"ticks\":\"\"},\"colorscale\":[[0.0,\"#0d0887\"],[0.1111111111111111,\"#46039f\"],[0.2222222222222222,\"#7201a8\"],[0.3333333333333333,\"#9c179e\"],[0.4444444444444444,\"#bd3786\"],[0.5555555555555556,\"#d8576b\"],[0.6666666666666666,\"#ed7953\"],[0.7777777777777778,\"#fb9f3a\"],[0.8888888888888888,\"#fdca26\"],[1.0,\"#f0f921\"]]}],\"surface\":[{\"type\":\"surface\",\"colorbar\":{\"outlinewidth\":0,\"ticks\":\"\"},\"colorscale\":[[0.0,\"#0d0887\"],[0.1111111111111111,\"#46039f\"],[0.2222222222222222,\"#7201a8\"],[0.3333333333333333,\"#9c179e\"],[0.4444444444444444,\"#bd3786\"],[0.5555555555555556,\"#d8576b\"],[0.6666666666666666,\"#ed7953\"],[0.7777777777777778,\"#fb9f3a\"],[0.8888888888888888,\"#fdca26\"],[1.0,\"#f0f921\"]]}],\"mesh3d\":[{\"type\":\"mesh3d\",\"colorbar\":{\"outlinewidth\":0,\"ticks\":\"\"}}],\"scatter\":[{\"fillpattern\":{\"fillmode\":\"overlay\",\"size\":10,\"solidity\":0.2},\"type\":\"scatter\"}],\"parcoords\":[{\"type\":\"parcoords\",\"line\":{\"colorbar\":{\"outlinewidth\":0,\"ticks\":\"\"}}}],\"scatterpolargl\":[{\"type\":\"scatterpolargl\",\"marker\":{\"colorbar\":{\"outlinewidth\":0,\"ticks\":\"\"}}}],\"bar\":[{\"error_x\":{\"color\":\"#2a3f5f\"},\"error_y\":{\"color\":\"#2a3f5f\"},\"marker\":{\"line\":{\"color\":\"#E5ECF6\",\"width\":0.5},\"pattern\":{\"fillmode\":\"overlay\",\"size\":10,\"solidity\":0.2}},\"type\":\"bar\"}],\"scattergeo\":[{\"type\":\"scattergeo\",\"marker\":{\"colorbar\":{\"outlinewidth\":0,\"ticks\":\"\"}}}],\"scatterpolar\":[{\"type\":\"scatterpolar\",\"marker\":{\"colorbar\":{\"outlinewidth\":0,\"ticks\":\"\"}}}],\"histogram\":[{\"marker\":{\"pattern\":{\"fillmode\":\"overlay\",\"size\":10,\"solidity\":0.2}},\"type\":\"histogram\"}],\"scattergl\":[{\"type\":\"scattergl\",\"marker\":{\"colorbar\":{\"outlinewidth\":0,\"ticks\":\"\"}}}],\"scatter3d\":[{\"type\":\"scatter3d\",\"line\":{\"colorbar\":{\"outlinewidth\":0,\"ticks\":\"\"}},\"marker\":{\"colorbar\":{\"outlinewidth\":0,\"ticks\":\"\"}}}],\"scattermapbox\":[{\"type\":\"scattermapbox\",\"marker\":{\"colorbar\":{\"outlinewidth\":0,\"ticks\":\"\"}}}],\"scatterternary\":[{\"type\":\"scatterternary\",\"marker\":{\"colorbar\":{\"outlinewidth\":0,\"ticks\":\"\"}}}],\"scattercarpet\":[{\"type\":\"scattercarpet\",\"marker\":{\"colorbar\":{\"outlinewidth\":0,\"ticks\":\"\"}}}],\"carpet\":[{\"aaxis\":{\"endlinecolor\":\"#2a3f5f\",\"gridcolor\":\"white\",\"linecolor\":\"white\",\"minorgridcolor\":\"white\",\"startlinecolor\":\"#2a3f5f\"},\"baxis\":{\"endlinecolor\":\"#2a3f5f\",\"gridcolor\":\"white\",\"linecolor\":\"white\",\"minorgridcolor\":\"white\",\"startlinecolor\":\"#2a3f5f\"},\"type\":\"carpet\"}],\"table\":[{\"cells\":{\"fill\":{\"color\":\"#EBF0F8\"},\"line\":{\"color\":\"white\"}},\"header\":{\"fill\":{\"color\":\"#C8D4E3\"},\"line\":{\"color\":\"white\"}},\"type\":\"table\"}],\"barpolar\":[{\"marker\":{\"line\":{\"color\":\"#E5ECF6\",\"width\":0.5},\"pattern\":{\"fillmode\":\"overlay\",\"size\":10,\"solidity\":0.2}},\"type\":\"barpolar\"}],\"pie\":[{\"automargin\":true,\"type\":\"pie\"}]},\"layout\":{\"autotypenumbers\":\"strict\",\"colorway\":[\"#636efa\",\"#EF553B\",\"#00cc96\",\"#ab63fa\",\"#FFA15A\",\"#19d3f3\",\"#FF6692\",\"#B6E880\",\"#FF97FF\",\"#FECB52\"],\"font\":{\"color\":\"#2a3f5f\"},\"hovermode\":\"closest\",\"hoverlabel\":{\"align\":\"left\"},\"paper_bgcolor\":\"white\",\"plot_bgcolor\":\"#E5ECF6\",\"polar\":{\"bgcolor\":\"#E5ECF6\",\"angularaxis\":{\"gridcolor\":\"white\",\"linecolor\":\"white\",\"ticks\":\"\"},\"radialaxis\":{\"gridcolor\":\"white\",\"linecolor\":\"white\",\"ticks\":\"\"}},\"ternary\":{\"bgcolor\":\"#E5ECF6\",\"aaxis\":{\"gridcolor\":\"white\",\"linecolor\":\"white\",\"ticks\":\"\"},\"baxis\":{\"gridcolor\":\"white\",\"linecolor\":\"white\",\"ticks\":\"\"},\"caxis\":{\"gridcolor\":\"white\",\"linecolor\":\"white\",\"ticks\":\"\"}},\"coloraxis\":{\"colorbar\":{\"outlinewidth\":0,\"ticks\":\"\"}},\"colorscale\":{\"sequential\":[[0.0,\"#0d0887\"],[0.1111111111111111,\"#46039f\"],[0.2222222222222222,\"#7201a8\"],[0.3333333333333333,\"#9c179e\"],[0.4444444444444444,\"#bd3786\"],[0.5555555555555556,\"#d8576b\"],[0.6666666666666666,\"#ed7953\"],[0.7777777777777778,\"#fb9f3a\"],[0.8888888888888888,\"#fdca26\"],[1.0,\"#f0f921\"]],\"sequentialminus\":[[0.0,\"#0d0887\"],[0.1111111111111111,\"#46039f\"],[0.2222222222222222,\"#7201a8\"],[0.3333333333333333,\"#9c179e\"],[0.4444444444444444,\"#bd3786\"],[0.5555555555555556,\"#d8576b\"],[0.6666666666666666,\"#ed7953\"],[0.7777777777777778,\"#fb9f3a\"],[0.8888888888888888,\"#fdca26\"],[1.0,\"#f0f921\"]],\"diverging\":[[0,\"#8e0152\"],[0.1,\"#c51b7d\"],[0.2,\"#de77ae\"],[0.3,\"#f1b6da\"],[0.4,\"#fde0ef\"],[0.5,\"#f7f7f7\"],[0.6,\"#e6f5d0\"],[0.7,\"#b8e186\"],[0.8,\"#7fbc41\"],[0.9,\"#4d9221\"],[1,\"#276419\"]]},\"xaxis\":{\"gridcolor\":\"white\",\"linecolor\":\"white\",\"ticks\":\"\",\"title\":{\"standoff\":15},\"zerolinecolor\":\"white\",\"automargin\":true,\"zerolinewidth\":2},\"yaxis\":{\"gridcolor\":\"white\",\"linecolor\":\"white\",\"ticks\":\"\",\"title\":{\"standoff\":15},\"zerolinecolor\":\"white\",\"automargin\":true,\"zerolinewidth\":2},\"scene\":{\"xaxis\":{\"backgroundcolor\":\"#E5ECF6\",\"gridcolor\":\"white\",\"linecolor\":\"white\",\"showbackground\":true,\"ticks\":\"\",\"zerolinecolor\":\"white\",\"gridwidth\":2},\"yaxis\":{\"backgroundcolor\":\"#E5ECF6\",\"gridcolor\":\"white\",\"linecolor\":\"white\",\"showbackground\":true,\"ticks\":\"\",\"zerolinecolor\":\"white\",\"gridwidth\":2},\"zaxis\":{\"backgroundcolor\":\"#E5ECF6\",\"gridcolor\":\"white\",\"linecolor\":\"white\",\"showbackground\":true,\"ticks\":\"\",\"zerolinecolor\":\"white\",\"gridwidth\":2}},\"shapedefaults\":{\"line\":{\"color\":\"#2a3f5f\"}},\"annotationdefaults\":{\"arrowcolor\":\"#2a3f5f\",\"arrowhead\":0,\"arrowwidth\":1},\"geo\":{\"bgcolor\":\"white\",\"landcolor\":\"#E5ECF6\",\"subunitcolor\":\"white\",\"showland\":true,\"showlakes\":true,\"lakecolor\":\"white\"},\"title\":{\"x\":0.05},\"mapbox\":{\"style\":\"light\"}}},\"xaxis\":{\"anchor\":\"y\",\"domain\":[0.0,1.0],\"title\":{\"text\":\"Average Rating\"}},\"yaxis\":{\"anchor\":\"x\",\"domain\":[0.0,1.0],\"title\":{\"text\":\"Total Global Sales (in millions)\"}},\"legend\":{\"tracegroupgap\":0},\"title\":{\"text\":\"Video Game Rating vs Global Sales\"},\"margin\":{\"l\":0,\"r\":0,\"t\":30,\"b\":0},\"showlegend\":false},                        {\"responsive\": true}                    ).then(function(){\n",
       "                            \n",
       "var gd = document.getElementById('d765f2e4-fc2e-4270-9906-0c376a0f9fa7');\n",
       "var x = new MutationObserver(function (mutations, observer) {{\n",
       "        var display = window.getComputedStyle(gd).display;\n",
       "        if (!display || display === 'none') {{\n",
       "            console.log([gd, 'removed!']);\n",
       "            Plotly.purge(gd);\n",
       "            observer.disconnect();\n",
       "        }}\n",
       "}});\n",
       "\n",
       "// Listen for the removal of the full notebook cells\n",
       "var notebookContainer = gd.closest('#notebook-container');\n",
       "if (notebookContainer) {{\n",
       "    x.observe(notebookContainer, {childList: true});\n",
       "}}\n",
       "\n",
       "// Listen for the clearing of the current output cell\n",
       "var outputEl = gd.closest('.output');\n",
       "if (outputEl) {{\n",
       "    x.observe(outputEl, {childList: true});\n",
       "}}\n",
       "\n",
       "                        })                };                });            </script>        </div>"
      ]
     },
     "metadata": {},
     "output_type": "display_data"
    }
   ],
   "source": [
    "fig = px.scatter(top_sales_merged.head(50), x='Average Rating', y='Total Global Sales',\n",
    "                 title='Video Game Rating vs Global Sales',\n",
    "                 labels={'Average Rating': 'Average Rating', 'Total Global Sales': 'Total Global Sales (in millions)'},\n",
    "                 hover_name='Video Game', size_max=60)\n",
    "fig.update_layout(\n",
    "    showlegend=False,  # Remove the legend\n",
    "    margin=dict(l=0, r=0, t=30, b=0),  # Adjust margin\n",
    ")\n",
    "# Show the plot\n",
    "fig.show()"
   ]
  },
  {
   "cell_type": "code",
   "execution_count": null,
   "id": "639d6596",
   "metadata": {},
   "outputs": [],
   "source": []
  }
 ],
 "metadata": {
  "kernelspec": {
   "display_name": "Python 3 (ipykernel)",
   "language": "python",
   "name": "python3"
  },
  "language_info": {
   "codemirror_mode": {
    "name": "ipython",
    "version": 3
   },
   "file_extension": ".py",
   "mimetype": "text/x-python",
   "name": "python",
   "nbconvert_exporter": "python",
   "pygments_lexer": "ipython3",
   "version": "3.11.4"
  }
 },
 "nbformat": 4,
 "nbformat_minor": 5
}
